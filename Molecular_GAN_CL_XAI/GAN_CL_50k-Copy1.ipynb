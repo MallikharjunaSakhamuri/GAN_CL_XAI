{
 "cells": [
  {
   "cell_type": "code",
   "execution_count": 1,
   "id": "5379f427",
   "metadata": {},
   "outputs": [
    {
     "name": "stderr",
     "output_type": "stream",
     "text": [
      "C:\\Users\\Malli\\anaconda3\\envs\\baceenv\\lib\\site-packages\\torch_geometric\\typing.py:86: UserWarning: An issue occurred while importing 'torch-scatter'. Disabling its usage. Stacktrace: [WinError 127] The specified procedure could not be found\n",
      "  warnings.warn(f\"An issue occurred while importing 'torch-scatter'. \"\n"
     ]
    }
   ],
   "source": [
    "import torch\n",
    "from rdkit import Chem\n",
    "from rdkit.Chem import AllChem, Descriptors\n",
    "from typing import Tuple\n",
    "import numpy as np\n",
    "from torch_geometric.data import Data\n",
    "import random\n",
    "from torch_geometric.loader import DataLoader\n",
    "from torch_geometric.data import Data\n",
    "from rdkit import RDLogger\n",
    "from rdkit.Chem import RemoveHs\n",
    "from datetime import datetime\n",
    "\n",
    "# Suppress RDKit warnings\n",
    "RDLogger.DisableLog('rdApp.warning')\n",
    "timestamp = datetime.now().strftime('%Y%m%d_%H%M%S')"
   ]
  },
  {
   "cell_type": "code",
   "execution_count": 2,
   "id": "8de17bc6",
   "metadata": {},
   "outputs": [],
   "source": [
    "class MolecularFeatureExtractor:\n",
    "    def __init__(self):\n",
    "        self.atom_list = list(range(1, 119))\n",
    "        self.chirality_list = [\n",
    "            Chem.rdchem.ChiralType.CHI_UNSPECIFIED,\n",
    "            Chem.rdchem.ChiralType.CHI_TETRAHEDRAL_CW,\n",
    "            Chem.rdchem.ChiralType.CHI_TETRAHEDRAL_CCW,\n",
    "            Chem.rdchem.ChiralType.CHI_OTHER\n",
    "        ]\n",
    "        self.bond_list = [\n",
    "            Chem.rdchem.BondType.SINGLE,\n",
    "            Chem.rdchem.BondType.DOUBLE, \n",
    "            Chem.rdchem.BondType.TRIPLE,\n",
    "            Chem.rdchem.BondType.AROMATIC\n",
    "        ]\n",
    "        self.bonddir_list = [\n",
    "            Chem.rdchem.BondDir.NONE,\n",
    "            Chem.rdchem.BondDir.ENDUPRIGHT,\n",
    "            Chem.rdchem.BondDir.ENDDOWNRIGHT\n",
    "        ]\n",
    "\n",
    "    def calc_atom_features(self, atom: Chem.Atom) -> Tuple[list, list]:\n",
    "        \"\"\"Calculate atom features with better error handling\"\"\"\n",
    "        try:\n",
    "            # Basic features\n",
    "            atom_feat = [\n",
    "                self.atom_list.index(atom.GetAtomicNum()),\n",
    "                self.chirality_list.index(atom.GetChiralTag())\n",
    "            ]\n",
    "\n",
    "            # Physical features with error handling\n",
    "            phys_feat = []\n",
    "            \n",
    "            # Molecular weight contribution\n",
    "            try:\n",
    "                contrib_mw = Descriptors.ExactMolWt(Chem.MolFromSmiles(f'[{atom.GetSymbol()}]'))\n",
    "                phys_feat.append(contrib_mw)\n",
    "            except:\n",
    "                phys_feat.append(0.0)\n",
    "                \n",
    "            # LogP contribution    \n",
    "            try:\n",
    "                contrib_logp = Descriptors.MolLogP(Chem.MolFromSmiles(f'[{atom.GetSymbol()}]'))\n",
    "                phys_feat.append(contrib_logp)\n",
    "            except:\n",
    "                phys_feat.append(0.0)\n",
    "                \n",
    "            # Add other physical properties\n",
    "            phys_feat.extend([\n",
    "                atom.GetFormalCharge(),\n",
    "                int(atom.GetHybridization()),\n",
    "                int(atom.GetIsAromatic()),\n",
    "                atom.GetTotalNumHs(),\n",
    "                atom.GetTotalValence(),\n",
    "                atom.GetDegree()\n",
    "            ])\n",
    "            \n",
    "            return atom_feat, phys_feat\n",
    "            \n",
    "        except Exception as e:\n",
    "            print(f\"Error calculating atom features: {e}\")\n",
    "            return [0, 0], [0.0] * 9\n",
    "\n",
    "    def get_atom_features(self, mol: Chem.Mol) -> Tuple[torch.Tensor, torch.Tensor]:\n",
    "        \"\"\"Extract atom features for the whole molecule\"\"\"\n",
    "        atom_feats = []\n",
    "        phys_feats = []\n",
    "        \n",
    "        if mol is None:\n",
    "            return torch.tensor([[0, 0]], dtype=torch.long), torch.tensor([[0.0] * 9], dtype=torch.float)\n",
    "            \n",
    "        for atom in mol.GetAtoms():\n",
    "            atom_feat, phys_feat = self.calc_atom_features(atom)\n",
    "            atom_feats.append(atom_feat)\n",
    "            phys_feats.append(phys_feat)\n",
    "\n",
    "        x = torch.tensor(atom_feats, dtype=torch.long)\n",
    "        phys = torch.tensor(phys_feats, dtype=torch.float)\n",
    "        \n",
    "        return x, phys\n",
    "    \n",
    "    def remove_unbonded_hydrogens(mol):\n",
    "        params = Chem.RemoveHsParameters()\n",
    "        params.removeDegreeZero = True\n",
    "        mol = Chem.RemoveHs(mol, params)\n",
    "        return mol\n",
    "\n",
    "\n",
    "    def get_bond_features(self, mol: Chem.Mol) -> Tuple[torch.Tensor, torch.Tensor]:\n",
    "        \"\"\"Extract bond features with better error handling\"\"\"\n",
    "        if mol is None:\n",
    "            return torch.tensor([[0], [0]], dtype=torch.long), torch.tensor([[0.0] * 5], dtype=torch.float)\n",
    "            \n",
    "        row, col, edge_feat = [], [], []\n",
    "        \n",
    "        for bond in mol.GetBonds():\n",
    "            try:\n",
    "                start, end = bond.GetBeginAtomIdx(), bond.GetEndAtomIdx()\n",
    "                \n",
    "                # Add edges in both directions\n",
    "                row += [start, end]\n",
    "                col += [end, start]\n",
    "                \n",
    "                # Bond features\n",
    "                bond_type = self.bond_list.index(bond.GetBondType())\n",
    "                bond_dir = self.bonddir_list.index(bond.GetBondDir())\n",
    "                \n",
    "                # Calculate additional properties\n",
    "                feat = [\n",
    "                    bond_type,\n",
    "                    bond_dir,\n",
    "                    int(bond.GetIsConjugated()),\n",
    "                    int(self._is_rotatable(bond)),\n",
    "                    self._get_bond_length(mol, start, end)\n",
    "                ]\n",
    "                \n",
    "                edge_feat.extend([feat, feat])\n",
    "                \n",
    "            except Exception as e:\n",
    "                print(f\"Error processing bond: {e}\")\n",
    "                continue\n",
    "\n",
    "        if not row:  # If no valid bonds were processed\n",
    "            return torch.tensor([[0], [0]], dtype=torch.long), torch.tensor([[0.0] * 5], dtype=torch.float)\n",
    "\n",
    "        edge_index = torch.tensor([row, col], dtype=torch.long)\n",
    "        edge_attr = torch.tensor(edge_feat, dtype=torch.float)\n",
    "        \n",
    "        return edge_index, edge_attr\n",
    "\n",
    "    def _is_rotatable(self, bond: Chem.Bond) -> bool:\n",
    "        \"\"\"Check if bond is rotatable\"\"\"\n",
    "        return (bond.GetBondType() == Chem.rdchem.BondType.SINGLE and \n",
    "                not bond.IsInRing() and\n",
    "                len(bond.GetBeginAtom().GetNeighbors()) > 1 and\n",
    "                len(bond.GetEndAtom().GetNeighbors()) > 1)\n",
    "\n",
    "    def _get_bond_length(self, mol: Chem.Mol, start: int, end: int) -> float:\n",
    "        \"\"\"Get bond length with error handling\"\"\"\n",
    "        try:\n",
    "            conf = mol.GetConformer()\n",
    "            if conf.Is3D():\n",
    "                return Chem.rdMolTransforms.GetBondLength(conf, start, end)\n",
    "        except:\n",
    "            pass\n",
    "        return 0.0\n",
    "\n",
    "    def process_molecule(self, smiles: str) -> Data:\n",
    "        \"\"\"Process SMILES string to graph data\"\"\"\n",
    "        try:\n",
    "            mol = Chem.MolFromSmiles(smiles)\n",
    "            if mol is None:\n",
    "                print(f\"Invalid SMILES: {smiles}\")\n",
    "                return None  # Skip invalid molecules\n",
    "            mol = RemoveHs(mol)\n",
    "\n",
    "            # Add explicit hydrogens\n",
    "            mol = Chem.AddHs(mol, addCoords=True)\n",
    "\n",
    "            # Sanitize molecule\n",
    "            Chem.SanitizeMol(mol)\n",
    "\n",
    "            # Check if the molecule has atoms\n",
    "            if mol.GetNumAtoms() == 0:\n",
    "                print(\"Molecule has no atoms, skipping.\")\n",
    "                return None\n",
    "\n",
    "            # Generate 3D coordinates\n",
    "            if not mol.GetNumConformers():\n",
    "                status = AllChem.EmbedMolecule(mol, AllChem.ETKDG())\n",
    "                if status != 0:\n",
    "                    print(\"Failed to generate 3D conformer\")\n",
    "                    return None  # Skip failed molecules\n",
    "\n",
    "                # Try MMFF or UFF optimization\n",
    "                try:\n",
    "                    AllChem.MMFFOptimizeMolecule(mol)\n",
    "                except:\n",
    "                    AllChem.UFFOptimizeMolecule(mol)\n",
    "\n",
    "            # Extract features\n",
    "            x_cat, x_phys = self.get_atom_features(mol)\n",
    "            edge_index, edge_attr = self.get_bond_features(mol)\n",
    "\n",
    "            return Data(\n",
    "                x_cat=x_cat, \n",
    "                x_phys=x_phys,\n",
    "                edge_index=edge_index, \n",
    "                edge_attr=edge_attr,\n",
    "                num_nodes=x_cat.size(0)\n",
    "            )\n",
    "\n",
    "        except Exception as e:\n",
    "            print(f\"Error processing molecule {smiles}: {e}\")\n",
    "            return None\n"
   ]
  },
  {
   "cell_type": "code",
   "execution_count": 3,
   "id": "35a311ed",
   "metadata": {},
   "outputs": [],
   "source": [
    "import torch\n",
    "import torch.nn as nn\n",
    "import torch.nn.functional as F\n",
    "from torch_geometric.nn import GCNConv, global_mean_pool, MessagePassing\n",
    "from typing import Tuple, List, Optional\n",
    "import copy\n",
    "from dataclasses import dataclass\n",
    "\n",
    "class MemoryQueue:\n",
    "    \"\"\"Memory queue with temporal decay for contrastive learning\"\"\"\n",
    "    def __init__(self, size: int, dim: int, decay: float = 0.99999):\n",
    "        self.size = size\n",
    "        self.dim = dim\n",
    "        self.decay = decay\n",
    "        self.ptr = 0\n",
    "        self.full = False\n",
    "        \n",
    "        # Initialize queue\n",
    "        self.queue = nn.Parameter(F.normalize(torch.randn(size, dim), dim=1), requires_grad=False)\n",
    "        self.queue_age = nn.Parameter(torch.zeros(size), requires_grad=False)\n",
    "        \n",
    "#         self.register_buffer(\"queue\", torch.randn(size, dim))\n",
    "#         self.register_buffer(\"queue_age\", torch.zeros(size))  # Track age of each entry\n",
    "        self.queue = F.normalize(self.queue, dim=1)\n",
    "        \n",
    "    def update_queue(self, keys: torch.Tensor):\n",
    "        \"\"\"Update queue with new keys\"\"\"\n",
    "        batch_size = keys.shape[0]\n",
    "        \n",
    "        # Increment age of all entries\n",
    "        self.queue_age += 1\n",
    "        \n",
    "        # Add new keys\n",
    "        if self.ptr + batch_size <= self.size:\n",
    "            self.queue[self.ptr:self.ptr + batch_size] = keys\n",
    "            self.queue_age[self.ptr:self.ptr + batch_size] = 0\n",
    "        else:\n",
    "            # Handle overflow\n",
    "            rem = self.size - self.ptr\n",
    "            self.queue[self.ptr:] = keys[:rem]\n",
    "            self.queue[:batch_size-rem] = keys[rem:]\n",
    "            self.queue_age[self.ptr:] = 0\n",
    "            self.queue_age[:batch_size-rem] = 0\n",
    "            self.full = True\n",
    "            \n",
    "        self.ptr = (self.ptr + batch_size) % self.size\n",
    "        \n",
    "    def get_decay_weights(self) -> torch.Tensor:\n",
    "        \"\"\"Get temporal decay weights for queue entries\"\"\"\n",
    "        return self.decay ** self.queue_age\n",
    "        \n",
    "    def compute_contrastive_loss(self, query: torch.Tensor, positive_key: torch.Tensor, \n",
    "                                temperature: float = 0.07) -> torch.Tensor:\n",
    "        \"\"\"Compute contrastive loss with temporal decay\"\"\"\n",
    "        # Normalize embeddings\n",
    "        query = F.normalize(query, dim=1)\n",
    "        positive_key = F.normalize(positive_key, dim=1)\n",
    "        queue = F.normalize(self.queue, dim=1)\n",
    "        \n",
    "        # Compute logits\n",
    "        l_pos = torch.einsum('nc,nc->n', [query, positive_key]).unsqueeze(-1)\n",
    "        l_neg = torch.einsum('nc,ck->nk', [query, queue.T])\n",
    "        \n",
    "        # Apply temporal decay to negative samples\n",
    "        decay_weights = self.get_decay_weights()\n",
    "        l_neg = l_neg * decay_weights.unsqueeze(0)\n",
    "        \n",
    "        # Temperature scaling\n",
    "        logits = torch.cat([l_pos, l_neg], dim=1) / temperature\n",
    "        labels = torch.zeros(logits.shape[0], dtype=torch.long, device=query.device)\n",
    "        \n",
    "        return F.cross_entropy(logits, labels)\n",
    "\n",
    "class GraphGenerator(nn.Module):\n",
    "    \"\"\"Generator network with proper feature handling\"\"\"\n",
    "    def __init__(self, node_dim: int, edge_dim: int, hidden_dim: int = 128):\n",
    "        super().__init__()\n",
    "        \n",
    "        # Node feature processing\n",
    "        self.node_encoder = nn.Sequential(\n",
    "            nn.Linear(node_dim, hidden_dim),\n",
    "            nn.ReLU(),\n",
    "            nn.Linear(hidden_dim, hidden_dim)\n",
    "        )\n",
    "        \n",
    "        # Edge feature processing\n",
    "        self.edge_encoder = nn.Sequential(\n",
    "            nn.Linear(edge_dim, hidden_dim),\n",
    "            nn.ReLU(),\n",
    "            nn.Linear(hidden_dim, hidden_dim)\n",
    "        )\n",
    "        \n",
    "        # Graph convolution layers\n",
    "        self.conv1 = GCNConv(hidden_dim, hidden_dim)\n",
    "        self.conv2 = GCNConv(hidden_dim, hidden_dim)\n",
    "        self.conv3 = GCNConv(hidden_dim, hidden_dim)\n",
    "        \n",
    "        # Importance prediction layers\n",
    "        self.node_importance = nn.Sequential(\n",
    "            nn.Linear(hidden_dim, hidden_dim // 2),\n",
    "            nn.ReLU(),\n",
    "            nn.Linear(hidden_dim // 2, 1),\n",
    "            nn.Sigmoid()\n",
    "        )\n",
    "        \n",
    "        self.edge_importance = nn.Sequential(\n",
    "            nn.Linear(hidden_dim * 2, hidden_dim),\n",
    "            nn.ReLU(),\n",
    "            nn.Linear(hidden_dim, 1),\n",
    "            nn.Sigmoid()\n",
    "        )\n",
    "        \n",
    "    def normalize_features(self, x_cat, x_phys):\n",
    "        \"\"\"Normalize categorical and physical features separately\"\"\"\n",
    "        # Convert categorical features to one-hot\n",
    "        x_cat = x_cat.float()\n",
    "        \n",
    "        # Normalize physical features\n",
    "        x_phys = x_phys.float()\n",
    "        if x_phys.size(0) > 1:  # Only normalize if we have more than one sample\n",
    "            x_phys = (x_phys - x_phys.mean(0)) / (x_phys.std(0) + 1e-5)\n",
    "            \n",
    "        return x_cat, x_phys\n",
    "        \n",
    "    def forward(self, data) -> Tuple[torch.Tensor, torch.Tensor]:\n",
    "        # Normalize features\n",
    "        x_cat, x_phys = self.normalize_features(data.x_cat, data.x_phys)\n",
    "        \n",
    "        # Concatenate features\n",
    "        x = torch.cat([x_cat, x_phys], dim=-1)\n",
    "        \n",
    "        edge_index = data.edge_index\n",
    "        edge_attr = data.edge_attr.float()  # Ensure float type\n",
    "        \n",
    "        # Initial feature encoding\n",
    "        x = self.node_encoder(x)\n",
    "        edge_attr = self.edge_encoder(edge_attr)\n",
    "        \n",
    "        # Graph convolutions\n",
    "        x = F.relu(self.conv1(x, edge_index))  # Removed edge_attr from GCNConv\n",
    "        x = F.relu(self.conv2(x, edge_index))\n",
    "        x = self.conv3(x, edge_index)\n",
    "        \n",
    "        # Predict importance scores\n",
    "        node_scores = self.node_importance(x)\n",
    "        \n",
    "        # Edge scores using both connected nodes\n",
    "        edge_features = torch.cat([\n",
    "            x[edge_index[0]], \n",
    "            x[edge_index[1]]\n",
    "        ], dim=-1)\n",
    "        edge_scores = self.edge_importance(edge_features)\n",
    "        \n",
    "        return node_scores, edge_scores\n",
    "\n",
    "def get_model_config(dataset):\n",
    "    \"\"\"Get model configuration based on dataset features\"\"\"\n",
    "    sample_data = dataset[0]\n",
    "    \n",
    "    # Calculate input dimensions\n",
    "    node_dim = sample_data.x_cat.shape[1] + sample_data.x_phys.shape[1]\n",
    "    edge_dim = sample_data.edge_attr.shape[1]\n",
    "    \n",
    "    config = GanClConfig(\n",
    "        node_dim=node_dim,\n",
    "        edge_dim=edge_dim,\n",
    "        hidden_dim=128,\n",
    "        output_dim=128,\n",
    "        queue_size=65536,\n",
    "        momentum=0.999,\n",
    "        temperature=0.07,\n",
    "        decay=0.99999,\n",
    "        dropout_ratio=0.25\n",
    "    )\n",
    "    \n",
    "    return config\n",
    "\n",
    "class GraphDiscriminator(nn.Module):\n",
    "    \"\"\"Discriminator/Encoder network\"\"\"\n",
    "    def __init__(self, node_dim: int, edge_dim: int, hidden_dim: int = 128, output_dim: int = 128):\n",
    "        super().__init__()\n",
    "        \n",
    "        # Feature encoding\n",
    "        self.node_encoder = nn.Sequential(\n",
    "            nn.Linear(node_dim, hidden_dim),\n",
    "            nn.ReLU(),\n",
    "            nn.Linear(hidden_dim, hidden_dim)\n",
    "        )\n",
    "        \n",
    "        self.edge_encoder = nn.Sequential(\n",
    "            nn.Linear(edge_dim, hidden_dim),\n",
    "            nn.ReLU(),\n",
    "            nn.Linear(hidden_dim, hidden_dim)\n",
    "        )\n",
    "        \n",
    "        # Graph convolution layers\n",
    "        self.conv1 = GCNConv(hidden_dim, hidden_dim)\n",
    "        self.conv2 = GCNConv(hidden_dim, hidden_dim)\n",
    "        self.conv3 = GCNConv(hidden_dim, output_dim)\n",
    "        \n",
    "        # Projection head for contrastive learning\n",
    "        self.projection = nn.Sequential(\n",
    "            nn.Linear(output_dim, hidden_dim),\n",
    "            nn.ReLU(),\n",
    "            nn.Linear(hidden_dim, output_dim)\n",
    "        )\n",
    "        \n",
    "    def normalize_features(self, x_cat, x_phys):\n",
    "        \"\"\"Normalize categorical and physical features separately\"\"\"\n",
    "        # Convert categorical features to one-hot\n",
    "        x_cat = x_cat.float()\n",
    "        \n",
    "        # Normalize physical features\n",
    "        x_phys = x_phys.float()\n",
    "        if x_phys.size(0) > 1:  # Only normalize if we have more than one sample\n",
    "            x_phys = (x_phys - x_phys.mean(0)) / (x_phys.std(0) + 1e-5)\n",
    "            \n",
    "        return x_cat, x_phys \n",
    "        \n",
    "    def forward(self, data):\n",
    "        # Normalize features\n",
    "        x_cat, x_phys = self.normalize_features(data.x_cat, data.x_phys)\n",
    "        \n",
    "        # Concatenate features\n",
    "        x = torch.cat([x_cat, x_phys], dim=-1)\n",
    "        \n",
    "        edge_index = data.edge_index\n",
    "        edge_attr = data.edge_attr.float()  # Ensure float type\n",
    "        batch = data.batch\n",
    "        \n",
    "        # Initial feature encoding\n",
    "        x = self.node_encoder(x)\n",
    "        edge_attr = self.edge_encoder(edge_attr)\n",
    "        \n",
    "        # Graph convolutions\n",
    "        x = F.relu(self.conv1(x, edge_index))  # Removed edge_attr from GCNConv\n",
    "        x = F.relu(self.conv2(x, edge_index))\n",
    "        x = self.conv3(x, edge_index)\n",
    "        \n",
    "        # Global pooling\n",
    "        x = global_mean_pool(x, batch)\n",
    "        \n",
    "        # Projection\n",
    "        x = self.projection(x)\n",
    "        \n",
    "        return x\n",
    "\n",
    "@dataclass\n",
    "class GanClConfig:\n",
    "    \"\"\"Configuration for GAN-CL training\"\"\"\n",
    "    node_dim: int\n",
    "    edge_dim: int\n",
    "    hidden_dim: int = 128\n",
    "    output_dim: int = 128\n",
    "    queue_size: int = 65536\n",
    "    momentum: float = 0.999\n",
    "    temperature: float = 0.07\n",
    "    decay: float = 0.99999\n",
    "    dropout_ratio: float = 0.25\n",
    "\n",
    "class MolecularGANCL(nn.Module):\n",
    "    \"\"\"Combined GAN and Contrastive Learning framework\"\"\"\n",
    "    def __init__(self, config: GanClConfig):\n",
    "        super().__init__()\n",
    "        self.config = config\n",
    "        \n",
    "        # Add weight initialization\n",
    "        def init_weights(m):\n",
    "            if isinstance(m, nn.Linear):\n",
    "                torch.nn.init.xavier_uniform_(m.weight)\n",
    "                m.bias.data.fill_(0.01)\n",
    "        \n",
    "        # Initialize networks\n",
    "        self.generator = GraphGenerator(\n",
    "            config.node_dim, \n",
    "            config.edge_dim, \n",
    "            config.hidden_dim * 2\n",
    "        )\n",
    "        \n",
    "        self.encoder = GraphDiscriminator(\n",
    "            config.node_dim,\n",
    "            config.edge_dim,\n",
    "            config.hidden_dim,\n",
    "            config.output_dim\n",
    "        )\n",
    "        self.encoder.apply(init_weights)\n",
    "        \n",
    "        # Modified loss weights\n",
    "        self.contrastive_weight = 1.0\n",
    "        self.adversarial_weight = 0.1  # Increased from 0.05\n",
    "        self.similarity_weight = 0.01  # Decreased from 0.1\n",
    "        \n",
    "        # Temperature annealing\n",
    "        self.initial_temperature = 0.1\n",
    "        self.min_temperature = 0.05        \n",
    "        \n",
    "        # Create momentum encoder\n",
    "        self.momentum_encoder = copy.deepcopy(self.encoder)\n",
    "        for param in self.momentum_encoder.parameters():\n",
    "            param.requires_grad = False\n",
    "            \n",
    "        # Initialize memory queue\n",
    "        self.memory_queue = MemoryQueue(\n",
    "            config.queue_size,\n",
    "            config.output_dim,\n",
    "            config.decay\n",
    "        )\n",
    "        \n",
    "    @torch.no_grad()\n",
    "    def _momentum_update(self):\n",
    "        \"\"\"Update momentum encoder\"\"\"\n",
    "        for param_q, param_k in zip(self.encoder.parameters(), \n",
    "                                  self.momentum_encoder.parameters()):\n",
    "            param_k.data = self.config.momentum * param_k.data + \\\n",
    "                          (1 - self.config.momentum) * param_q.data\n",
    "                          \n",
    "    def drop_graph_elements(self, data, node_scores: torch.Tensor, \n",
    "                          edge_scores: torch.Tensor) -> Data:\n",
    "        \"\"\"Apply dropout to graph based on importance scores\"\"\"\n",
    "        # Select elements to keep based on scores and dropout ratio\n",
    "#         node_mask = (node_scores < self.config.dropout_ratio).float()\n",
    "#         edge_mask = (edge_scores < self.config.dropout_ratio).float()\n",
    "\n",
    "        node_mask = (torch.rand_like(node_scores) > self.config.dropout_ratio).float()\n",
    "        edge_mask = (torch.rand_like(edge_scores) > self.config.dropout_ratio).float()\n",
    "        \n",
    "        # Apply masks\n",
    "        x_cat_new = data.x_cat * node_mask\n",
    "        x_phys_new = data.x_phys * node_mask\n",
    "        edge_attr_new = data.edge_attr * edge_mask\n",
    "        \n",
    "        # Create new graph data object\n",
    "        return Data(\n",
    "            x_cat=x_cat_new,\n",
    "            x_phys=x_phys_new,\n",
    "            edge_index=data.edge_index,\n",
    "            edge_attr=edge_attr_new,\n",
    "            batch=data.batch\n",
    "        )\n",
    "        \n",
    "    def get_temperature(self, epoch, total_epochs):\n",
    "        \"\"\"Anneal temperature during training\"\"\"\n",
    "        progress = epoch / total_epochs\n",
    "        return max(self.initial_temperature * (1 - progress), self.min_temperature)\n",
    "    \n",
    "    def forward(self, data, epoch=0, total_epochs=50):\n",
    "        # Get current temperature\n",
    "        temperature = self.get_temperature(epoch, total_epochs)\n",
    "        \n",
    "        # Get importance scores from generator\n",
    "        node_scores, edge_scores = self.generator(data)\n",
    "        \n",
    "        # Create perturbed graph\n",
    "        perturbed_data = self.drop_graph_elements(data, node_scores, edge_scores)\n",
    "        \n",
    "        # Get embeddings\n",
    "        query_emb = self.encoder(perturbed_data)\n",
    "        with torch.no_grad():\n",
    "            key_emb = self.momentum_encoder(data)\n",
    "            original_emb = self.encoder(data).detach()\n",
    "        \n",
    "        # Compute losses with modified weights\n",
    "        contrastive_loss = self.memory_queue.compute_contrastive_loss(\n",
    "            query_emb, key_emb, temperature\n",
    "        ) * self.contrastive_weight\n",
    "        \n",
    "        adversarial_loss = -F.mse_loss(query_emb, original_emb) * self.adversarial_weight\n",
    "        similarity_loss = F.mse_loss(query_emb, original_emb) * self.similarity_weight\n",
    "        \n",
    "        return contrastive_loss, adversarial_loss, similarity_loss\n",
    "    \n",
    "    def get_embeddings(self, data) -> torch.Tensor:\n",
    "        \"\"\"Get embeddings for downstream tasks\"\"\"\n",
    "        with torch.no_grad():\n",
    "            return self.encoder(data)"
   ]
  },
  {
   "cell_type": "code",
   "execution_count": null,
   "id": "114f7d35",
   "metadata": {},
   "outputs": [],
   "source": [
    "import pickle\n",
    "import numpy as np\n",
    "from rdkit import Chem\n",
    "from rdkit.Chem import Descriptors, Lipinski, MolSurf\n",
    "\n",
    "def extract_molecular_properties(mol):\n",
    "    \"\"\"Extract basic molecular properties\"\"\"\n",
    "    if mol is None:\n",
    "        return {}\n",
    "        \n",
    "    properties = {\n",
    "        # Basic properties\n",
    "        'MW': Descriptors.MolWt(mol),\n",
    "        'LogP': Descriptors.MolLogP(mol),\n",
    "        'TPSA': Descriptors.TPSA(mol),\n",
    "        'HBA': Lipinski.NumHAcceptors(mol),\n",
    "        'HBD': Lipinski.NumHDonors(mol),\n",
    "        'RotBonds': Descriptors.NumRotatableBonds(mol),\n",
    "        'HeavyAtoms': mol.GetNumHeavyAtoms(),\n",
    "        'Rings': Chem.GetSSSR(mol),\n",
    "        'NumRings': Chem.rdMolDescriptors.CalcNumRings(mol),\n",
    "        'NumAromaticRings': Chem.rdMolDescriptors.CalcNumAromaticRings(mol),\n",
    "        'NumAliphaticRings': Chem.rdMolDescriptors.CalcNumAliphaticRings(mol),\n",
    "        'FractionCSP3': Chem.rdMolDescriptors.CalcFractionCSP3(mol),\n",
    "    }\n",
    "    \n",
    "    return properties\n",
    "\n",
    "def identify_structural_features(mol):\n",
    "    \"\"\"Identify structural feature groups\"\"\"\n",
    "    if mol is None:\n",
    "        return {}\n",
    "        \n",
    "    features = {\n",
    "        # Ring systems\n",
    "        'HasAromatic': mol.GetNumAromaticRings() > 0,\n",
    "        'HasHeterocycle': any(atom.GetAtomicNum() != 6 for ring in mol.GetSSSR() for atom in ring),\n",
    "        \n",
    "        # Advanced ring features\n",
    "        'HasFusedRings': Chem.rdMolDescriptors.CalcNumSpiroAtoms(mol) > 0,\n",
    "        'HasSpiroRings': Chem.rdMolDescriptors.CalcNumBridgeheadAtoms(mol) > 0,\n",
    "        'HasBridgedRings': Chem.rdMolDescriptors.CalcNumBridgeheadAtoms(mol) > 0,\n",
    "        'HasMacrocycle': any(len(ring) >= 8 for ring in mol.GetSSSR()),\n",
    "        \n",
    "        # Chain features\n",
    "        'HasLongChain': max([len(chain) for chain in Chem.rdMolDescriptors.GetMolFrags(mol) if all(mol.GetAtomWithIdx(idx).IsInRing() == False for idx in chain)], default=0) >= 6,\n",
    "        'IsBranched': Chem.rdMolDescriptors.CalcNumBranches(mol) > 0,\n",
    "    }\n",
    "    \n",
    "    return features\n",
    "\n",
    "def identify_functional_groups(mol):\n",
    "    \"\"\"Identify functional groups\"\"\"\n",
    "    if mol is None:\n",
    "        return {}\n",
    "    \n",
    "    # SMARTS patterns for functional groups\n",
    "    patterns = {\n",
    "        'Alcohol': '[OX2H]',\n",
    "        'Amine': '[NX3;H2,H1,H0;!$(NC=O)]',\n",
    "        'Carboxyl': '[CX3](=O)[OX2H1]',\n",
    "        'Carbonyl': '[CX3]=O',\n",
    "        'Ether': '[OD2](C)C',\n",
    "        'Ester': '[#6][CX3](=O)[OX2H0][#6]',\n",
    "        'Amide': '[NX3][CX3](=[OX1])',\n",
    "        'Halogen': '[F,Cl,Br,I]',\n",
    "        'Nitrile': '[CX2]#[NX1]',\n",
    "        'Nitro': '[NX3](=O)=O',\n",
    "        'Sulfide': '[#16X2]',\n",
    "        'Sulfoxide': '[#16X3](=[OX1])',\n",
    "        'Sulfone': '[#16X4](=[OX1])2',\n",
    "    }\n",
    "    \n",
    "    functional_groups = {}\n",
    "    for name, smarts in patterns.items():\n",
    "        pattern = Chem.MolFromSmarts(smarts)\n",
    "        functional_groups[f'Has{name}'] = len(mol.GetSubstructMatches(pattern)) > 0\n",
    "    \n",
    "    return functional_groups\n",
    "\n",
    "def analyze_rings(mol):\n",
    "    \"\"\"Analyze ring structures in detail\"\"\"\n",
    "    if mol is None:\n",
    "        return {}\n",
    "    \n",
    "    ring_info = {}\n",
    "    \n",
    "    # Ring counts by size\n",
    "    ring_sizes = [3, 4, 5, 6, 7, 8]\n",
    "    for size in ring_sizes:\n",
    "        ring_info[f'RingSize{size}'] = len([ring for ring in mol.GetSSSR() if len(ring) == size])\n",
    "    \n",
    "    # Ring types\n",
    "    ring_info['NumSpiroRings'] = Chem.rdMolDescriptors.CalcNumSpiroAtoms(mol)\n",
    "    ring_info['NumBridgedRings'] = Chem.rdMolDescriptors.CalcNumBridgeheadAtoms(mol)\n",
    "    \n",
    "    # Count fused ring systems (this is more complex and requires custom implementation)\n",
    "    # This is a simplification\n",
    "    ring_info['NumFusedRingSystems'] = max(0, Chem.rdMolDescriptors.CalcNumRings(mol) - ring_info['NumSpiroRings'] - ring_info['NumBridgedRings'] - Chem.rdMolDescriptors.CalcNumRings(mol, countFused=False))\n",
    "    \n",
    "    return ring_info\n",
    "\n",
    "def extract_all_features(smiles):\n",
    "    \"\"\"Extract all features from a SMILES string\"\"\"\n",
    "    mol = Chem.MolFromSmiles(smiles)\n",
    "    if mol is None:\n",
    "        return None\n",
    "    \n",
    "    # Combined feature dictionary\n",
    "    features = {\n",
    "        'SMILES': smiles,\n",
    "        'Mol': mol,\n",
    "    }\n",
    "    \n",
    "    # Add all property categories\n",
    "    features.update(extract_molecular_properties(mol))\n",
    "    features.update(identify_structural_features(mol))\n",
    "    features.update(identify_functional_groups(mol))\n",
    "    features.update(analyze_rings(mol))\n",
    "    \n",
    "    return features\n",
    "\n",
    "def save_enhanced_embeddings(embeddings, graphs, filepath, stage=\"after_training\"):\n",
    "    \"\"\"\n",
    "    Save embeddings with enhanced molecular information\n",
    "    \n",
    "    Parameters:\n",
    "    - embeddings: numpy array of embeddings\n",
    "    - graphs: list of graph objects from the model\n",
    "    - filepath: where to save the data\n",
    "    - stage: \"before_training\" or \"after_training\"\n",
    "    \"\"\"\n",
    "    # Extract SMILES from graphs \n",
    "    # Note: This assumes that the SMILES string can be extracted from the graph objects\n",
    "    # You might need to adjust this based on your data structure\n",
    "    molecules_data = []\n",
    "    \n",
    "    for i, graph in enumerate(graphs):\n",
    "        # Extract SMILES from graph (you'll need to implement this based on your data structure)\n",
    "        # smiles = extract_smiles_from_graph(graph)\n",
    "        smiles = \"C\"  # Placeholder - replace with actual extraction\n",
    "        \n",
    "        # Create data entry\n",
    "        mol_data = {\n",
    "            'embedding': embeddings[i],\n",
    "            'graph': graph,  # Original graph for reference\n",
    "            'embedding_dim': embeddings[i].shape[0],\n",
    "            'stage': stage,\n",
    "            # Add placeholder for features to be filled later when analyzing\n",
    "            'features': {} \n",
    "        }\n",
    "        \n",
    "        molecules_data.append(mol_data)\n",
    "    \n",
    "    # Save the enhanced data\n",
    "    with open(filepath, 'wb') as f:\n",
    "        pickle.dump(molecules_data, f)\n",
    "    \n",
    "    return molecules_data"
   ]
  },
  {
   "cell_type": "code",
   "execution_count": 4,
   "id": "8e90813e",
   "metadata": {},
   "outputs": [],
   "source": [
    "import torch\n",
    "import numpy as np\n",
    "from torch_geometric.data import DataLoader\n",
    "import os\n",
    "import json\n",
    "from tqdm import tqdm\n",
    "import pickle\n",
    "from datetime import datetime\n",
    "\n",
    "def save_embeddings(embeddings, labels, filepath):\n",
    "    \"\"\"Save embeddings and corresponding labels\"\"\"\n",
    "    with open(filepath, 'wb') as f:\n",
    "        pickle.dump({\n",
    "            'embeddings': embeddings,\n",
    "            'labels': labels\n",
    "        }, f)\n",
    "\n",
    "def save_encoder(encoder, save_path, info=None):\n",
    "    \"\"\"Save encoder model for downstream tasks\"\"\"\n",
    "    save_dict = {\n",
    "        'encoder_state_dict': encoder.state_dict(),\n",
    "        'model_info': info or {}\n",
    "    }\n",
    "    torch.save(save_dict, save_path)\n",
    "\n",
    "def load_encoder(model_path, device='cpu'):\n",
    "    \"\"\"Load saved encoder model\"\"\"\n",
    "    checkpoint = torch.load(model_path, map_location=device)\n",
    "    encoder = GraphDiscriminator(\n",
    "        node_dim=checkpoint['model_info'].get('node_dim'),\n",
    "        edge_dim=checkpoint['model_info'].get('edge_dim'),\n",
    "        hidden_dim=checkpoint['model_info'].get('hidden_dim', 128),\n",
    "        output_dim=checkpoint['model_info'].get('output_dim', 128)\n",
    "    )\n",
    "    encoder.load_state_dict(checkpoint['encoder_state_dict'])\n",
    "    return encoder        \n",
    "        \n",
    "def train_gan_cl(train_loader, config, device='cuda', \n",
    "                save_dir='./checkpoints', \n",
    "                embedding_dir='./embeddings'):\n",
    "    \"\"\"Main training function for GAN-CL with fixed gradient computation\"\"\"\n",
    "    \n",
    "    # Create directories\n",
    "    os.makedirs(save_dir, exist_ok=True)\n",
    "    os.makedirs(embedding_dir, exist_ok=True)\n",
    "    encoder_dir = os.path.join(save_dir, 'encoders')\n",
    "    os.makedirs(encoder_dir, exist_ok=True)    \n",
    "    \n",
    "    # Initialize model\n",
    "    model = MolecularGANCL(config).to(device)\n",
    "    \n",
    "    # Initialize optimizers\n",
    "    optimizer_encoder = torch.optim.Adam(model.encoder.parameters(), lr=3e-4)\n",
    "    optimizer_generator = torch.optim.Adam(model.generator.parameters(), lr=1e-4)\n",
    "    \n",
    "    # Save initial model info\n",
    "    model_info = {\n",
    "        'node_dim': config.node_dim,\n",
    "        'edge_dim': config.edge_dim,\n",
    "        'hidden_dim': config.hidden_dim,\n",
    "        'output_dim': config.output_dim,\n",
    "        'training_config': config.__dict__\n",
    "    }\n",
    "    \n",
    "    # Training phases as before...\n",
    "    best_loss = float('inf')\n",
    "    \n",
    "    # Training metrics\n",
    "    metrics = {\n",
    "        'contrastive_losses': [],\n",
    "        'adversarial_losses': [],\n",
    "        'similarity_losses': [],\n",
    "        'total_losses': []\n",
    "    }\n",
    "    \n",
    "    # Training phases\n",
    "    print(\"Phase 1: Pretraining Contrastive Learning...\")\n",
    "    pretrain_epochs = 10\n",
    "    for epoch in range(pretrain_epochs):\n",
    "        contrastive_epoch_loss = 0\n",
    "        \n",
    "        for batch in tqdm(train_loader, desc=f'Pretrain Epoch {epoch+1}/{pretrain_epochs}'):\n",
    "            batch = batch.to(device)\n",
    "            \n",
    "            # Forward pass (without generator)\n",
    "            query_emb = model.encoder(batch)\n",
    "            with torch.no_grad():\n",
    "                key_emb = model.momentum_encoder(batch)\n",
    "            \n",
    "            # Compute contrastive loss\n",
    "            contrastive_loss = model.memory_queue.compute_contrastive_loss(\n",
    "                query_emb, key_emb, model.config.temperature\n",
    "            )\n",
    "            \n",
    "            # Update encoder\n",
    "            optimizer_encoder.zero_grad()\n",
    "            contrastive_loss.backward()\n",
    "            optimizer_encoder.step()\n",
    "            \n",
    "            # Update momentum encoder\n",
    "            model._momentum_update()\n",
    "            \n",
    "            # Update memory queue\n",
    "            model.memory_queue.update_queue(key_emb.detach())\n",
    "            \n",
    "            contrastive_epoch_loss += contrastive_loss.item()\n",
    "            \n",
    "        avg_loss = contrastive_epoch_loss / len(train_loader)\n",
    "        metrics['contrastive_losses'].append(avg_loss)\n",
    "        print(f'Pretrain Epoch {epoch+1}, Avg Loss: {avg_loss:.4f}')\n",
    "        \n",
    "        # Save pretrained checkpoint\n",
    "        if (epoch + 1) % 5 == 0:\n",
    "            torch.save({\n",
    "                'epoch': epoch,\n",
    "                'model_state_dict': model.state_dict(),\n",
    "                'optimizer_encoder_state_dict': optimizer_encoder.state_dict(),\n",
    "                'loss': avg_loss,\n",
    "            }, os.path.join(save_dir, f'pretrain_checkpoint_{epoch+1}.pt'))\n",
    "    \n",
    "    print(\"\\nPhase 2: Training GAN-CL...\")\n",
    "    train_epochs = 50\n",
    "#     train_epochs = 10\n",
    "    for epoch in range(train_epochs):\n",
    "        epoch_losses = {\n",
    "            'contrastive': 0,\n",
    "            'adversarial': 0,\n",
    "            'similarity': 0,\n",
    "            'total': 0\n",
    "        }\n",
    "        \n",
    "        for batch in tqdm(train_loader, desc=f'Train Epoch {epoch+1}/{train_epochs}'):\n",
    "            batch = batch.to(device)\n",
    "            \n",
    "            # Step 1: Train Encoder\n",
    "            optimizer_encoder.zero_grad()\n",
    "            \n",
    "            # Get importance scores from generator\n",
    "            with torch.no_grad():\n",
    "                node_scores, edge_scores = model.generator(batch)\n",
    "            \n",
    "            # Create perturbed graph\n",
    "            perturbed_data = model.drop_graph_elements(batch, node_scores, edge_scores)\n",
    "            \n",
    "            # Get embeddings\n",
    "            query_emb = model.encoder(perturbed_data)\n",
    "            with torch.no_grad():\n",
    "                key_emb = model.momentum_encoder(batch)\n",
    "                original_emb = model.encoder(batch).detach()\n",
    "            \n",
    "            # Compute losses for encoder\n",
    "            contrastive_loss = model.memory_queue.compute_contrastive_loss(\n",
    "                query_emb, key_emb, model.config.temperature\n",
    "            )\n",
    "            similarity_loss = F.mse_loss(query_emb, original_emb)\n",
    "            \n",
    "            # Total loss for encoder\n",
    "            encoder_loss = contrastive_loss + 0.1 * similarity_loss\n",
    "            \n",
    "            # Update encoder\n",
    "            encoder_loss.backward()\n",
    "            optimizer_encoder.step()\n",
    "            \n",
    "            # Update momentum encoder\n",
    "            model._momentum_update()\n",
    "            \n",
    "            # Step 2: Train Generator\n",
    "            optimizer_generator.zero_grad()\n",
    "            \n",
    "            # Get new embeddings for adversarial loss\n",
    "            node_scores, edge_scores = model.generator(batch)\n",
    "            perturbed_data = model.drop_graph_elements(batch, node_scores, edge_scores)\n",
    "            \n",
    "            with torch.no_grad():\n",
    "                original_emb = model.encoder(batch)\n",
    "            perturbed_emb = model.encoder(perturbed_data)\n",
    "            \n",
    "            # Compute adversarial loss\n",
    "            adversarial_loss = -F.mse_loss(perturbed_emb, original_emb)\n",
    "            \n",
    "            # Update generator\n",
    "            adversarial_loss.backward()\n",
    "            optimizer_generator.step()\n",
    "            \n",
    "            # Update memory queue\n",
    "            model.memory_queue.update_queue(key_emb.detach())\n",
    "            \n",
    "            # Update metrics\n",
    "            epoch_losses['contrastive'] += contrastive_loss.item()\n",
    "            epoch_losses['adversarial'] += adversarial_loss.item()\n",
    "            epoch_losses['similarity'] += similarity_loss.item()\n",
    "            epoch_losses['total'] += encoder_loss.item()\n",
    "        \n",
    "        # Average losses\n",
    "        for k in epoch_losses:\n",
    "            epoch_losses[k] /= len(train_loader)\n",
    "            metrics[f'{k}_losses'].append(epoch_losses[k])\n",
    "        \n",
    "        print(f'Epoch {epoch+1}, Losses: {epoch_losses}')\n",
    "        \n",
    "        # Save checkpoint\n",
    "        if (epoch + 1) % 10 == 0:\n",
    "            torch.save({\n",
    "                'epoch': epoch,\n",
    "                'model_state_dict': model.state_dict(),\n",
    "                'optimizer_encoder_state_dict': optimizer_encoder.state_dict(),\n",
    "                'optimizer_generator_state_dict': optimizer_generator.state_dict(),\n",
    "                'losses': epoch_losses,\n",
    "            }, os.path.join(save_dir, f'gan_cl_checkpoint_{epoch+1}.pt'))\n",
    "            \n",
    "        # Extract and save embeddings periodically\n",
    "        if (epoch + 1) % 10 == 0:\n",
    "            model.eval()\n",
    "            all_embeddings = []\n",
    "            all_graphs = []\n",
    "            \n",
    "            with torch.no_grad():\n",
    "                for batch in train_loader:\n",
    "                    batch = batch.to(device)\n",
    "                    embeddings = model.get_embeddings(batch)\n",
    "                    all_embeddings.append(embeddings.cpu())\n",
    "                    all_graphs.extend([data for data in batch])\n",
    "            \n",
    "            all_embeddings = torch.cat(all_embeddings, dim=0)\n",
    "            \n",
    "            # Save embeddings\n",
    "#             timestamp = datetime.now().strftime('%Y%m%d_%H%M%S')\n",
    "            save_embeddings(\n",
    "                all_embeddings.numpy(),\n",
    "                all_graphs,\n",
    "                os.path.join(embedding_dir, f'embeddings_epoch_{epoch+1}_{timestamp}.pkl')\n",
    "            )\n",
    "            \n",
    "            model.train()\n",
    "    \n",
    "    # Save final metrics\n",
    "    with open(os.path.join(save_dir, 'training_metrics.json'), 'w') as f:\n",
    "        json.dump(metrics, f)\n",
    "    \n",
    "            # Save encoder periodically\n",
    "        if (epoch + 1) % 10 == 0:\n",
    "            epoch_info = {\n",
    "                **model_info,\n",
    "                'epoch': epoch + 1,\n",
    "                'loss': epoch_losses['total']\n",
    "            }\n",
    "            save_encoder(\n",
    "                model.encoder,\n",
    "                os.path.join(encoder_dir, f'encoder_epoch_{epoch+1}.pt'),\n",
    "                epoch_info\n",
    "            )\n",
    "        \n",
    "        # Save best encoder based on total loss\n",
    "        if epoch_losses['total'] < best_loss:\n",
    "            best_loss = epoch_losses['total']\n",
    "            save_encoder(\n",
    "                model.encoder,\n",
    "                os.path.join(encoder_dir, f'best_encoder_{timestamp}.pt'),\n",
    "                {**model_info, 'epoch': epoch + 1, 'loss': best_loss}\n",
    "            )\n",
    "    \n",
    "    # Save final encoder\n",
    "    save_encoder(\n",
    "        model.encoder,\n",
    "        os.path.join(encoder_dir, f'final_encoder_{timestamp}.pt'),\n",
    "        {**model_info, 'epoch': train_epochs, 'loss': epoch_losses['total']}\n",
    "    )\n",
    "    \n",
    "    return model, metrics\n"
   ]
  },
  {
   "cell_type": "code",
   "execution_count": 5,
   "id": "4dbc0517",
   "metadata": {
    "scrolled": false
   },
   "outputs": [
    {
     "name": "stdout",
     "output_type": "stream",
     "text": [
      "Starting data loading...\n",
      "Failed to generate 3D conformer\n",
      "Failed to generate 3D conformer\n",
      "Failed to generate 3D conformer\n"
     ]
    },
    {
     "name": "stderr",
     "output_type": "stream",
     "text": [
      "[23:40:14] UFFTYPER: Unrecognized atom type: Se2+2 (17)\n"
     ]
    },
    {
     "name": "stdout",
     "output_type": "stream",
     "text": [
      "Failed to generate 3D conformer\n"
     ]
    },
    {
     "name": "stderr",
     "output_type": "stream",
     "text": [
      "[23:40:18] UFFTYPER: Unrecognized charge state for atom: 1\n"
     ]
    },
    {
     "name": "stdout",
     "output_type": "stream",
     "text": [
      "Failed to generate 3D conformer\n"
     ]
    },
    {
     "name": "stderr",
     "output_type": "stream",
     "text": [
      "[23:40:26] UFFTYPER: Unrecognized charge state for atom: 4\n"
     ]
    },
    {
     "name": "stdout",
     "output_type": "stream",
     "text": [
      "Failed to generate 3D conformer\n"
     ]
    },
    {
     "name": "stderr",
     "output_type": "stream",
     "text": [
      "[23:40:56] UFFTYPER: Unrecognized atom type: S_5+4 (11)\n"
     ]
    },
    {
     "name": "stdout",
     "output_type": "stream",
     "text": [
      "Failed to generate 3D conformer\n"
     ]
    },
    {
     "name": "stderr",
     "output_type": "stream",
     "text": [
      "[23:41:17] UFFTYPER: Unrecognized atom type: Se2+2 (14)\n",
      "[23:41:17] UFFTYPER: Unrecognized charge state for atom: 20\n",
      "[23:41:17] UFFTYPER: Unrecognized charge state for atom: 40\n"
     ]
    },
    {
     "name": "stdout",
     "output_type": "stream",
     "text": [
      "Failed to generate 3D conformer\n"
     ]
    },
    {
     "name": "stderr",
     "output_type": "stream",
     "text": [
      "[23:41:18] UFFTYPER: Unrecognized charge state for atom: 5\n",
      "[23:41:23] UFFTYPER: Unrecognized charge state for atom: 9\n",
      "[23:41:27] UFFTYPER: Unrecognized charge state for atom: 2\n"
     ]
    },
    {
     "name": "stdout",
     "output_type": "stream",
     "text": [
      "Failed to generate 3D conformer\n"
     ]
    },
    {
     "name": "stderr",
     "output_type": "stream",
     "text": [
      "[23:41:40] UFFTYPER: Unrecognized charge state for atom: 8\n",
      "[23:42:17] UFFTYPER: Unrecognized charge state for atom: 6\n"
     ]
    },
    {
     "name": "stdout",
     "output_type": "stream",
     "text": [
      "Failed to generate 3D conformer\n",
      "Failed to generate 3D conformer\n",
      "Failed to generate 3D conformer\n",
      "Failed to generate 3D conformer\n",
      "Failed to generate 3D conformer\n",
      "Failed to generate 3D conformer\n"
     ]
    },
    {
     "name": "stderr",
     "output_type": "stream",
     "text": [
      "[23:43:52] UFFTYPER: Unrecognized charge state for atom: 2\n"
     ]
    },
    {
     "name": "stdout",
     "output_type": "stream",
     "text": [
      "Failed to generate 3D conformer\n"
     ]
    },
    {
     "name": "stderr",
     "output_type": "stream",
     "text": [
      "[23:44:10] UFFTYPER: Unrecognized charge state for atom: 3\n",
      "[23:44:10] UFFTYPER: Unrecognized charge state for atom: 7\n"
     ]
    },
    {
     "name": "stdout",
     "output_type": "stream",
     "text": [
      "Failed to generate 3D conformer\n",
      "Failed to generate 3D conformer\n"
     ]
    },
    {
     "name": "stderr",
     "output_type": "stream",
     "text": [
      "[23:45:04] UFFTYPER: Unrecognized atom type: S_6+6 (17)\n",
      "[23:45:12] UFFTYPER: Unrecognized atom type: Se2+2 (7)\n",
      "[23:45:12] UFFTYPER: Unrecognized atom type: Se2+2 (7)\n"
     ]
    },
    {
     "name": "stdout",
     "output_type": "stream",
     "text": [
      "Failed to generate 3D conformer\n"
     ]
    },
    {
     "name": "stderr",
     "output_type": "stream",
     "text": [
      "[23:45:28] UFFTYPER: Unrecognized charge state for atom: 5\n",
      "[23:45:42] UFFTYPER: Unrecognized charge state for atom: 13\n"
     ]
    },
    {
     "name": "stdout",
     "output_type": "stream",
     "text": [
      "Failed to generate 3D conformer\n",
      "Failed to generate 3D conformer\n",
      "Failed to generate 3D conformer\n"
     ]
    },
    {
     "name": "stderr",
     "output_type": "stream",
     "text": [
      "[23:46:20] UFFTYPER: Unrecognized charge state for atom: 8\n",
      "[23:46:33] UFFTYPER: Unrecognized atom type: Se2+2 (16)\n"
     ]
    },
    {
     "name": "stdout",
     "output_type": "stream",
     "text": [
      "Failed to generate 3D conformer\n"
     ]
    },
    {
     "name": "stderr",
     "output_type": "stream",
     "text": [
      "[23:46:52] UFFTYPER: Unrecognized charge state for atom: 4\n"
     ]
    },
    {
     "name": "stdout",
     "output_type": "stream",
     "text": [
      "Failed to generate 3D conformer\n",
      "Failed to generate 3D conformer\n"
     ]
    },
    {
     "name": "stderr",
     "output_type": "stream",
     "text": [
      "[23:47:23] UFFTYPER: Unrecognized charge state for atom: 1\n"
     ]
    },
    {
     "name": "stdout",
     "output_type": "stream",
     "text": [
      "Failed to generate 3D conformer\n"
     ]
    },
    {
     "name": "stderr",
     "output_type": "stream",
     "text": [
      "[23:48:35] UFFTYPER: Unrecognized charge state for atom: 17\n",
      "[23:48:35] UFFTYPER: Unrecognized charge state for atom: 19\n",
      "[23:48:38] UFFTYPER: Unrecognized charge state for atom: 8\n"
     ]
    },
    {
     "name": "stdout",
     "output_type": "stream",
     "text": [
      "Failed to generate 3D conformer\n",
      "Failed to generate 3D conformer\n",
      "Failed to generate 3D conformer\n",
      "Failed to generate 3D conformer\n"
     ]
    },
    {
     "name": "stderr",
     "output_type": "stream",
     "text": [
      "[23:50:52] UFFTYPER: Unrecognized charge state for atom: 8\n",
      "[23:50:54] UFFTYPER: Unrecognized charge state for atom: 1\n",
      "[23:51:08] UFFTYPER: Unrecognized atom type: Se2+2 (9)\n"
     ]
    },
    {
     "name": "stdout",
     "output_type": "stream",
     "text": [
      "Failed to generate 3D conformer\n",
      "Failed to generate 3D conformer\n",
      "Failed to generate 3D conformer\n",
      "Failed to generate 3D conformer\n",
      "Failed to generate 3D conformer\n",
      "Failed to generate 3D conformer\n",
      "Failed to generate 3D conformer\n"
     ]
    },
    {
     "name": "stderr",
     "output_type": "stream",
     "text": [
      "[23:52:15] UFFTYPER: Unrecognized atom type: S_5+4 (1)\n",
      "[23:52:25] UFFTYPER: Unrecognized atom type: S_5+4 (10)\n"
     ]
    },
    {
     "name": "stdout",
     "output_type": "stream",
     "text": [
      "Failed to generate 3D conformer\n"
     ]
    },
    {
     "name": "stderr",
     "output_type": "stream",
     "text": [
      "[23:52:45] UFFTYPER: Unrecognized hybridization for atom: 1\n",
      "[23:52:45] UFFTYPER: Unrecognized atom type: Pt+2 (1)\n"
     ]
    },
    {
     "name": "stdout",
     "output_type": "stream",
     "text": [
      "Failed to generate 3D conformer\n",
      "Failed to generate 3D conformer\n",
      "Failed to generate 3D conformer\n",
      "Failed to generate 3D conformer\n",
      "Failed to generate 3D conformer\n",
      "Failed to generate 3D conformer\n"
     ]
    },
    {
     "name": "stderr",
     "output_type": "stream",
     "text": [
      "[23:56:19] UFFTYPER: Unrecognized charge state for atom: 3\n",
      "[23:56:20] UFFTYPER: Unrecognized charge state for atom: 15\n",
      "[23:56:25] UFFTYPER: Unrecognized atom type: S_5+4 (15)\n"
     ]
    },
    {
     "name": "stdout",
     "output_type": "stream",
     "text": [
      "Failed to generate 3D conformer\n",
      "Failed to generate 3D conformer\n",
      "Failed to generate 3D conformer\n",
      "Failed to generate 3D conformer\n",
      "Failed to generate 3D conformer\n",
      "Failed to generate 3D conformer\n",
      "Failed to generate 3D conformer\n",
      "Failed to generate 3D conformer\n",
      "Failed to generate 3D conformer\n",
      "Failed to generate 3D conformer\n",
      "Failed to generate 3D conformer\n",
      "Failed to generate 3D conformer\n",
      "Failed to generate 3D conformer\n",
      "Failed to generate 3D conformer\n",
      "Failed to generate 3D conformer\n",
      "Failed to generate 3D conformer\n",
      "Failed to generate 3D conformer\n",
      "Failed to generate 3D conformer\n",
      "Failed to generate 3D conformer\n"
     ]
    },
    {
     "name": "stderr",
     "output_type": "stream",
     "text": [
      "[00:00:37] UFFTYPER: Unrecognized atom type: S_5+4 (20)\n"
     ]
    },
    {
     "name": "stdout",
     "output_type": "stream",
     "text": [
      "Failed to generate 3D conformer\n",
      "Failed to generate 3D conformer\n"
     ]
    },
    {
     "name": "stderr",
     "output_type": "stream",
     "text": [
      "[00:00:50] UFFTYPER: Unrecognized atom type: S_5+4 (8)\n",
      "[00:00:50] UFFTYPER: Unrecognized atom type: S_5+4 (18)\n",
      "[00:00:52] UFFTYPER: Unrecognized charge state for atom: 3\n",
      "[00:00:52] UFFTYPER: Unrecognized charge state for atom: 5\n",
      "[00:00:52] UFFTYPER: Unrecognized charge state for atom: 6\n",
      "[00:00:52] UFFTYPER: Unrecognized charge state for atom: 7\n",
      "[00:00:52] UFFTYPER: Unrecognized atom type: Se2+2 (7)\n"
     ]
    },
    {
     "name": "stdout",
     "output_type": "stream",
     "text": [
      "Failed to generate 3D conformer\n",
      "Failed to generate 3D conformer\n"
     ]
    },
    {
     "name": "stderr",
     "output_type": "stream",
     "text": [
      "[00:01:04] UFFTYPER: Unrecognized charge state for atom: 30\n"
     ]
    },
    {
     "name": "stdout",
     "output_type": "stream",
     "text": [
      "Failed to generate 3D conformer\n",
      "Failed to generate 3D conformer\n",
      "Failed to generate 3D conformer\n",
      "Failed to generate 3D conformer\n",
      "Failed to generate 3D conformer\n"
     ]
    },
    {
     "name": "stderr",
     "output_type": "stream",
     "text": [
      "[00:01:52] UFFTYPER: Unrecognized atom type: S_6+6 (1)\n",
      "[00:01:57] UFFTYPER: Unrecognized charge state for atom: 3\n"
     ]
    },
    {
     "name": "stdout",
     "output_type": "stream",
     "text": [
      "Failed to generate 3D conformer\n",
      "Failed to generate 3D conformer\n",
      "Failed to generate 3D conformer\n"
     ]
    },
    {
     "name": "stderr",
     "output_type": "stream",
     "text": [
      "[00:02:28] UFFTYPER: Unrecognized charge state for atom: 1\n"
     ]
    },
    {
     "name": "stdout",
     "output_type": "stream",
     "text": [
      "Failed to generate 3D conformer\n"
     ]
    },
    {
     "name": "stderr",
     "output_type": "stream",
     "text": [
      "[00:02:55] UFFTYPER: Unrecognized charge state for atom: 8\n"
     ]
    },
    {
     "name": "stdout",
     "output_type": "stream",
     "text": [
      "Failed to generate 3D conformer\n",
      "Failed to generate 3D conformer\n",
      "Failed to generate 3D conformer\n"
     ]
    },
    {
     "name": "stderr",
     "output_type": "stream",
     "text": [
      "[00:03:39] UFFTYPER: Unrecognized charge state for atom: 11\n",
      "[00:03:43] UFFTYPER: Unrecognized charge state for atom: 7\n"
     ]
    },
    {
     "name": "stdout",
     "output_type": "stream",
     "text": [
      "Failed to generate 3D conformer\n",
      "Failed to generate 3D conformer\n"
     ]
    },
    {
     "name": "stderr",
     "output_type": "stream",
     "text": [
      "[00:04:28] UFFTYPER: Unrecognized atom type: S_5+4 (17)\n",
      "[00:04:29] UFFTYPER: Unrecognized charge state for atom: 17\n"
     ]
    },
    {
     "name": "stdout",
     "output_type": "stream",
     "text": [
      "Failed to generate 3D conformer\n"
     ]
    },
    {
     "name": "stderr",
     "output_type": "stream",
     "text": [
      "[00:04:40] UFFTYPER: Unrecognized charge state for atom: 19\n",
      "[00:04:45] UFFTYPER: Unrecognized charge state for atom: 6\n"
     ]
    },
    {
     "name": "stdout",
     "output_type": "stream",
     "text": [
      "Failed to generate 3D conformer\n",
      "Failed to generate 3D conformer\n",
      "Failed to generate 3D conformer\n",
      "Failed to generate 3D conformer\n"
     ]
    },
    {
     "name": "stderr",
     "output_type": "stream",
     "text": [
      "[00:05:49] UFFTYPER: Unrecognized charge state for atom: 10\n"
     ]
    },
    {
     "name": "stdout",
     "output_type": "stream",
     "text": [
      "Failed to generate 3D conformer\n"
     ]
    },
    {
     "name": "stderr",
     "output_type": "stream",
     "text": [
      "[00:05:54] UFFTYPER: Unrecognized charge state for atom: 15\n",
      "[00:06:04] UFFTYPER: Unrecognized charge state for atom: 7\n"
     ]
    },
    {
     "name": "stdout",
     "output_type": "stream",
     "text": [
      "Failed to generate 3D conformer\n",
      "Failed to generate 3D conformer\n",
      "Failed to generate 3D conformer\n",
      "Failed to generate 3D conformer\n"
     ]
    },
    {
     "name": "stderr",
     "output_type": "stream",
     "text": [
      "[00:07:05] UFFTYPER: Unrecognized atom type: S_5+4 (36)\n"
     ]
    },
    {
     "name": "stdout",
     "output_type": "stream",
     "text": [
      "Failed to generate 3D conformer\n",
      "Failed to generate 3D conformer\n",
      "Failed to generate 3D conformer\n",
      "Failed to generate 3D conformer\n"
     ]
    },
    {
     "name": "stderr",
     "output_type": "stream",
     "text": [
      "[00:07:55] UFFTYPER: Unrecognized charge state for atom: 8\n"
     ]
    },
    {
     "name": "stdout",
     "output_type": "stream",
     "text": [
      "Failed to generate 3D conformer\n",
      "Failed to generate 3D conformer\n",
      "Failed to generate 3D conformer\n"
     ]
    },
    {
     "name": "stderr",
     "output_type": "stream",
     "text": [
      "[00:08:18] UFFTYPER: Unrecognized charge state for atom: 25\n"
     ]
    },
    {
     "name": "stdout",
     "output_type": "stream",
     "text": [
      "Failed to generate 3D conformer\n"
     ]
    },
    {
     "name": "stderr",
     "output_type": "stream",
     "text": [
      "[00:09:13] UFFTYPER: Unrecognized charge state for atom: 6\n",
      "[00:09:13] UFFTYPER: Unrecognized charge state for atom: 8\n",
      "[00:09:18] UFFTYPER: Unrecognized charge state for atom: 3\n",
      "[00:09:20] UFFTYPER: Unrecognized charge state for atom: 16\n"
     ]
    },
    {
     "name": "stdout",
     "output_type": "stream",
     "text": [
      "Failed to generate 3D conformer\n",
      "Failed to generate 3D conformer\n"
     ]
    },
    {
     "name": "stderr",
     "output_type": "stream",
     "text": [
      "[00:09:28] UFFTYPER: Unrecognized atom type: S_5+4 (8)\n"
     ]
    },
    {
     "name": "stdout",
     "output_type": "stream",
     "text": [
      "Failed to generate 3D conformer\n",
      "Failed to generate 3D conformer\n",
      "Failed to generate 3D conformer\n",
      "Failed to generate 3D conformer\n"
     ]
    },
    {
     "name": "stderr",
     "output_type": "stream",
     "text": [
      "[00:10:10] UFFTYPER: Unrecognized charge state for atom: 2\n"
     ]
    },
    {
     "name": "stdout",
     "output_type": "stream",
     "text": [
      "Failed to generate 3D conformer\n",
      "Failed to generate 3D conformer\n",
      "Failed to generate 3D conformer\n"
     ]
    },
    {
     "name": "stderr",
     "output_type": "stream",
     "text": [
      "[00:11:16] UFFTYPER: Unrecognized atom type: Ge2 (0)\n"
     ]
    },
    {
     "name": "stdout",
     "output_type": "stream",
     "text": [
      "Failed to generate 3D conformer\n"
     ]
    },
    {
     "name": "stderr",
     "output_type": "stream",
     "text": [
      "[00:11:18] UFFTYPER: Unrecognized atom type: Se2+2 (33)\n",
      "[00:11:20] UFFTYPER: Unrecognized charge state for atom: 40\n",
      "[00:11:20] UFFTYPER: Unrecognized charge state for atom: 47\n",
      "[00:11:46] UFFTYPER: Unrecognized charge state for atom: 12\n",
      "[00:11:46] UFFTYPER: Unrecognized charge state for atom: 44\n"
     ]
    },
    {
     "name": "stdout",
     "output_type": "stream",
     "text": [
      "Failed to generate 3D conformer\n",
      "Failed to generate 3D conformer\n"
     ]
    },
    {
     "name": "stderr",
     "output_type": "stream",
     "text": [
      "[00:11:53] UFFTYPER: Unrecognized atom type: S_5+4 (29)\n"
     ]
    },
    {
     "name": "stdout",
     "output_type": "stream",
     "text": [
      "Failed to generate 3D conformer\n",
      "Failed to generate 3D conformer\n",
      "Failed to generate 3D conformer\n",
      "Failed to generate 3D conformer\n"
     ]
    },
    {
     "name": "stderr",
     "output_type": "stream",
     "text": [
      "[00:13:13] UFFTYPER: Unrecognized atom type: S_6+6 (1)\n",
      "[00:13:20] UFFTYPER: Unrecognized atom type: S_5+4 (1)\n",
      "[00:13:35] UFFTYPER: Unrecognized charge state for atom: 5\n",
      "[00:13:44] UFFTYPER: Unrecognized charge state for atom: 2\n"
     ]
    },
    {
     "name": "stdout",
     "output_type": "stream",
     "text": [
      "Failed to generate 3D conformer\n",
      "Failed to generate 3D conformer\n"
     ]
    },
    {
     "name": "stderr",
     "output_type": "stream",
     "text": [
      "[00:14:14] UFFTYPER: Unrecognized charge state for atom: 1\n",
      "[00:14:14] UFFTYPER: Unrecognized atom type: Se2+2 (16)\n"
     ]
    },
    {
     "name": "stdout",
     "output_type": "stream",
     "text": [
      "Failed to generate 3D conformer\n"
     ]
    },
    {
     "name": "stderr",
     "output_type": "stream",
     "text": [
      "[00:14:30] UFFTYPER: Unrecognized atom type: S_5+4 (20)\n",
      "[00:14:33] UFFTYPER: Unrecognized charge state for atom: 4\n",
      "[00:14:33] UFFTYPER: Unrecognized atom type: Se2+2 (4)\n",
      "[00:14:33] UFFTYPER: Unrecognized charge state for atom: 5\n",
      "[00:14:33] UFFTYPER: Unrecognized atom type: Se5+2 (5)\n",
      "[00:14:33] UFFTYPER: Unrecognized charge state for atom: 12\n",
      "[00:14:33] UFFTYPER: Unrecognized atom type: Se2+2 (12)\n"
     ]
    },
    {
     "name": "stdout",
     "output_type": "stream",
     "text": [
      "Failed to generate 3D conformer\n",
      "Failed to generate 3D conformer\n",
      "Failed to generate 3D conformer\n"
     ]
    },
    {
     "name": "stderr",
     "output_type": "stream",
     "text": [
      "[00:15:16] UFFTYPER: Unrecognized charge state for atom: 6\n"
     ]
    },
    {
     "name": "stdout",
     "output_type": "stream",
     "text": [
      "Failed to generate 3D conformer\n"
     ]
    },
    {
     "name": "stderr",
     "output_type": "stream",
     "text": [
      "[00:15:55] UFFTYPER: Unrecognized atom type: S_5+4 (12)\n",
      "[00:15:58] UFFTYPER: Unrecognized charge state for atom: 10\n",
      "[00:16:00] UFFTYPER: Unrecognized charge state for atom: 9\n"
     ]
    },
    {
     "name": "stdout",
     "output_type": "stream",
     "text": [
      "Failed to generate 3D conformer\n",
      "Failed to generate 3D conformer\n"
     ]
    },
    {
     "name": "stderr",
     "output_type": "stream",
     "text": [
      "[00:16:43] UFFTYPER: Unrecognized charge state for atom: 9\n",
      "[00:16:43] UFFTYPER: Unrecognized charge state for atom: 10\n"
     ]
    },
    {
     "name": "stdout",
     "output_type": "stream",
     "text": [
      "Failed to generate 3D conformer\n",
      "Failed to generate 3D conformer\n"
     ]
    },
    {
     "name": "stderr",
     "output_type": "stream",
     "text": [
      "[00:17:14] UFFTYPER: Unrecognized charge state for atom: 2\n"
     ]
    },
    {
     "name": "stdout",
     "output_type": "stream",
     "text": [
      "Failed to generate 3D conformer\n",
      "Failed to generate 3D conformer\n"
     ]
    },
    {
     "name": "stderr",
     "output_type": "stream",
     "text": [
      "[00:17:18] UFFTYPER: Unrecognized atom type: S_5+4 (23)\n",
      "[00:17:21] UFFTYPER: Unrecognized atom type: Se2+2 (7)\n"
     ]
    },
    {
     "name": "stdout",
     "output_type": "stream",
     "text": [
      "Failed to generate 3D conformer\n",
      "Failed to generate 3D conformer\n"
     ]
    },
    {
     "name": "stderr",
     "output_type": "stream",
     "text": [
      "[00:17:40] UFFTYPER: Unrecognized charge state for atom: 5\n"
     ]
    },
    {
     "name": "stdout",
     "output_type": "stream",
     "text": [
      "Failed to generate 3D conformer\n",
      "Failed to generate 3D conformer\n"
     ]
    },
    {
     "name": "stderr",
     "output_type": "stream",
     "text": [
      "[00:18:02] UFFTYPER: Unrecognized atom type: S_5+4 (35)\n"
     ]
    },
    {
     "name": "stdout",
     "output_type": "stream",
     "text": [
      "Failed to generate 3D conformer\n"
     ]
    },
    {
     "name": "stderr",
     "output_type": "stream",
     "text": [
      "[00:18:14] UFFTYPER: Unrecognized atom type: Se2+2 (5)\n"
     ]
    },
    {
     "name": "stdout",
     "output_type": "stream",
     "text": [
      "Failed to generate 3D conformer\n",
      "Failed to generate 3D conformer\n",
      "Failed to generate 3D conformer\n",
      "Failed to generate 3D conformer\n",
      "Failed to generate 3D conformer\n",
      "Failed to generate 3D conformer\n"
     ]
    },
    {
     "name": "stderr",
     "output_type": "stream",
     "text": [
      "[00:19:21] UFFTYPER: Unrecognized charge state for atom: 3\n"
     ]
    },
    {
     "name": "stdout",
     "output_type": "stream",
     "text": [
      "Failed to generate 3D conformer\n",
      "Failed to generate 3D conformer\n",
      "Failed to generate 3D conformer\n",
      "Failed to generate 3D conformer\n",
      "Failed to generate 3D conformer\n"
     ]
    },
    {
     "name": "stderr",
     "output_type": "stream",
     "text": [
      "[00:21:02] UFFTYPER: Unrecognized charge state for atom: 24\n"
     ]
    },
    {
     "name": "stdout",
     "output_type": "stream",
     "text": [
      "Failed to generate 3D conformer\n"
     ]
    },
    {
     "name": "stderr",
     "output_type": "stream",
     "text": [
      "[00:21:47] UFFTYPER: Unrecognized charge state for atom: 1\n",
      "[00:21:47] UFFTYPER: Unrecognized charge state for atom: 2\n",
      "[00:21:47] UFFTYPER: Unrecognized charge state for atom: 4\n",
      "[00:21:47] UFFTYPER: Unrecognized charge state for atom: 6\n",
      "[00:21:47] UFFTYPER: Unrecognized charge state for atom: 8\n"
     ]
    },
    {
     "name": "stdout",
     "output_type": "stream",
     "text": [
      "Failed to generate 3D conformer\n",
      "Failed to generate 3D conformer\n",
      "Failed to generate 3D conformer\n",
      "Failed to generate 3D conformer\n"
     ]
    },
    {
     "name": "stderr",
     "output_type": "stream",
     "text": [
      "[00:22:43] UFFTYPER: Unrecognized charge state for atom: 25\n",
      "[00:24:14] UFFTYPER: Unrecognized atom type: S_5+4 (11)\n"
     ]
    },
    {
     "name": "stdout",
     "output_type": "stream",
     "text": [
      "Failed to generate 3D conformer\n",
      "Failed to generate 3D conformer\n"
     ]
    },
    {
     "name": "stderr",
     "output_type": "stream",
     "text": [
      "[00:25:18] UFFTYPER: Unrecognized charge state for atom: 5\n",
      "[00:25:18] UFFTYPER: Unrecognized atom type: Ga2+3 (5)\n"
     ]
    },
    {
     "name": "stdout",
     "output_type": "stream",
     "text": [
      "Failed to generate 3D conformer\n",
      "Failed to generate 3D conformer\n",
      "Failed to generate 3D conformer\n",
      "Failed to generate 3D conformer\n"
     ]
    },
    {
     "name": "stderr",
     "output_type": "stream",
     "text": [
      "[00:25:37] UFFTYPER: Unrecognized charge state for atom: 3\n"
     ]
    },
    {
     "name": "stdout",
     "output_type": "stream",
     "text": [
      "Failed to generate 3D conformer\n",
      "Failed to generate 3D conformer\n",
      "Failed to generate 3D conformer\n",
      "Failed to generate 3D conformer\n"
     ]
    },
    {
     "name": "stderr",
     "output_type": "stream",
     "text": [
      "[00:25:55] UFFTYPER: Unrecognized charge state for atom: 7\n",
      "[00:25:55] UFFTYPER: Unrecognized atom type: Se2+2 (7)\n"
     ]
    },
    {
     "name": "stdout",
     "output_type": "stream",
     "text": [
      "Failed to generate 3D conformer\n",
      "Failed to generate 3D conformer\n",
      "Failed to generate 3D conformer\n",
      "Failed to generate 3D conformer\n",
      "Failed to generate 3D conformer\n",
      "Failed to generate 3D conformer\n",
      "Failed to generate 3D conformer\n",
      "Failed to generate 3D conformer\n"
     ]
    },
    {
     "name": "stderr",
     "output_type": "stream",
     "text": [
      "[00:27:10] UFFTYPER: Unrecognized charge state for atom: 9\n",
      "[00:27:27] UFFTYPER: Unrecognized charge state for atom: 9\n",
      "[00:27:27] UFFTYPER: Unrecognized charge state for atom: 22\n"
     ]
    },
    {
     "name": "stdout",
     "output_type": "stream",
     "text": [
      "Failed to generate 3D conformer\n"
     ]
    },
    {
     "name": "stderr",
     "output_type": "stream",
     "text": [
      "[00:27:50] UFFTYPER: Unrecognized charge state for atom: 16\n",
      "[00:27:50] UFFTYPER: Unrecognized atom type: Se2+2 (16)\n"
     ]
    },
    {
     "name": "stdout",
     "output_type": "stream",
     "text": [
      "Failed to generate 3D conformer\n",
      "Failed to generate 3D conformer\n",
      "Failed to generate 3D conformer\n",
      "Failed to generate 3D conformer\n"
     ]
    },
    {
     "name": "stderr",
     "output_type": "stream",
     "text": [
      "[00:28:05] UFFTYPER: Unrecognized charge state for atom: 8\n",
      "[00:28:07] UFFTYPER: Unrecognized charge state for atom: 7\n",
      "[00:28:07] UFFTYPER: Unrecognized charge state for atom: 19\n"
     ]
    },
    {
     "name": "stdout",
     "output_type": "stream",
     "text": [
      "Failed to generate 3D conformer\n"
     ]
    },
    {
     "name": "stderr",
     "output_type": "stream",
     "text": [
      "[00:28:21] UFFTYPER: Unrecognized atom type: S_5+4 (23)\n"
     ]
    },
    {
     "name": "stdout",
     "output_type": "stream",
     "text": [
      "Failed to generate 3D conformer\n"
     ]
    },
    {
     "name": "stderr",
     "output_type": "stream",
     "text": [
      "[00:28:52] UFFTYPER: Unrecognized charge state for atom: 22\n"
     ]
    },
    {
     "name": "stdout",
     "output_type": "stream",
     "text": [
      "Failed to generate 3D conformer\n"
     ]
    },
    {
     "name": "stderr",
     "output_type": "stream",
     "text": [
      "[00:29:00] UFFTYPER: Unrecognized atom type: S_5+4 (2)\n"
     ]
    },
    {
     "name": "stdout",
     "output_type": "stream",
     "text": [
      "Failed to generate 3D conformer\n",
      "Failed to generate 3D conformer\n",
      "Failed to generate 3D conformer\n"
     ]
    },
    {
     "name": "stderr",
     "output_type": "stream",
     "text": [
      "[00:29:43] UFFTYPER: Unrecognized charge state for atom: 5\n"
     ]
    },
    {
     "name": "stdout",
     "output_type": "stream",
     "text": [
      "Failed to generate 3D conformer\n",
      "Failed to generate 3D conformer\n",
      "Failed to generate 3D conformer\n"
     ]
    },
    {
     "name": "stderr",
     "output_type": "stream",
     "text": [
      "[00:30:19] UFFTYPER: Unrecognized charge state for atom: 5\n",
      "[00:30:21] UFFTYPER: Unrecognized charge state for atom: 1\n"
     ]
    },
    {
     "name": "stdout",
     "output_type": "stream",
     "text": [
      "Failed to generate 3D conformer\n"
     ]
    },
    {
     "name": "stderr",
     "output_type": "stream",
     "text": [
      "[00:30:26] UFFTYPER: Unrecognized charge state for atom: 2\n"
     ]
    },
    {
     "name": "stdout",
     "output_type": "stream",
     "text": [
      "Failed to generate 3D conformer\n",
      "Failed to generate 3D conformer\n",
      "Failed to generate 3D conformer\n"
     ]
    },
    {
     "name": "stderr",
     "output_type": "stream",
     "text": [
      "[00:31:16] UFFTYPER: Unrecognized charge state for atom: 8\n"
     ]
    },
    {
     "name": "stdout",
     "output_type": "stream",
     "text": [
      "Failed to generate 3D conformer\n"
     ]
    },
    {
     "name": "stderr",
     "output_type": "stream",
     "text": [
      "[00:31:34] UFFTYPER: Unrecognized atom type: S_5+4 (2)\n",
      "[00:31:42] UFFTYPER: Unrecognized atom type: S_6+6 (30)\n"
     ]
    },
    {
     "name": "stdout",
     "output_type": "stream",
     "text": [
      "Failed to generate 3D conformer\n"
     ]
    },
    {
     "name": "stderr",
     "output_type": "stream",
     "text": [
      "[00:32:46] UFFTYPER: Unrecognized charge state for atom: 3\n"
     ]
    },
    {
     "name": "stdout",
     "output_type": "stream",
     "text": [
      "Failed to generate 3D conformer\n"
     ]
    },
    {
     "name": "stderr",
     "output_type": "stream",
     "text": [
      "[00:33:13] UFFTYPER: Unrecognized charge state for atom: 4\n",
      "[00:33:13] UFFTYPER: Unrecognized charge state for atom: 16\n"
     ]
    },
    {
     "name": "stdout",
     "output_type": "stream",
     "text": [
      "Failed to generate 3D conformer\n",
      "Failed to generate 3D conformer\n",
      "Failed to generate 3D conformer\n"
     ]
    },
    {
     "name": "stderr",
     "output_type": "stream",
     "text": [
      "[00:34:05] UFFTYPER: Unrecognized charge state for atom: 6\n"
     ]
    },
    {
     "name": "stdout",
     "output_type": "stream",
     "text": [
      "Failed to generate 3D conformer\n"
     ]
    },
    {
     "name": "stderr",
     "output_type": "stream",
     "text": [
      "[00:34:15] UFFTYPER: Unrecognized charge state for atom: 8\n",
      "[00:34:15] UFFTYPER: Unrecognized charge state for atom: 10\n",
      "[00:34:33] UFFTYPER: Unrecognized atom type: S_5+4 (15)\n",
      "[00:34:33] UFFTYPER: Unrecognized charge state for atom: 6\n"
     ]
    },
    {
     "name": "stdout",
     "output_type": "stream",
     "text": [
      "Failed to generate 3D conformer\n",
      "Failed to generate 3D conformer\n",
      "Failed to generate 3D conformer\n",
      "Failed to generate 3D conformer\n"
     ]
    },
    {
     "name": "stderr",
     "output_type": "stream",
     "text": [
      "[00:36:13] UFFTYPER: Unrecognized charge state for atom: 5\n"
     ]
    },
    {
     "name": "stdout",
     "output_type": "stream",
     "text": [
      "Failed to generate 3D conformer\n"
     ]
    },
    {
     "name": "stderr",
     "output_type": "stream",
     "text": [
      "[00:36:20] UFFTYPER: Unrecognized charge state for atom: 1\n"
     ]
    },
    {
     "name": "stdout",
     "output_type": "stream",
     "text": [
      "Failed to generate 3D conformer\n",
      "Failed to generate 3D conformer\n",
      "Failed to generate 3D conformer\n",
      "Failed to generate 3D conformer\n"
     ]
    },
    {
     "name": "stderr",
     "output_type": "stream",
     "text": [
      "[00:37:30] UFFTYPER: Unrecognized charge state for atom: 9\n",
      "[00:37:30] UFFTYPER: Unrecognized charge state for atom: 19\n",
      "[00:37:31] UFFTYPER: Unrecognized charge state for atom: 11\n"
     ]
    },
    {
     "name": "stdout",
     "output_type": "stream",
     "text": [
      "Failed to generate 3D conformer\n",
      "Failed to generate 3D conformer\n",
      "Failed to generate 3D conformer\n"
     ]
    },
    {
     "name": "stderr",
     "output_type": "stream",
     "text": [
      "[00:38:11] UFFTYPER: Unrecognized charge state for atom: 0\n"
     ]
    },
    {
     "name": "stdout",
     "output_type": "stream",
     "text": [
      "Failed to generate 3D conformer\n",
      "Failed to generate 3D conformer\n"
     ]
    },
    {
     "name": "stderr",
     "output_type": "stream",
     "text": [
      "[00:38:17] UFFTYPER: Unrecognized charge state for atom: 9\n"
     ]
    },
    {
     "name": "stdout",
     "output_type": "stream",
     "text": [
      "Failed to generate 3D conformer\n",
      "Failed to generate 3D conformer\n"
     ]
    },
    {
     "name": "stderr",
     "output_type": "stream",
     "text": [
      "[00:38:37] UFFTYPER: Unrecognized charge state for atom: 1\n"
     ]
    },
    {
     "name": "stdout",
     "output_type": "stream",
     "text": [
      "Failed to generate 3D conformer\n",
      "Failed to generate 3D conformer\n"
     ]
    },
    {
     "name": "stderr",
     "output_type": "stream",
     "text": [
      "[00:39:07] UFFTYPER: Unrecognized atom type: S_5+4 (21)\n",
      "[00:39:08] UFFTYPER: Unrecognized charge state for atom: 0\n"
     ]
    },
    {
     "name": "stdout",
     "output_type": "stream",
     "text": [
      "Failed to generate 3D conformer\n",
      "Failed to generate 3D conformer\n"
     ]
    },
    {
     "name": "stderr",
     "output_type": "stream",
     "text": [
      "[00:39:34] UFFTYPER: Unrecognized atom type: Se2+2 (25)\n",
      "[00:39:34] UFFTYPER: Unrecognized atom type: Se2+2 (25)\n",
      "[00:39:55] UFFTYPER: Unrecognized charge state for atom: 14\n"
     ]
    },
    {
     "name": "stdout",
     "output_type": "stream",
     "text": [
      "Failed to generate 3D conformer\n",
      "Failed to generate 3D conformer\n",
      "Failed to generate 3D conformer\n",
      "Failed to generate 3D conformer\n",
      "Failed to generate 3D conformer\n",
      "Failed to generate 3D conformer\n",
      "Failed to generate 3D conformer\n",
      "Failed to generate 3D conformer\n",
      "Failed to generate 3D conformer\n",
      "Failed to generate 3D conformer\n",
      "Failed to generate 3D conformer\n"
     ]
    },
    {
     "name": "stderr",
     "output_type": "stream",
     "text": [
      "[00:43:49] UFFTYPER: Unrecognized atom type: B_1 (0)\n",
      "[00:43:51] UFFTYPER: Unrecognized charge state for atom: 20\n"
     ]
    },
    {
     "name": "stdout",
     "output_type": "stream",
     "text": [
      "Failed to generate 3D conformer\n",
      "Failed to generate 3D conformer\n",
      "Failed to generate 3D conformer\n",
      "Failed to generate 3D conformer\n",
      "Failed to generate 3D conformer\n",
      "Failed to generate 3D conformer\n",
      "Failed to generate 3D conformer\n",
      "Failed to generate 3D conformer\n",
      "Failed to generate 3D conformer\n"
     ]
    },
    {
     "name": "stderr",
     "output_type": "stream",
     "text": [
      "[00:47:09] UFFTYPER: Unrecognized charge state for atom: 22\n"
     ]
    },
    {
     "name": "stdout",
     "output_type": "stream",
     "text": [
      "Failed to generate 3D conformer\n"
     ]
    },
    {
     "name": "stderr",
     "output_type": "stream",
     "text": [
      "[00:47:24] UFFTYPER: Unrecognized charge state for atom: 19\n"
     ]
    },
    {
     "name": "stdout",
     "output_type": "stream",
     "text": [
      "Failed to generate 3D conformer\n"
     ]
    },
    {
     "name": "stderr",
     "output_type": "stream",
     "text": [
      "[00:47:26] UFFTYPER: Unrecognized charge state for atom: 13\n"
     ]
    },
    {
     "name": "stdout",
     "output_type": "stream",
     "text": [
      "Failed to generate 3D conformer\n",
      "Failed to generate 3D conformer\n",
      "Failed to generate 3D conformer\n"
     ]
    },
    {
     "name": "stderr",
     "output_type": "stream",
     "text": [
      "[00:47:46] UFFTYPER: Unrecognized charge state for atom: 11\n",
      "[00:47:46] UFFTYPER: Unrecognized charge state for atom: 21\n",
      "[00:47:50] UFFTYPER: Unrecognized charge state for atom: 14\n"
     ]
    },
    {
     "name": "stdout",
     "output_type": "stream",
     "text": [
      "Failed to generate 3D conformer\n",
      "Failed to generate 3D conformer\n",
      "Failed to generate 3D conformer\n"
     ]
    },
    {
     "name": "stderr",
     "output_type": "stream",
     "text": [
      "[00:48:38] UFFTYPER: Unrecognized charge state for atom: 19\n"
     ]
    },
    {
     "name": "stdout",
     "output_type": "stream",
     "text": [
      "Failed to generate 3D conformer\n"
     ]
    },
    {
     "name": "stderr",
     "output_type": "stream",
     "text": [
      "[00:49:03] UFFTYPER: Unrecognized charge state for atom: 12\n"
     ]
    },
    {
     "name": "stdout",
     "output_type": "stream",
     "text": [
      "Failed to generate 3D conformer\n",
      "Failed to generate 3D conformer\n"
     ]
    },
    {
     "name": "stderr",
     "output_type": "stream",
     "text": [
      "[00:49:33] UFFTYPER: Unrecognized atom type: S_5+4 (1)\n"
     ]
    },
    {
     "name": "stdout",
     "output_type": "stream",
     "text": [
      "Failed to generate 3D conformer\n"
     ]
    },
    {
     "name": "stderr",
     "output_type": "stream",
     "text": [
      "[00:50:01] UFFTYPER: Unrecognized charge state for atom: 13\n",
      "[00:50:01] UFFTYPER: Unrecognized charge state for atom: 14\n"
     ]
    },
    {
     "name": "stdout",
     "output_type": "stream",
     "text": [
      "Failed to generate 3D conformer\n"
     ]
    },
    {
     "name": "stderr",
     "output_type": "stream",
     "text": [
      "[00:50:12] UFFTYPER: Unrecognized charge state for atom: 15\n"
     ]
    },
    {
     "name": "stdout",
     "output_type": "stream",
     "text": [
      "Failed to generate 3D conformer\n"
     ]
    },
    {
     "name": "stderr",
     "output_type": "stream",
     "text": [
      "[00:50:26] UFFTYPER: Unrecognized charge state for atom: 3\n"
     ]
    },
    {
     "name": "stdout",
     "output_type": "stream",
     "text": [
      "Failed to generate 3D conformer\n",
      "Failed to generate 3D conformer\n"
     ]
    },
    {
     "name": "stderr",
     "output_type": "stream",
     "text": [
      "[00:50:54] UFFTYPER: Unrecognized charge state for atom: 14\n",
      "[00:50:54] UFFTYPER: Unrecognized charge state for atom: 24\n",
      "[00:51:00] UFFTYPER: Unrecognized charge state for atom: 22\n"
     ]
    },
    {
     "name": "stdout",
     "output_type": "stream",
     "text": [
      "Failed to generate 3D conformer\n"
     ]
    },
    {
     "name": "stderr",
     "output_type": "stream",
     "text": [
      "[00:51:09] UFFTYPER: Unrecognized atom type: Se2+2 (18)\n",
      "[00:51:20] UFFTYPER: Unrecognized charge state for atom: 3\n"
     ]
    },
    {
     "name": "stdout",
     "output_type": "stream",
     "text": [
      "Failed to generate 3D conformer\n"
     ]
    },
    {
     "name": "stderr",
     "output_type": "stream",
     "text": [
      "[00:51:35] UFFTYPER: Unrecognized charge state for atom: 2\n"
     ]
    },
    {
     "name": "stdout",
     "output_type": "stream",
     "text": [
      "Failed to generate 3D conformer\n"
     ]
    },
    {
     "name": "stderr",
     "output_type": "stream",
     "text": [
      "[00:51:45] UFFTYPER: Unrecognized atom type: Pt5+2 (8)\n",
      "[00:51:51] UFFTYPER: Unrecognized charge state for atom: 14\n",
      "[00:51:51] UFFTYPER: Unrecognized charge state for atom: 15\n",
      "[00:51:54] UFFTYPER: Unrecognized charge state for atom: 13\n",
      "[00:52:01] UFFTYPER: Unrecognized charge state for atom: 31\n"
     ]
    },
    {
     "name": "stdout",
     "output_type": "stream",
     "text": [
      "Failed to generate 3D conformer\n"
     ]
    },
    {
     "name": "stderr",
     "output_type": "stream",
     "text": [
      "[00:52:35] UFFTYPER: Unrecognized atom type: B_1 (7)\n"
     ]
    },
    {
     "name": "stdout",
     "output_type": "stream",
     "text": [
      "Failed to generate 3D conformer\n",
      "Failed to generate 3D conformer\n"
     ]
    },
    {
     "name": "stderr",
     "output_type": "stream",
     "text": [
      "[00:53:07] UFFTYPER: Unrecognized charge state for atom: 6\n"
     ]
    },
    {
     "name": "stdout",
     "output_type": "stream",
     "text": [
      "Failed to generate 3D conformer\n"
     ]
    },
    {
     "name": "stderr",
     "output_type": "stream",
     "text": [
      "[00:53:48] UFFTYPER: Unrecognized charge state for atom: 5\n",
      "[00:53:48] UFFTYPER: Unrecognized charge state for atom: 6\n",
      "[00:53:48] UFFTYPER: Unrecognized charge state for atom: 21\n",
      "[00:53:48] UFFTYPER: Unrecognized charge state for atom: 22\n"
     ]
    },
    {
     "name": "stdout",
     "output_type": "stream",
     "text": [
      "Failed to generate 3D conformer\n"
     ]
    },
    {
     "name": "stderr",
     "output_type": "stream",
     "text": [
      "[00:54:01] UFFTYPER: Unrecognized charge state for atom: 5\n",
      "[00:54:01] UFFTYPER: Unrecognized charge state for atom: 10\n",
      "[00:54:01] UFFTYPER: Unrecognized charge state for atom: 13\n",
      "[00:54:01] UFFTYPER: Unrecognized charge state for atom: 21\n",
      "[00:54:08] UFFTYPER: Unrecognized charge state for atom: 3\n"
     ]
    },
    {
     "name": "stdout",
     "output_type": "stream",
     "text": [
      "Failed to generate 3D conformer\n",
      "Failed to generate 3D conformer\n",
      "Failed to generate 3D conformer\n"
     ]
    },
    {
     "name": "stderr",
     "output_type": "stream",
     "text": [
      "[00:54:26] UFFTYPER: Unrecognized charge state for atom: 1\n"
     ]
    },
    {
     "name": "stdout",
     "output_type": "stream",
     "text": [
      "Failed to generate 3D conformer\n",
      "Failed to generate 3D conformer\n"
     ]
    },
    {
     "name": "stderr",
     "output_type": "stream",
     "text": [
      "[00:54:45] UFFTYPER: Unrecognized charge state for atom: 10\n",
      "[00:54:45] UFFTYPER: Unrecognized atom type: Pb3+3 (10)\n",
      "[00:54:57] UFFTYPER: Unrecognized atom type: S_5+4 (16)\n",
      "[00:54:59] UFFTYPER: Unrecognized charge state for atom: 7\n",
      "[00:54:59] UFFTYPER: Unrecognized charge state for atom: 10\n"
     ]
    },
    {
     "name": "stdout",
     "output_type": "stream",
     "text": [
      "Failed to generate 3D conformer\n",
      "Failed to generate 3D conformer\n",
      "Failed to generate 3D conformer\n"
     ]
    },
    {
     "name": "stderr",
     "output_type": "stream",
     "text": [
      "[00:55:27] UFFTYPER: Unrecognized charge state for atom: 21\n",
      "[00:55:38] UFFTYPER: Unrecognized charge state for atom: 19\n",
      "[00:55:39] UFFTYPER: Unrecognized charge state for atom: 8\n",
      "[00:55:50] UFFTYPER: Unrecognized charge state for atom: 2\n",
      "[00:55:50] UFFTYPER: Unrecognized atom type: Pb3+3 (2)\n",
      "[00:55:55] UFFTYPER: Unrecognized charge state for atom: 5\n"
     ]
    },
    {
     "name": "stdout",
     "output_type": "stream",
     "text": [
      "Failed to generate 3D conformer\n",
      "Failed to generate 3D conformer\n",
      "Failed to generate 3D conformer\n",
      "Failed to generate 3D conformer\n"
     ]
    },
    {
     "name": "stderr",
     "output_type": "stream",
     "text": [
      "[00:56:44] UFFTYPER: Unrecognized charge state for atom: 29\n",
      "[00:56:46] UFFTYPER: Unrecognized charge state for atom: 5\n"
     ]
    },
    {
     "name": "stdout",
     "output_type": "stream",
     "text": [
      "Failed to generate 3D conformer\n"
     ]
    },
    {
     "name": "stderr",
     "output_type": "stream",
     "text": [
      "[00:57:10] UFFTYPER: Unrecognized atom type: B_1 (1)\n"
     ]
    },
    {
     "name": "stdout",
     "output_type": "stream",
     "text": [
      "Failed to generate 3D conformer\n"
     ]
    },
    {
     "name": "stderr",
     "output_type": "stream",
     "text": [
      "[00:57:11] Can't kekulize mol.  Unkekulized atoms: 7 8 10 12\n",
      "[00:57:11] Can't kekulize mol.  Unkekulized atoms: 7 8 10 12\n"
     ]
    },
    {
     "name": "stdout",
     "output_type": "stream",
     "text": [
      "Error processing molecule CCN(CC)P(=NS1=NSN=S=N1)(c1ccccc1)N(C1CCCCC1)C1CCCCC1: Can't kekulize mol.  Unkekulized atoms: 7 8 10 12\n",
      "Failed to generate 3D conformer\n",
      "Failed to generate 3D conformer\n",
      "Failed to generate 3D conformer\n",
      "Failed to generate 3D conformer\n",
      "Failed to generate 3D conformer\n",
      "Failed to generate 3D conformer\n"
     ]
    },
    {
     "name": "stderr",
     "output_type": "stream",
     "text": [
      "[00:58:06] UFFTYPER: Unrecognized charge state for atom: 21\n"
     ]
    },
    {
     "name": "stdout",
     "output_type": "stream",
     "text": [
      "Failed to generate 3D conformer\n",
      "Failed to generate 3D conformer\n"
     ]
    },
    {
     "name": "stderr",
     "output_type": "stream",
     "text": [
      "[00:58:29] UFFTYPER: Unrecognized atom type: S_5+4 (24)\n",
      "[00:58:34] UFFTYPER: Unrecognized charge state for atom: 1\n"
     ]
    },
    {
     "name": "stdout",
     "output_type": "stream",
     "text": [
      "Failed to generate 3D conformer\n"
     ]
    },
    {
     "name": "stderr",
     "output_type": "stream",
     "text": [
      "[00:59:12] UFFTYPER: Unrecognized charge state for atom: 9\n",
      "[00:59:22] UFFTYPER: Unrecognized charge state for atom: 4\n"
     ]
    },
    {
     "name": "stdout",
     "output_type": "stream",
     "text": [
      "Failed to generate 3D conformer\n"
     ]
    },
    {
     "name": "stderr",
     "output_type": "stream",
     "text": [
      "[00:59:44] UFFTYPER: Unrecognized charge state for atom: 5\n"
     ]
    },
    {
     "name": "stdout",
     "output_type": "stream",
     "text": [
      "Failed to generate 3D conformer\n",
      "Failed to generate 3D conformer\n"
     ]
    },
    {
     "name": "stderr",
     "output_type": "stream",
     "text": [
      "[00:59:56] UFFTYPER: Unrecognized charge state for atom: 15\n",
      "[01:00:04] UFFTYPER: Unrecognized charge state for atom: 29\n"
     ]
    },
    {
     "name": "stdout",
     "output_type": "stream",
     "text": [
      "Failed to generate 3D conformer\n",
      "Failed to generate 3D conformer\n",
      "Failed to generate 3D conformer\n"
     ]
    },
    {
     "name": "stderr",
     "output_type": "stream",
     "text": [
      "[01:00:18] UFFTYPER: Unrecognized charge state for atom: 3\n",
      "[01:00:31] UFFTYPER: Unrecognized charge state for atom: 5\n"
     ]
    },
    {
     "name": "stdout",
     "output_type": "stream",
     "text": [
      "Failed to generate 3D conformer\n"
     ]
    },
    {
     "name": "stderr",
     "output_type": "stream",
     "text": [
      "[01:00:36] UFFTYPER: Unrecognized charge state for atom: 90\n"
     ]
    },
    {
     "name": "stdout",
     "output_type": "stream",
     "text": [
      "Failed to generate 3D conformer\n",
      "Failed to generate 3D conformer\n"
     ]
    },
    {
     "name": "stderr",
     "output_type": "stream",
     "text": [
      "[01:01:12] UFFTYPER: Unrecognized charge state for atom: 9\n"
     ]
    },
    {
     "name": "stdout",
     "output_type": "stream",
     "text": [
      "Failed to generate 3D conformer\n"
     ]
    },
    {
     "name": "stderr",
     "output_type": "stream",
     "text": [
      "[01:01:50] UFFTYPER: Unrecognized atom type: S_5+4 (6)\n"
     ]
    },
    {
     "name": "stdout",
     "output_type": "stream",
     "text": [
      "Failed to generate 3D conformer\n",
      "Failed to generate 3D conformer\n",
      "Failed to generate 3D conformer\n",
      "Failed to generate 3D conformer\n"
     ]
    },
    {
     "name": "stderr",
     "output_type": "stream",
     "text": [
      "[01:02:13] UFFTYPER: Unrecognized charge state for atom: 10\n",
      "[01:02:13] UFFTYPER: Unrecognized charge state for atom: 13\n",
      "[01:02:13] UFFTYPER: Unrecognized charge state for atom: 32\n"
     ]
    },
    {
     "name": "stdout",
     "output_type": "stream",
     "text": [
      "Failed to generate 3D conformer\n",
      "Failed to generate 3D conformer\n",
      "Failed to generate 3D conformer\n"
     ]
    },
    {
     "name": "stderr",
     "output_type": "stream",
     "text": [
      "[01:02:48] UFFTYPER: Unrecognized charge state for atom: 4\n"
     ]
    },
    {
     "name": "stdout",
     "output_type": "stream",
     "text": [
      "Failed to generate 3D conformer\n",
      "Failed to generate 3D conformer\n"
     ]
    },
    {
     "name": "stderr",
     "output_type": "stream",
     "text": [
      "[01:02:58] UFFTYPER: Unrecognized charge state for atom: 5\n"
     ]
    },
    {
     "name": "stdout",
     "output_type": "stream",
     "text": [
      "Failed to generate 3D conformer\n"
     ]
    },
    {
     "name": "stderr",
     "output_type": "stream",
     "text": [
      "[01:03:17] UFFTYPER: Unrecognized charge state for atom: 8\n"
     ]
    },
    {
     "name": "stdout",
     "output_type": "stream",
     "text": [
      "Failed to generate 3D conformer\n"
     ]
    },
    {
     "name": "stderr",
     "output_type": "stream",
     "text": [
      "[01:03:24] UFFTYPER: Unrecognized charge state for atom: 35\n"
     ]
    },
    {
     "name": "stdout",
     "output_type": "stream",
     "text": [
      "Failed to generate 3D conformer\n"
     ]
    },
    {
     "name": "stderr",
     "output_type": "stream",
     "text": [
      "[01:03:37] UFFTYPER: Unrecognized charge state for atom: 6\n",
      "[01:03:37] UFFTYPER: Unrecognized charge state for atom: 29\n"
     ]
    },
    {
     "name": "stdout",
     "output_type": "stream",
     "text": [
      "Failed to generate 3D conformer\n"
     ]
    },
    {
     "name": "stderr",
     "output_type": "stream",
     "text": [
      "[01:04:00] UFFTYPER: Unrecognized charge state for atom: 5\n",
      "[01:04:00] UFFTYPER: Unrecognized charge state for atom: 8\n"
     ]
    },
    {
     "name": "stdout",
     "output_type": "stream",
     "text": [
      "Failed to generate 3D conformer\n",
      "Failed to generate 3D conformer\n"
     ]
    },
    {
     "name": "stderr",
     "output_type": "stream",
     "text": [
      "[01:04:43] UFFTYPER: Unrecognized atom type: Zr1 (14)\n"
     ]
    },
    {
     "name": "stdout",
     "output_type": "stream",
     "text": [
      "Failed to generate 3D conformer\n"
     ]
    },
    {
     "name": "stderr",
     "output_type": "stream",
     "text": [
      "[01:05:00] UFFTYPER: Unrecognized atom type: S_5+4 (1)\n"
     ]
    },
    {
     "name": "stdout",
     "output_type": "stream",
     "text": [
      "Failed to generate 3D conformer\n"
     ]
    },
    {
     "name": "stderr",
     "output_type": "stream",
     "text": [
      "[01:05:10] UFFTYPER: Unrecognized charge state for atom: 20\n",
      "[01:05:14] UFFTYPER: Unrecognized charge state for atom: 4\n"
     ]
    },
    {
     "name": "stdout",
     "output_type": "stream",
     "text": [
      "Failed to generate 3D conformer\n",
      "1. Loaded dataset with 49693 graphs.\n",
      "2. Failed SMILES count: 308\n",
      "3. Created DataLoader with 49693 graphs\n",
      "4. Using device: cpu\n",
      "5. Starting GAN-CL training...\n"
     ]
    },
    {
     "name": "stderr",
     "output_type": "stream",
     "text": [
      "C:\\Users\\Malli\\anaconda3\\envs\\baceenv\\lib\\site-packages\\torch_geometric\\deprecation.py:26: UserWarning: 'data.DataLoader' is deprecated, use 'loader.DataLoader' instead\n",
      "  warnings.warn(out)\n"
     ]
    },
    {
     "name": "stdout",
     "output_type": "stream",
     "text": [
      "Phase 1: Pretraining Contrastive Learning...\n"
     ]
    },
    {
     "name": "stderr",
     "output_type": "stream",
     "text": [
      "Pretrain Epoch 1/10: 100%|█████████████████████████████████████████████████████████| 1553/1553 [03:46<00:00,  6.85it/s]\n"
     ]
    },
    {
     "name": "stdout",
     "output_type": "stream",
     "text": [
      "Pretrain Epoch 1, Avg Loss: 6.3369\n"
     ]
    },
    {
     "name": "stderr",
     "output_type": "stream",
     "text": [
      "Pretrain Epoch 2/10: 100%|█████████████████████████████████████████████████████████| 1553/1553 [03:45<00:00,  6.88it/s]\n"
     ]
    },
    {
     "name": "stdout",
     "output_type": "stream",
     "text": [
      "Pretrain Epoch 2, Avg Loss: 3.1049\n"
     ]
    },
    {
     "name": "stderr",
     "output_type": "stream",
     "text": [
      "Pretrain Epoch 3/10: 100%|█████████████████████████████████████████████████████████| 1553/1553 [03:45<00:00,  6.88it/s]\n"
     ]
    },
    {
     "name": "stdout",
     "output_type": "stream",
     "text": [
      "Pretrain Epoch 3, Avg Loss: 1.8073\n"
     ]
    },
    {
     "name": "stderr",
     "output_type": "stream",
     "text": [
      "Pretrain Epoch 4/10: 100%|█████████████████████████████████████████████████████████| 1553/1553 [03:45<00:00,  6.89it/s]\n"
     ]
    },
    {
     "name": "stdout",
     "output_type": "stream",
     "text": [
      "Pretrain Epoch 4, Avg Loss: 1.2444\n"
     ]
    },
    {
     "name": "stderr",
     "output_type": "stream",
     "text": [
      "Pretrain Epoch 5/10: 100%|█████████████████████████████████████████████████████████| 1553/1553 [03:45<00:00,  6.89it/s]\n"
     ]
    },
    {
     "name": "stdout",
     "output_type": "stream",
     "text": [
      "Pretrain Epoch 5, Avg Loss: 0.9977\n"
     ]
    },
    {
     "name": "stderr",
     "output_type": "stream",
     "text": [
      "Pretrain Epoch 6/10: 100%|█████████████████████████████████████████████████████████| 1553/1553 [03:46<00:00,  6.87it/s]\n"
     ]
    },
    {
     "name": "stdout",
     "output_type": "stream",
     "text": [
      "Pretrain Epoch 6, Avg Loss: 0.8098\n"
     ]
    },
    {
     "name": "stderr",
     "output_type": "stream",
     "text": [
      "Pretrain Epoch 7/10: 100%|█████████████████████████████████████████████████████████| 1553/1553 [03:45<00:00,  6.88it/s]\n"
     ]
    },
    {
     "name": "stdout",
     "output_type": "stream",
     "text": [
      "Pretrain Epoch 7, Avg Loss: 0.6895\n"
     ]
    },
    {
     "name": "stderr",
     "output_type": "stream",
     "text": [
      "Pretrain Epoch 8/10: 100%|█████████████████████████████████████████████████████████| 1553/1553 [03:49<00:00,  6.77it/s]\n"
     ]
    },
    {
     "name": "stdout",
     "output_type": "stream",
     "text": [
      "Pretrain Epoch 8, Avg Loss: 0.5692\n"
     ]
    },
    {
     "name": "stderr",
     "output_type": "stream",
     "text": [
      "Pretrain Epoch 9/10: 100%|█████████████████████████████████████████████████████████| 1553/1553 [03:46<00:00,  6.86it/s]\n"
     ]
    },
    {
     "name": "stdout",
     "output_type": "stream",
     "text": [
      "Pretrain Epoch 9, Avg Loss: 0.5115\n"
     ]
    },
    {
     "name": "stderr",
     "output_type": "stream",
     "text": [
      "Pretrain Epoch 10/10: 100%|████████████████████████████████████████████████████████| 1553/1553 [03:48<00:00,  6.80it/s]\n"
     ]
    },
    {
     "name": "stdout",
     "output_type": "stream",
     "text": [
      "Pretrain Epoch 10, Avg Loss: 0.4494\n",
      "\n",
      "Phase 2: Training GAN-CL...\n"
     ]
    },
    {
     "name": "stderr",
     "output_type": "stream",
     "text": [
      "Train Epoch 1/50: 100%|████████████████████████████████████████████████████████████| 1553/1553 [08:56<00:00,  2.89it/s]\n"
     ]
    },
    {
     "name": "stdout",
     "output_type": "stream",
     "text": [
      "Epoch 1, Losses: {'contrastive': 3.640679861604208, 'adversarial': -0.0008367752162981011, 'similarity': 0.0008184608752206292, 'total': 3.640761707340297}\n"
     ]
    },
    {
     "name": "stderr",
     "output_type": "stream",
     "text": [
      "Train Epoch 2/50: 100%|████████████████████████████████████████████████████████████| 1553/1553 [08:57<00:00,  2.89it/s]\n"
     ]
    },
    {
     "name": "stdout",
     "output_type": "stream",
     "text": [
      "Epoch 2, Losses: {'contrastive': 3.738550600434455, 'adversarial': -0.0008148053263580032, 'similarity': 0.0008145790753351777, 'total': 3.7386320632884216}\n"
     ]
    },
    {
     "name": "stderr",
     "output_type": "stream",
     "text": [
      "Train Epoch 3/50: 100%|████████████████████████████████████████████████████████████| 1553/1553 [09:10<00:00,  2.82it/s]\n"
     ]
    },
    {
     "name": "stdout",
     "output_type": "stream",
     "text": [
      "Epoch 3, Losses: {'contrastive': 3.7529484018232466, 'adversarial': -0.0006950421262217934, 'similarity': 0.0007159144669752904, 'total': 3.7530199935646573}\n"
     ]
    },
    {
     "name": "stderr",
     "output_type": "stream",
     "text": [
      "Train Epoch 4/50: 100%|████████████████████████████████████████████████████████████| 1553/1553 [08:59<00:00,  2.88it/s]\n"
     ]
    },
    {
     "name": "stdout",
     "output_type": "stream",
     "text": [
      "Epoch 4, Losses: {'contrastive': 3.6035216914709354, 'adversarial': -0.0006949069019920071, 'similarity': 0.0006813468442748842, 'total': 3.6035898279852048}\n"
     ]
    },
    {
     "name": "stderr",
     "output_type": "stream",
     "text": [
      "Train Epoch 5/50: 100%|████████████████████████████████████████████████████████████| 1553/1553 [09:02<00:00,  2.86it/s]\n"
     ]
    },
    {
     "name": "stdout",
     "output_type": "stream",
     "text": [
      "Epoch 5, Losses: {'contrastive': 3.545553888878512, 'adversarial': -0.0006607495961689522, 'similarity': 0.0006608095673008547, 'total': 3.54561996820736}\n"
     ]
    },
    {
     "name": "stderr",
     "output_type": "stream",
     "text": [
      "Train Epoch 6/50: 100%|████████████████████████████████████████████████████████████| 1553/1553 [09:11<00:00,  2.82it/s]\n"
     ]
    },
    {
     "name": "stdout",
     "output_type": "stream",
     "text": [
      "Epoch 6, Losses: {'contrastive': 3.37273174965681, 'adversarial': -0.0006863637086341645, 'similarity': 0.0006939695749579673, 'total': 3.3728011457365863}\n"
     ]
    },
    {
     "name": "stderr",
     "output_type": "stream",
     "text": [
      "Train Epoch 7/50: 100%|████████████████████████████████████████████████████████████| 1553/1553 [09:11<00:00,  2.82it/s]\n"
     ]
    },
    {
     "name": "stdout",
     "output_type": "stream",
     "text": [
      "Epoch 7, Losses: {'contrastive': 3.3163442039059885, 'adversarial': -0.0007273135721587252, 'similarity': 0.0007442864174106029, 'total': 3.316418635177367}\n"
     ]
    },
    {
     "name": "stderr",
     "output_type": "stream",
     "text": [
      "Train Epoch 8/50: 100%|████████████████████████████████████████████████████████████| 1553/1553 [09:09<00:00,  2.82it/s]\n"
     ]
    },
    {
     "name": "stdout",
     "output_type": "stream",
     "text": [
      "Epoch 8, Losses: {'contrastive': 3.2504490022112766, 'adversarial': -0.0008125077857062009, 'similarity': 0.0008044872803332287, 'total': 3.2505294524387476}\n"
     ]
    },
    {
     "name": "stderr",
     "output_type": "stream",
     "text": [
      "Train Epoch 9/50: 100%|████████████████████████████████████████████████████████████| 1553/1553 [09:12<00:00,  2.81it/s]\n"
     ]
    },
    {
     "name": "stdout",
     "output_type": "stream",
     "text": [
      "Epoch 9, Losses: {'contrastive': 3.242375027342758, 'adversarial': -0.0009067275500336106, 'similarity': 0.0008983867477674484, 'total': 3.242464866165338}\n"
     ]
    },
    {
     "name": "stderr",
     "output_type": "stream",
     "text": [
      "Train Epoch 10/50: 100%|███████████████████████████████████████████████████████████| 1553/1553 [09:15<00:00,  2.80it/s]\n"
     ]
    },
    {
     "name": "stdout",
     "output_type": "stream",
     "text": [
      "Epoch 10, Losses: {'contrastive': 3.2373495491105206, 'adversarial': -0.0009785970131067844, 'similarity': 0.0010016392688557785, 'total': 3.2374497131616624}\n"
     ]
    },
    {
     "name": "stderr",
     "output_type": "stream",
     "text": [
      "Train Epoch 11/50: 100%|███████████████████████████████████████████████████████████| 1553/1553 [09:15<00:00,  2.79it/s]\n"
     ]
    },
    {
     "name": "stdout",
     "output_type": "stream",
     "text": [
      "Epoch 11, Losses: {'contrastive': 3.2442655125818787, 'adversarial': -0.0010553830072669947, 'similarity': 0.0010603354642685222, 'total': 3.2443715462128884}\n"
     ]
    },
    {
     "name": "stderr",
     "output_type": "stream",
     "text": [
      "Train Epoch 12/50: 100%|███████████████████████████████████████████████████████████| 1553/1553 [09:18<00:00,  2.78it/s]\n"
     ]
    },
    {
     "name": "stdout",
     "output_type": "stream",
     "text": [
      "Epoch 12, Losses: {'contrastive': 3.2874330521704533, 'adversarial': -0.001178071790219495, 'similarity': 0.0011982103699970576, 'total': 3.287552874317034}\n"
     ]
    },
    {
     "name": "stderr",
     "output_type": "stream",
     "text": [
      "Train Epoch 13/50: 100%|███████████████████████████████████████████████████████████| 1553/1553 [09:22<00:00,  2.76it/s]\n"
     ]
    },
    {
     "name": "stdout",
     "output_type": "stream",
     "text": [
      "Epoch 13, Losses: {'contrastive': 3.2203921870270316, 'adversarial': -0.001339205050805292, 'similarity': 0.0013362189899294662, 'total': 3.22052580904976}\n"
     ]
    },
    {
     "name": "stderr",
     "output_type": "stream",
     "text": [
      "Train Epoch 14/50: 100%|███████████████████████████████████████████████████████████| 1553/1553 [09:11<00:00,  2.82it/s]\n"
     ]
    },
    {
     "name": "stdout",
     "output_type": "stream",
     "text": [
      "Epoch 14, Losses: {'contrastive': 3.2215679520111427, 'adversarial': -0.0015179311886762015, 'similarity': 0.0015088506705992412, 'total': 3.2217188342801233}\n"
     ]
    },
    {
     "name": "stderr",
     "output_type": "stream",
     "text": [
      "Train Epoch 15/50: 100%|███████████████████████████████████████████████████████████| 1553/1553 [08:28<00:00,  3.06it/s]\n"
     ]
    },
    {
     "name": "stdout",
     "output_type": "stream",
     "text": [
      "Epoch 15, Losses: {'contrastive': 3.311419454760039, 'adversarial': -0.0015777612077051274, 'similarity': 0.0015577306083858695, 'total': 3.3115752262218643}\n"
     ]
    },
    {
     "name": "stderr",
     "output_type": "stream",
     "text": [
      "Train Epoch 16/50: 100%|███████████████████████████████████████████████████████████| 1553/1553 [08:28<00:00,  3.05it/s]\n"
     ]
    },
    {
     "name": "stdout",
     "output_type": "stream",
     "text": [
      "Epoch 16, Losses: {'contrastive': 3.184621890974444, 'adversarial': -0.0015423765550463485, 'similarity': 0.001538973058473753, 'total': 3.1847757911651424}\n"
     ]
    },
    {
     "name": "stderr",
     "output_type": "stream",
     "text": [
      "Train Epoch 17/50: 100%|███████████████████████████████████████████████████████████| 1553/1553 [08:27<00:00,  3.06it/s]\n"
     ]
    },
    {
     "name": "stdout",
     "output_type": "stream",
     "text": [
      "Epoch 17, Losses: {'contrastive': 3.0912682390642874, 'adversarial': -0.0016904489163618776, 'similarity': 0.0016844800274779556, 'total': 3.091436684707327}\n"
     ]
    },
    {
     "name": "stderr",
     "output_type": "stream",
     "text": [
      "Train Epoch 18/50: 100%|███████████████████████████████████████████████████████████| 1553/1553 [08:31<00:00,  3.03it/s]\n"
     ]
    },
    {
     "name": "stdout",
     "output_type": "stream",
     "text": [
      "Epoch 18, Losses: {'contrastive': 3.023737264232181, 'adversarial': -0.0016941353018291856, 'similarity': 0.0016960145909212054, 'total': 3.0239068657370898}\n"
     ]
    },
    {
     "name": "stderr",
     "output_type": "stream",
     "text": [
      "Train Epoch 19/50: 100%|███████████████████████████████████████████████████████████| 1553/1553 [08:32<00:00,  3.03it/s]\n"
     ]
    },
    {
     "name": "stdout",
     "output_type": "stream",
     "text": [
      "Epoch 19, Losses: {'contrastive': 2.961476913745067, 'adversarial': -0.0018558541265363084, 'similarity': 0.0018727858951141374, 'total': 2.9616641936882497}\n"
     ]
    },
    {
     "name": "stderr",
     "output_type": "stream",
     "text": [
      "Train Epoch 20/50: 100%|███████████████████████████████████████████████████████████| 1553/1553 [08:36<00:00,  3.00it/s]\n"
     ]
    },
    {
     "name": "stdout",
     "output_type": "stream",
     "text": [
      "Epoch 20, Losses: {'contrastive': 2.979823577503811, 'adversarial': -0.0019339073150426494, 'similarity': 0.0019299125864667636, 'total': 2.980016572047109}\n"
     ]
    },
    {
     "name": "stderr",
     "output_type": "stream",
     "text": [
      "Train Epoch 21/50: 100%|███████████████████████████████████████████████████████████| 1553/1553 [08:36<00:00,  3.00it/s]\n"
     ]
    },
    {
     "name": "stdout",
     "output_type": "stream",
     "text": [
      "Epoch 21, Losses: {'contrastive': 2.953134519625539, 'adversarial': -0.00195318744583829, 'similarity': 0.001992800674045606, 'total': 2.9533337967210023}\n"
     ]
    },
    {
     "name": "stderr",
     "output_type": "stream",
     "text": [
      "Train Epoch 22/50: 100%|███████████████████████████████████████████████████████████| 1553/1553 [08:41<00:00,  2.98it/s]\n"
     ]
    },
    {
     "name": "stdout",
     "output_type": "stream",
     "text": [
      "Epoch 22, Losses: {'contrastive': 2.853040630174159, 'adversarial': -0.002128224081677041, 'similarity': 0.0021252262070823006, 'total': 2.8532531530873975}\n"
     ]
    },
    {
     "name": "stderr",
     "output_type": "stream",
     "text": [
      "Train Epoch 23/50: 100%|███████████████████████████████████████████████████████████| 1553/1553 [08:43<00:00,  2.96it/s]\n"
     ]
    },
    {
     "name": "stdout",
     "output_type": "stream",
     "text": [
      "Epoch 23, Losses: {'contrastive': 2.8182093405523996, 'adversarial': -0.002252003161883712, 'similarity': 0.002274825120151657, 'total': 2.818436825344506}\n"
     ]
    },
    {
     "name": "stderr",
     "output_type": "stream",
     "text": [
      "Train Epoch 24/50: 100%|███████████████████████████████████████████████████████████| 1553/1553 [08:41<00:00,  2.98it/s]\n"
     ]
    },
    {
     "name": "stdout",
     "output_type": "stream",
     "text": [
      "Epoch 24, Losses: {'contrastive': 2.724774585335161, 'adversarial': -0.0023859420230405866, 'similarity': 0.0023751100185684048, 'total': 2.725012097831549}\n"
     ]
    },
    {
     "name": "stderr",
     "output_type": "stream",
     "text": [
      "Train Epoch 25/50: 100%|███████████████████████████████████████████████████████████| 1553/1553 [08:45<00:00,  2.95it/s]\n"
     ]
    },
    {
     "name": "stdout",
     "output_type": "stream",
     "text": [
      "Epoch 25, Losses: {'contrastive': 2.789448172986239, 'adversarial': -0.002622662416160951, 'similarity': 0.002589060964526972, 'total': 2.7897070792898853}\n"
     ]
    },
    {
     "name": "stderr",
     "output_type": "stream",
     "text": [
      "Train Epoch 26/50: 100%|███████████████████████████████████████████████████████████| 1553/1553 [08:48<00:00,  2.94it/s]\n"
     ]
    },
    {
     "name": "stdout",
     "output_type": "stream",
     "text": [
      "Epoch 26, Losses: {'contrastive': 2.7743315864054527, 'adversarial': -0.0027093371519271983, 'similarity': 0.0027139629776327507, 'total': 2.7746029823577105}\n"
     ]
    },
    {
     "name": "stderr",
     "output_type": "stream",
     "text": [
      "Train Epoch 27/50: 100%|███████████████████████████████████████████████████████████| 1553/1553 [08:51<00:00,  2.92it/s]\n"
     ]
    },
    {
     "name": "stdout",
     "output_type": "stream",
     "text": [
      "Epoch 27, Losses: {'contrastive': 2.723916147803769, 'adversarial': -0.002837898086379261, 'similarity': 0.002822837118882175, 'total': 2.7241984324845205}\n"
     ]
    },
    {
     "name": "stderr",
     "output_type": "stream",
     "text": [
      "Train Epoch 28/50: 100%|███████████████████████████████████████████████████████████| 1553/1553 [08:53<00:00,  2.91it/s]\n"
     ]
    },
    {
     "name": "stdout",
     "output_type": "stream",
     "text": [
      "Epoch 28, Losses: {'contrastive': 2.763966690780114, 'adversarial': -0.0029202186357390665, 'similarity': 0.0029172276881183406, 'total': 2.7642584118010993}\n"
     ]
    },
    {
     "name": "stderr",
     "output_type": "stream",
     "text": [
      "Train Epoch 29/50: 100%|███████████████████████████████████████████████████████████| 1553/1553 [08:54<00:00,  2.90it/s]\n"
     ]
    },
    {
     "name": "stdout",
     "output_type": "stream",
     "text": [
      "Epoch 29, Losses: {'contrastive': 2.7498059774780765, 'adversarial': -0.0030204057651502963, 'similarity': 0.0030015206101026053, 'total': 2.750106128967737}\n"
     ]
    },
    {
     "name": "stderr",
     "output_type": "stream",
     "text": [
      "Train Epoch 30/50: 100%|███████████████████████████████████████████████████████████| 1553/1553 [08:54<00:00,  2.91it/s]\n"
     ]
    },
    {
     "name": "stdout",
     "output_type": "stream",
     "text": [
      "Epoch 30, Losses: {'contrastive': 2.753765388680364, 'adversarial': -0.003218449057449862, 'similarity': 0.0032047854235853954, 'total': 2.7540858680021354}\n"
     ]
    },
    {
     "name": "stderr",
     "output_type": "stream",
     "text": [
      "Train Epoch 31/50: 100%|███████████████████████████████████████████████████████████| 1553/1553 [08:54<00:00,  2.91it/s]\n"
     ]
    },
    {
     "name": "stdout",
     "output_type": "stream",
     "text": [
      "Epoch 31, Losses: {'contrastive': 2.7876128889404415, 'adversarial': -0.0033902865422995136, 'similarity': 0.003466512262086574, 'total': 2.7879595382706395}\n"
     ]
    },
    {
     "name": "stderr",
     "output_type": "stream",
     "text": [
      "Train Epoch 32/50: 100%|███████████████████████████████████████████████████████████| 1553/1553 [08:55<00:00,  2.90it/s]\n"
     ]
    },
    {
     "name": "stdout",
     "output_type": "stream",
     "text": [
      "Epoch 32, Losses: {'contrastive': 2.7714747966525635, 'adversarial': -0.0038786886109390606, 'similarity': 0.003885616339066684, 'total': 2.771863358372346}\n"
     ]
    },
    {
     "name": "stderr",
     "output_type": "stream",
     "text": [
      "Train Epoch 33/50: 100%|███████████████████████████████████████████████████████████| 1553/1553 [08:59<00:00,  2.88it/s]\n"
     ]
    },
    {
     "name": "stdout",
     "output_type": "stream",
     "text": [
      "Epoch 33, Losses: {'contrastive': 2.8386682032464168, 'adversarial': -0.003979010908508821, 'similarity': 0.004035081704646704, 'total': 2.8390717134887145}\n"
     ]
    },
    {
     "name": "stderr",
     "output_type": "stream",
     "text": [
      "Train Epoch 34/50: 100%|███████████████████████████████████████████████████████████| 1553/1553 [08:57<00:00,  2.89it/s]\n"
     ]
    },
    {
     "name": "stdout",
     "output_type": "stream",
     "text": [
      "Epoch 34, Losses: {'contrastive': 2.8185987543921582, 'adversarial': -0.0039425612842881215, 'similarity': 0.0038984868249988466, 'total': 2.818988603925367}\n"
     ]
    },
    {
     "name": "stderr",
     "output_type": "stream",
     "text": [
      "Train Epoch 35/50: 100%|███████████████████████████████████████████████████████████| 1553/1553 [09:00<00:00,  2.88it/s]\n"
     ]
    },
    {
     "name": "stdout",
     "output_type": "stream",
     "text": [
      "Epoch 35, Losses: {'contrastive': 2.7742703262637374, 'adversarial': -0.004166036423119426, 'similarity': 0.0040658947734938215, 'total': 2.7746769167574006}\n"
     ]
    },
    {
     "name": "stderr",
     "output_type": "stream",
     "text": [
      "Train Epoch 36/50: 100%|███████████████████████████████████████████████████████████| 1553/1553 [09:08<00:00,  2.83it/s]\n"
     ]
    },
    {
     "name": "stdout",
     "output_type": "stream",
     "text": [
      "Epoch 36, Losses: {'contrastive': 2.754845130696883, 'adversarial': -0.0045138838609796875, 'similarity': 0.004530115545105432, 'total': 2.7552981411957846}\n"
     ]
    },
    {
     "name": "stderr",
     "output_type": "stream",
     "text": [
      "Train Epoch 37/50: 100%|███████████████████████████████████████████████████████████| 1553/1553 [09:08<00:00,  2.83it/s]\n"
     ]
    },
    {
     "name": "stdout",
     "output_type": "stream",
     "text": [
      "Epoch 37, Losses: {'contrastive': 2.773259278043807, 'adversarial': -0.00485453854572251, 'similarity': 0.004831294026897461, 'total': 2.773742407349257}\n"
     ]
    },
    {
     "name": "stderr",
     "output_type": "stream",
     "text": [
      "Train Epoch 38/50: 100%|███████████████████████████████████████████████████████████| 1553/1553 [09:08<00:00,  2.83it/s]\n"
     ]
    },
    {
     "name": "stdout",
     "output_type": "stream",
     "text": [
      "Epoch 38, Losses: {'contrastive': 2.7711171882811163, 'adversarial': -0.0052400891510475875, 'similarity': 0.005342843167541377, 'total': 2.7716514725725037}\n"
     ]
    },
    {
     "name": "stderr",
     "output_type": "stream",
     "text": [
      "Train Epoch 39/50: 100%|███████████████████████████████████████████████████████████| 1553/1553 [09:11<00:00,  2.82it/s]\n"
     ]
    },
    {
     "name": "stdout",
     "output_type": "stream",
     "text": [
      "Epoch 39, Losses: {'contrastive': 2.7520868608587725, 'adversarial': -0.005840647435391469, 'similarity': 0.005764251746535925, 'total': 2.7526632822949275}\n"
     ]
    },
    {
     "name": "stderr",
     "output_type": "stream",
     "text": [
      "Train Epoch 40/50: 100%|███████████████████████████████████████████████████████████| 1553/1553 [09:12<00:00,  2.81it/s]\n"
     ]
    },
    {
     "name": "stdout",
     "output_type": "stream",
     "text": [
      "Epoch 40, Losses: {'contrastive': 2.780091933565453, 'adversarial': -0.006097130433051185, 'similarity': 0.0061794547478057306, 'total': 2.78070987621892}\n"
     ]
    },
    {
     "name": "stderr",
     "output_type": "stream",
     "text": [
      "Train Epoch 41/50: 100%|███████████████████████████████████████████████████████████| 1553/1553 [18:44<00:00,  1.38it/s]\n"
     ]
    },
    {
     "name": "stdout",
     "output_type": "stream",
     "text": [
      "Epoch 41, Losses: {'contrastive': 2.7754576353587725, 'adversarial': -0.006372250932438511, 'similarity': 0.006432862532266919, 'total': 2.7761009231507203}\n"
     ]
    },
    {
     "name": "stderr",
     "output_type": "stream",
     "text": [
      "Train Epoch 42/50: 100%|███████████████████████████████████████████████████████████| 1553/1553 [28:15<00:00,  1.09s/it]\n"
     ]
    },
    {
     "name": "stdout",
     "output_type": "stream",
     "text": [
      "Epoch 42, Losses: {'contrastive': 2.7824320410883816, 'adversarial': -0.007187329295960286, 'similarity': 0.007107279118161267, 'total': 2.783142772706493}\n"
     ]
    },
    {
     "name": "stderr",
     "output_type": "stream",
     "text": [
      "Train Epoch 43/50: 100%|███████████████████████████████████████████████████████████| 1553/1553 [37:16<00:00,  1.44s/it]\n"
     ]
    },
    {
     "name": "stdout",
     "output_type": "stream",
     "text": [
      "Epoch 43, Losses: {'contrastive': 2.855771768269659, 'adversarial': -0.007698649682970544, 'similarity': 0.007571251177470663, 'total': 2.8565288943317118}\n"
     ]
    },
    {
     "name": "stderr",
     "output_type": "stream",
     "text": [
      "Train Epoch 44/50: 100%|███████████████████████████████████████████████████████████| 1553/1553 [11:51<00:00,  2.18it/s]\n"
     ]
    },
    {
     "name": "stdout",
     "output_type": "stream",
     "text": [
      "Epoch 44, Losses: {'contrastive': 2.8261750318584946, 'adversarial': -0.007666976607290108, 'similarity': 0.007675767805743951, 'total': 2.826942607731644}\n"
     ]
    },
    {
     "name": "stderr",
     "output_type": "stream",
     "text": [
      "Train Epoch 45/50: 100%|███████████████████████████████████████████████████████████| 1553/1553 [12:08<00:00,  2.13it/s]\n"
     ]
    },
    {
     "name": "stdout",
     "output_type": "stream",
     "text": [
      "Epoch 45, Losses: {'contrastive': 2.835218757640448, 'adversarial': -0.008011934788824471, 'similarity': 0.008225697316847027, 'total': 2.8360413307538743}\n"
     ]
    },
    {
     "name": "stderr",
     "output_type": "stream",
     "text": [
      "Train Epoch 46/50: 100%|███████████████████████████████████████████████████████████| 1553/1553 [12:17<00:00,  2.11it/s]\n"
     ]
    },
    {
     "name": "stdout",
     "output_type": "stream",
     "text": [
      "Epoch 46, Losses: {'contrastive': 2.7790552093686403, 'adversarial': -0.00809892841224383, 'similarity': 0.008062502257441964, 'total': 2.779861456029122}\n"
     ]
    },
    {
     "name": "stderr",
     "output_type": "stream",
     "text": [
      "Train Epoch 47/50: 100%|███████████████████████████████████████████████████████████| 1553/1553 [12:10<00:00,  2.13it/s]\n"
     ]
    },
    {
     "name": "stdout",
     "output_type": "stream",
     "text": [
      "Epoch 47, Losses: {'contrastive': 2.7469651615397055, 'adversarial': -0.008854261347610222, 'similarity': 0.008628800554238187, 'total': 2.7478280415937197}\n"
     ]
    },
    {
     "name": "stderr",
     "output_type": "stream",
     "text": [
      "Train Epoch 48/50: 100%|███████████████████████████████████████████████████████████| 1553/1553 [12:22<00:00,  2.09it/s]\n"
     ]
    },
    {
     "name": "stdout",
     "output_type": "stream",
     "text": [
      "Epoch 48, Losses: {'contrastive': 2.744010975187391, 'adversarial': -0.008798275725509437, 'similarity': 0.008961790064991442, 'total': 2.7449071543952073}\n"
     ]
    },
    {
     "name": "stderr",
     "output_type": "stream",
     "text": [
      "Train Epoch 49/50: 100%|███████████████████████████████████████████████████████████| 1553/1553 [12:19<00:00,  2.10it/s]\n"
     ]
    },
    {
     "name": "stdout",
     "output_type": "stream",
     "text": [
      "Epoch 49, Losses: {'contrastive': 2.727302418627128, 'adversarial': -0.009186991676028532, 'similarity': 0.009185440081225064, 'total': 2.7282209624341434}\n"
     ]
    },
    {
     "name": "stderr",
     "output_type": "stream",
     "text": [
      "Train Epoch 50/50: 100%|███████████████████████████████████████████████████████████| 1553/1553 [11:51<00:00,  2.18it/s]\n"
     ]
    },
    {
     "name": "stdout",
     "output_type": "stream",
     "text": [
      "Epoch 50, Losses: {'contrastive': 2.7366841472661347, 'adversarial': -0.009587227682302978, 'similarity': 0.009615160049588754, 'total': 2.7376456644484404}\n",
      "6. Training completed!\n",
      "7. Extracting final embeddings for XAI...\n"
     ]
    },
    {
     "name": "stderr",
     "output_type": "stream",
     "text": [
      "Extracting embeddings: 100%|███████████████████████████████████████████████████████| 1553/1553 [00:17<00:00, 87.81it/s]\n"
     ]
    },
    {
     "name": "stdout",
     "output_type": "stream",
     "text": [
      "8. Final embeddings saved to ./embeddings/final_embeddings_20250226_233946.pkl\n",
      "9. Encoders saved in ./checkpoints/encoders/:\n",
      "   - Best encoder: best_encoder.pt\n",
      "   - Final encoder: final_encoder.pt\n",
      "   - Periodic encoders: encoder_epoch_*.pt\n"
     ]
    }
   ],
   "source": [
    "def main():\n",
    "     # Enable anomaly detection during development\n",
    "    torch.autograd.set_detect_anomaly(True)\n",
    "    # Your existing data loading code here\n",
    "    torch.manual_seed(42)\n",
    "    np.random.seed(42)\n",
    "    \n",
    "    print(\"Starting data loading...\")\n",
    "    extractor = MolecularFeatureExtractor()\n",
    "#     smiles_file = \"D:\\\\PhD\\\\Chapter3\\\\Unsupervised_GAN_Code\\\\pubchem-41-clean.txt\"\n",
    "    smiles_file = \"D:\\\\PhD\\\\Chapter3\\\\Unsupervised_GAN_Code\\\\pubchem-10m-clean_test50k.txt\"\n",
    "    \n",
    "    dataset = []\n",
    "    failed_smiles = []\n",
    "    \n",
    "    with open(smiles_file, 'r') as f:\n",
    "        for line in f:\n",
    "            smiles = line.strip()\n",
    "            data = extractor.process_molecule(smiles)\n",
    "            if data is not None:\n",
    "                dataset.append(data)\n",
    "            else:\n",
    "                failed_smiles.append(smiles)\n",
    "    \n",
    "    print(f\"1. Loaded dataset with {len(dataset)} graphs.\")\n",
    "    print(f\"2. Failed SMILES count: {len(failed_smiles)}\")\n",
    "    \n",
    "    if not dataset:\n",
    "        print(\"No valid graphs generated.\")\n",
    "        return None\n",
    "        \n",
    "    # Setup training\n",
    "    batch_size = 32\n",
    "    train_loader = DataLoader(dataset, batch_size=batch_size, shuffle=True)\n",
    "    print(f\"3. Created DataLoader with {len(train_loader.dataset)} graphs\")\n",
    "    \n",
    "    # Set device\n",
    "    device = torch.device('cuda' if torch.cuda.is_available() else 'cpu')\n",
    "    print(f\"4. Using device: {device}\")\n",
    "    \n",
    "    # Get configuration based on dataset\n",
    "    config = get_model_config(dataset)\n",
    "    \n",
    "#     # Configure GAN-CL\n",
    "#     config = GanClConfig(\n",
    "#         node_dim=dataset[0].x_cat.shape[1] + dataset[0].x_phys.shape[1],\n",
    "#         edge_dim=dataset[0].edge_attr.shape[1],\n",
    "#         hidden_dim=128,\n",
    "#         output_dim=128,\n",
    "#         queue_size=65536,\n",
    "#         momentum=0.999,\n",
    "#         temperature=0.07,\n",
    "#         decay=0.99999,\n",
    "#         dropout_ratio=0.25\n",
    "#     )\n",
    "    \n",
    "    # Train model\n",
    "    print(\"5. Starting GAN-CL training...\")\n",
    "    model, metrics = train_gan_cl(\n",
    "        train_loader, \n",
    "        config,\n",
    "        device=device,\n",
    "        save_dir='./checkpoints',\n",
    "        embedding_dir='./embeddings'\n",
    "    )\n",
    "    \n",
    "    print(\"6. Training completed!\")\n",
    "    \n",
    "    # Extract embeddings for XAI\n",
    "    print(\"7. Extracting final embeddings for XAI...\")\n",
    "    model.eval()\n",
    "    with torch.no_grad():\n",
    "        all_embeddings = []\n",
    "        all_graphs = []\n",
    "        \n",
    "        for batch in tqdm(train_loader, desc=\"Extracting embeddings\"):\n",
    "            batch = batch.to(device)\n",
    "            embeddings = model.get_embeddings(batch)\n",
    "            all_embeddings.append(embeddings.cpu())\n",
    "            all_graphs.extend([data for data in batch])\n",
    "            \n",
    "    all_embeddings = torch.cat(all_embeddings, dim=0).numpy()\n",
    "    \n",
    "    # Save final embeddings and graphs\n",
    "#     final_embedding_path = './embeddings/final_embeddings.pkl'\n",
    "    final_embedding_path = f'./embeddings/final_embeddings_{timestamp}.pkl'\n",
    "    save_embeddings(all_embeddings, all_graphs, final_embedding_path)\n",
    "    print(f\"8. Final embeddings saved to {final_embedding_path}\")\n",
    "    \n",
    "    # Print encoder locations\n",
    "    print(f\"9. Encoders saved in ./checkpoints/encoders/:\")\n",
    "    print(f\"   - Best encoder: best_encoder.pt\")\n",
    "    print(f\"   - Final encoder: final_encoder.pt\")\n",
    "    print(f\"   - Periodic encoders: encoder_epoch_*.pt\")\n",
    "    \n",
    "    return model, metrics, all_embeddings, all_graphs\n",
    "\n",
    "if __name__ == \"__main__\":\n",
    "    model, metrics, embeddings, graphs = main()"
   ]
  },
  {
   "cell_type": "code",
   "execution_count": null,
   "id": "27d928ef",
   "metadata": {},
   "outputs": [],
   "source": []
  }
 ],
 "metadata": {
  "kernelspec": {
   "display_name": "Python 3 (ipykernel)",
   "language": "python",
   "name": "python3"
  },
  "language_info": {
   "codemirror_mode": {
    "name": "ipython",
    "version": 3
   },
   "file_extension": ".py",
   "mimetype": "text/x-python",
   "name": "python",
   "nbconvert_exporter": "python",
   "pygments_lexer": "ipython3",
   "version": "3.9.21"
  }
 },
 "nbformat": 4,
 "nbformat_minor": 5
}
