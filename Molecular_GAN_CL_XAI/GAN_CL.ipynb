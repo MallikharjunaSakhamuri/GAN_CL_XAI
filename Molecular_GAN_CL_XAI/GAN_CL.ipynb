{
 "cells": [
  {
   "cell_type": "code",
   "execution_count": 1,
   "id": "5379f427",
   "metadata": {},
   "outputs": [],
   "source": [
    "import torch\n",
    "from rdkit import Chem\n",
    "from rdkit.Chem import AllChem, Descriptors\n",
    "from typing import Tuple\n",
    "import numpy as np\n",
    "from torch_geometric.data import Data\n",
    "import random\n",
    "from torch_geometric.loader import DataLoader\n",
    "from torch_geometric.data import Data\n",
    "from rdkit import RDLogger\n",
    "from rdkit.Chem import RemoveHs\n",
    "\n",
    "# Suppress RDKit warnings\n",
    "RDLogger.DisableLog('rdApp.warning')"
   ]
  },
  {
   "cell_type": "code",
   "execution_count": 2,
   "id": "8de17bc6",
   "metadata": {},
   "outputs": [],
   "source": [
    "class MolecularFeatureExtractor:\n",
    "    def __init__(self):\n",
    "        self.atom_list = list(range(1, 119))\n",
    "        self.chirality_list = [\n",
    "            Chem.rdchem.ChiralType.CHI_UNSPECIFIED,\n",
    "            Chem.rdchem.ChiralType.CHI_TETRAHEDRAL_CW,\n",
    "            Chem.rdchem.ChiralType.CHI_TETRAHEDRAL_CCW,\n",
    "            Chem.rdchem.ChiralType.CHI_OTHER\n",
    "        ]\n",
    "        self.bond_list = [\n",
    "            Chem.rdchem.BondType.SINGLE,\n",
    "            Chem.rdchem.BondType.DOUBLE, \n",
    "            Chem.rdchem.BondType.TRIPLE,\n",
    "            Chem.rdchem.BondType.AROMATIC\n",
    "        ]\n",
    "        self.bonddir_list = [\n",
    "            Chem.rdchem.BondDir.NONE,\n",
    "            Chem.rdchem.BondDir.ENDUPRIGHT,\n",
    "            Chem.rdchem.BondDir.ENDDOWNRIGHT\n",
    "        ]\n",
    "\n",
    "    def calc_atom_features(self, atom: Chem.Atom) -> Tuple[list, list]:\n",
    "        \"\"\"Calculate atom features with better error handling\"\"\"\n",
    "        try:\n",
    "            # Basic features\n",
    "            atom_feat = [\n",
    "                self.atom_list.index(atom.GetAtomicNum()),\n",
    "                self.chirality_list.index(atom.GetChiralTag())\n",
    "            ]\n",
    "\n",
    "            # Physical features with error handling\n",
    "            phys_feat = []\n",
    "            \n",
    "            # Molecular weight contribution\n",
    "            try:\n",
    "                contrib_mw = Descriptors.ExactMolWt(Chem.MolFromSmiles(f'[{atom.GetSymbol()}]'))\n",
    "                phys_feat.append(contrib_mw)\n",
    "            except:\n",
    "                phys_feat.append(0.0)\n",
    "                \n",
    "            # LogP contribution    \n",
    "            try:\n",
    "                contrib_logp = Descriptors.MolLogP(Chem.MolFromSmiles(f'[{atom.GetSymbol()}]'))\n",
    "                phys_feat.append(contrib_logp)\n",
    "            except:\n",
    "                phys_feat.append(0.0)\n",
    "                \n",
    "            # Add other physical properties\n",
    "            phys_feat.extend([\n",
    "                atom.GetFormalCharge(),\n",
    "                int(atom.GetHybridization()),\n",
    "                int(atom.GetIsAromatic()),\n",
    "                atom.GetTotalNumHs(),\n",
    "                atom.GetTotalValence(),\n",
    "                atom.GetDegree()\n",
    "            ])\n",
    "            \n",
    "            return atom_feat, phys_feat\n",
    "            \n",
    "        except Exception as e:\n",
    "            print(f\"Error calculating atom features: {e}\")\n",
    "            return [0, 0], [0.0] * 9\n",
    "\n",
    "    def get_atom_features(self, mol: Chem.Mol) -> Tuple[torch.Tensor, torch.Tensor]:\n",
    "        \"\"\"Extract atom features for the whole molecule\"\"\"\n",
    "        atom_feats = []\n",
    "        phys_feats = []\n",
    "        \n",
    "        if mol is None:\n",
    "            return torch.tensor([[0, 0]], dtype=torch.long), torch.tensor([[0.0] * 9], dtype=torch.float)\n",
    "            \n",
    "        for atom in mol.GetAtoms():\n",
    "            atom_feat, phys_feat = self.calc_atom_features(atom)\n",
    "            atom_feats.append(atom_feat)\n",
    "            phys_feats.append(phys_feat)\n",
    "\n",
    "        x = torch.tensor(atom_feats, dtype=torch.long)\n",
    "        phys = torch.tensor(phys_feats, dtype=torch.float)\n",
    "        \n",
    "        return x, phys\n",
    "    \n",
    "    def remove_unbonded_hydrogens(mol):\n",
    "        params = Chem.RemoveHsParameters()\n",
    "        params.removeDegreeZero = True\n",
    "        mol = Chem.RemoveHs(mol, params)\n",
    "        return mol\n",
    "\n",
    "\n",
    "    def get_bond_features(self, mol: Chem.Mol) -> Tuple[torch.Tensor, torch.Tensor]:\n",
    "        \"\"\"Extract bond features with better error handling\"\"\"\n",
    "        if mol is None:\n",
    "            return torch.tensor([[0], [0]], dtype=torch.long), torch.tensor([[0.0] * 5], dtype=torch.float)\n",
    "            \n",
    "        row, col, edge_feat = [], [], []\n",
    "        \n",
    "        for bond in mol.GetBonds():\n",
    "            try:\n",
    "                start, end = bond.GetBeginAtomIdx(), bond.GetEndAtomIdx()\n",
    "                \n",
    "                # Add edges in both directions\n",
    "                row += [start, end]\n",
    "                col += [end, start]\n",
    "                \n",
    "                # Bond features\n",
    "                bond_type = self.bond_list.index(bond.GetBondType())\n",
    "                bond_dir = self.bonddir_list.index(bond.GetBondDir())\n",
    "                \n",
    "                # Calculate additional properties\n",
    "                feat = [\n",
    "                    bond_type,\n",
    "                    bond_dir,\n",
    "                    int(bond.GetIsConjugated()),\n",
    "                    int(self._is_rotatable(bond)),\n",
    "                    self._get_bond_length(mol, start, end)\n",
    "                ]\n",
    "                \n",
    "                edge_feat.extend([feat, feat])\n",
    "                \n",
    "            except Exception as e:\n",
    "                print(f\"Error processing bond: {e}\")\n",
    "                continue\n",
    "\n",
    "        if not row:  # If no valid bonds were processed\n",
    "            return torch.tensor([[0], [0]], dtype=torch.long), torch.tensor([[0.0] * 5], dtype=torch.float)\n",
    "\n",
    "        edge_index = torch.tensor([row, col], dtype=torch.long)\n",
    "        edge_attr = torch.tensor(edge_feat, dtype=torch.float)\n",
    "        \n",
    "        return edge_index, edge_attr\n",
    "\n",
    "    def _is_rotatable(self, bond: Chem.Bond) -> bool:\n",
    "        \"\"\"Check if bond is rotatable\"\"\"\n",
    "        return (bond.GetBondType() == Chem.rdchem.BondType.SINGLE and \n",
    "                not bond.IsInRing() and\n",
    "                len(bond.GetBeginAtom().GetNeighbors()) > 1 and\n",
    "                len(bond.GetEndAtom().GetNeighbors()) > 1)\n",
    "\n",
    "    def _get_bond_length(self, mol: Chem.Mol, start: int, end: int) -> float:\n",
    "        \"\"\"Get bond length with error handling\"\"\"\n",
    "        try:\n",
    "            conf = mol.GetConformer()\n",
    "            if conf.Is3D():\n",
    "                return Chem.rdMolTransforms.GetBondLength(conf, start, end)\n",
    "        except:\n",
    "            pass\n",
    "        return 0.0\n",
    "\n",
    "    def process_molecule(self, smiles: str) -> Data:\n",
    "        \"\"\"Process SMILES string to graph data\"\"\"\n",
    "        try:\n",
    "            mol = Chem.MolFromSmiles(smiles)\n",
    "            if mol is None:\n",
    "                print(f\"Invalid SMILES: {smiles}\")\n",
    "                return None  # Skip invalid molecules\n",
    "            mol = RemoveHs(mol)\n",
    "\n",
    "            # Add explicit hydrogens\n",
    "            mol = Chem.AddHs(mol, addCoords=True)\n",
    "\n",
    "            # Sanitize molecule\n",
    "            Chem.SanitizeMol(mol)\n",
    "\n",
    "            # Check if the molecule has atoms\n",
    "            if mol.GetNumAtoms() == 0:\n",
    "                print(\"Molecule has no atoms, skipping.\")\n",
    "                return None\n",
    "\n",
    "            # Generate 3D coordinates\n",
    "            if not mol.GetNumConformers():\n",
    "                status = AllChem.EmbedMolecule(mol, AllChem.ETKDG())\n",
    "                if status != 0:\n",
    "                    print(\"Failed to generate 3D conformer\")\n",
    "                    return None  # Skip failed molecules\n",
    "\n",
    "                # Try MMFF or UFF optimization\n",
    "                try:\n",
    "                    AllChem.MMFFOptimizeMolecule(mol)\n",
    "                except:\n",
    "                    AllChem.UFFOptimizeMolecule(mol)\n",
    "\n",
    "            # Extract features\n",
    "            x_cat, x_phys = self.get_atom_features(mol)\n",
    "            edge_index, edge_attr = self.get_bond_features(mol)\n",
    "\n",
    "            return Data(\n",
    "                x_cat=x_cat, \n",
    "                x_phys=x_phys,\n",
    "                edge_index=edge_index, \n",
    "                edge_attr=edge_attr,\n",
    "                num_nodes=x_cat.size(0)\n",
    "            )\n",
    "\n",
    "        except Exception as e:\n",
    "            print(f\"Error processing molecule {smiles}: {e}\")\n",
    "            return None\n"
   ]
  },
  {
   "cell_type": "code",
   "execution_count": 3,
   "id": "35a311ed",
   "metadata": {},
   "outputs": [],
   "source": [
    "import torch\n",
    "import torch.nn as nn\n",
    "import torch.nn.functional as F\n",
    "from torch_geometric.nn import GCNConv, global_mean_pool, MessagePassing\n",
    "from typing import Tuple, List, Optional\n",
    "import copy\n",
    "from dataclasses import dataclass\n",
    "\n",
    "class MemoryQueue:\n",
    "    \"\"\"Memory queue with temporal decay for contrastive learning\"\"\"\n",
    "    def __init__(self, size: int, dim: int, decay: float = 0.99999):\n",
    "        self.size = size\n",
    "        self.dim = dim\n",
    "        self.decay = decay\n",
    "        self.ptr = 0\n",
    "        self.full = False\n",
    "        \n",
    "        # Initialize queue\n",
    "        self.queue = nn.Parameter(F.normalize(torch.randn(size, dim), dim=1), requires_grad=False)\n",
    "        self.queue_age = nn.Parameter(torch.zeros(size), requires_grad=False)\n",
    "        \n",
    "#         self.register_buffer(\"queue\", torch.randn(size, dim))\n",
    "#         self.register_buffer(\"queue_age\", torch.zeros(size))  # Track age of each entry\n",
    "        self.queue = F.normalize(self.queue, dim=1)\n",
    "        \n",
    "    def update_queue(self, keys: torch.Tensor):\n",
    "        \"\"\"Update queue with new keys\"\"\"\n",
    "        batch_size = keys.shape[0]\n",
    "        \n",
    "        # Increment age of all entries\n",
    "        self.queue_age += 1\n",
    "        \n",
    "        # Add new keys\n",
    "        if self.ptr + batch_size <= self.size:\n",
    "            self.queue[self.ptr:self.ptr + batch_size] = keys\n",
    "            self.queue_age[self.ptr:self.ptr + batch_size] = 0\n",
    "        else:\n",
    "            # Handle overflow\n",
    "            rem = self.size - self.ptr\n",
    "            self.queue[self.ptr:] = keys[:rem]\n",
    "            self.queue[:batch_size-rem] = keys[rem:]\n",
    "            self.queue_age[self.ptr:] = 0\n",
    "            self.queue_age[:batch_size-rem] = 0\n",
    "            self.full = True\n",
    "            \n",
    "        self.ptr = (self.ptr + batch_size) % self.size\n",
    "        \n",
    "    def get_decay_weights(self) -> torch.Tensor:\n",
    "        \"\"\"Get temporal decay weights for queue entries\"\"\"\n",
    "        return self.decay ** self.queue_age\n",
    "        \n",
    "    def compute_contrastive_loss(self, query: torch.Tensor, positive_key: torch.Tensor, \n",
    "                                temperature: float = 0.07) -> torch.Tensor:\n",
    "        \"\"\"Compute contrastive loss with temporal decay\"\"\"\n",
    "        # Normalize embeddings\n",
    "        query = F.normalize(query, dim=1)\n",
    "        positive_key = F.normalize(positive_key, dim=1)\n",
    "        queue = F.normalize(self.queue, dim=1)\n",
    "        \n",
    "        # Compute logits\n",
    "        l_pos = torch.einsum('nc,nc->n', [query, positive_key]).unsqueeze(-1)\n",
    "        l_neg = torch.einsum('nc,ck->nk', [query, queue.T])\n",
    "        \n",
    "        # Apply temporal decay to negative samples\n",
    "        decay_weights = self.get_decay_weights()\n",
    "        l_neg = l_neg * decay_weights.unsqueeze(0)\n",
    "        \n",
    "        # Temperature scaling\n",
    "        logits = torch.cat([l_pos, l_neg], dim=1) / temperature\n",
    "        labels = torch.zeros(logits.shape[0], dtype=torch.long, device=query.device)\n",
    "        \n",
    "        return F.cross_entropy(logits, labels)\n",
    "\n",
    "class GraphGenerator(nn.Module):\n",
    "    \"\"\"Generator network with proper feature handling\"\"\"\n",
    "    def __init__(self, node_dim: int, edge_dim: int, hidden_dim: int = 128):\n",
    "        super().__init__()\n",
    "        \n",
    "        # Node feature processing\n",
    "        self.node_encoder = nn.Sequential(\n",
    "            nn.Linear(node_dim, hidden_dim),\n",
    "            nn.ReLU(),\n",
    "            nn.Linear(hidden_dim, hidden_dim)\n",
    "        )\n",
    "        \n",
    "        # Edge feature processing\n",
    "        self.edge_encoder = nn.Sequential(\n",
    "            nn.Linear(edge_dim, hidden_dim),\n",
    "            nn.ReLU(),\n",
    "            nn.Linear(hidden_dim, hidden_dim)\n",
    "        )\n",
    "        \n",
    "        # Graph convolution layers\n",
    "        self.conv1 = GCNConv(hidden_dim, hidden_dim)\n",
    "        self.conv2 = GCNConv(hidden_dim, hidden_dim)\n",
    "        self.conv3 = GCNConv(hidden_dim, hidden_dim)\n",
    "        \n",
    "        # Importance prediction layers\n",
    "        self.node_importance = nn.Sequential(\n",
    "            nn.Linear(hidden_dim, hidden_dim // 2),\n",
    "            nn.ReLU(),\n",
    "            nn.Linear(hidden_dim // 2, 1),\n",
    "            nn.Sigmoid()\n",
    "        )\n",
    "        \n",
    "        self.edge_importance = nn.Sequential(\n",
    "            nn.Linear(hidden_dim * 2, hidden_dim),\n",
    "            nn.ReLU(),\n",
    "            nn.Linear(hidden_dim, 1),\n",
    "            nn.Sigmoid()\n",
    "        )\n",
    "        \n",
    "    def normalize_features(self, x_cat, x_phys):\n",
    "        \"\"\"Normalize categorical and physical features separately\"\"\"\n",
    "        # Convert categorical features to one-hot\n",
    "        x_cat = x_cat.float()\n",
    "        \n",
    "        # Normalize physical features\n",
    "        x_phys = x_phys.float()\n",
    "        if x_phys.size(0) > 1:  # Only normalize if we have more than one sample\n",
    "            x_phys = (x_phys - x_phys.mean(0)) / (x_phys.std(0) + 1e-5)\n",
    "            \n",
    "        return x_cat, x_phys\n",
    "        \n",
    "    def forward(self, data) -> Tuple[torch.Tensor, torch.Tensor]:\n",
    "        # Normalize features\n",
    "        x_cat, x_phys = self.normalize_features(data.x_cat, data.x_phys)\n",
    "        \n",
    "        # Concatenate features\n",
    "        x = torch.cat([x_cat, x_phys], dim=-1)\n",
    "        \n",
    "        edge_index = data.edge_index\n",
    "        edge_attr = data.edge_attr.float()  # Ensure float type\n",
    "        \n",
    "        # Initial feature encoding\n",
    "        x = self.node_encoder(x)\n",
    "        edge_attr = self.edge_encoder(edge_attr)\n",
    "        \n",
    "        # Graph convolutions\n",
    "        x = F.relu(self.conv1(x, edge_index))  # Removed edge_attr from GCNConv\n",
    "        x = F.relu(self.conv2(x, edge_index))\n",
    "        x = self.conv3(x, edge_index)\n",
    "        \n",
    "        # Predict importance scores\n",
    "        node_scores = self.node_importance(x)\n",
    "        \n",
    "        # Edge scores using both connected nodes\n",
    "        edge_features = torch.cat([\n",
    "            x[edge_index[0]], \n",
    "            x[edge_index[1]]\n",
    "        ], dim=-1)\n",
    "        edge_scores = self.edge_importance(edge_features)\n",
    "        \n",
    "        return node_scores, edge_scores\n",
    "\n",
    "def get_model_config(dataset):\n",
    "    \"\"\"Get model configuration based on dataset features\"\"\"\n",
    "    sample_data = dataset[0]\n",
    "    \n",
    "    # Calculate input dimensions\n",
    "    node_dim = sample_data.x_cat.shape[1] + sample_data.x_phys.shape[1]\n",
    "    edge_dim = sample_data.edge_attr.shape[1]\n",
    "    \n",
    "    config = GanClConfig(\n",
    "        node_dim=node_dim,\n",
    "        edge_dim=edge_dim,\n",
    "        hidden_dim=128,\n",
    "        output_dim=128,\n",
    "        queue_size=65536,\n",
    "        momentum=0.999,\n",
    "        temperature=0.07,\n",
    "        decay=0.99999,\n",
    "        dropout_ratio=0.25\n",
    "    )\n",
    "    \n",
    "    return config\n",
    "\n",
    "class GraphDiscriminator(nn.Module):\n",
    "    \"\"\"Discriminator/Encoder network\"\"\"\n",
    "    def __init__(self, node_dim: int, edge_dim: int, hidden_dim: int = 128, output_dim: int = 128):\n",
    "        super().__init__()\n",
    "        \n",
    "        # Feature encoding\n",
    "        self.node_encoder = nn.Sequential(\n",
    "            nn.Linear(node_dim, hidden_dim),\n",
    "            nn.ReLU(),\n",
    "            nn.Linear(hidden_dim, hidden_dim)\n",
    "        )\n",
    "        \n",
    "        self.edge_encoder = nn.Sequential(\n",
    "            nn.Linear(edge_dim, hidden_dim),\n",
    "            nn.ReLU(),\n",
    "            nn.Linear(hidden_dim, hidden_dim)\n",
    "        )\n",
    "        \n",
    "        # Graph convolution layers\n",
    "        self.conv1 = GCNConv(hidden_dim, hidden_dim)\n",
    "        self.conv2 = GCNConv(hidden_dim, hidden_dim)\n",
    "        self.conv3 = GCNConv(hidden_dim, output_dim)\n",
    "        \n",
    "        # Projection head for contrastive learning\n",
    "        self.projection = nn.Sequential(\n",
    "            nn.Linear(output_dim, hidden_dim),\n",
    "            nn.ReLU(),\n",
    "            nn.Linear(hidden_dim, output_dim)\n",
    "        )\n",
    "        \n",
    "    def normalize_features(self, x_cat, x_phys):\n",
    "        \"\"\"Normalize categorical and physical features separately\"\"\"\n",
    "        # Convert categorical features to one-hot\n",
    "        x_cat = x_cat.float()\n",
    "        \n",
    "        # Normalize physical features\n",
    "        x_phys = x_phys.float()\n",
    "        if x_phys.size(0) > 1:  # Only normalize if we have more than one sample\n",
    "            x_phys = (x_phys - x_phys.mean(0)) / (x_phys.std(0) + 1e-5)\n",
    "            \n",
    "        return x_cat, x_phys \n",
    "        \n",
    "    def forward(self, data):\n",
    "        # Normalize features\n",
    "        x_cat, x_phys = self.normalize_features(data.x_cat, data.x_phys)\n",
    "        \n",
    "        # Concatenate features\n",
    "        x = torch.cat([x_cat, x_phys], dim=-1)\n",
    "        \n",
    "        edge_index = data.edge_index\n",
    "        edge_attr = data.edge_attr.float()  # Ensure float type\n",
    "        batch = data.batch\n",
    "        \n",
    "        # Initial feature encoding\n",
    "        x = self.node_encoder(x)\n",
    "        edge_attr = self.edge_encoder(edge_attr)\n",
    "        \n",
    "        # Graph convolutions\n",
    "        x = F.relu(self.conv1(x, edge_index))  # Removed edge_attr from GCNConv\n",
    "        x = F.relu(self.conv2(x, edge_index))\n",
    "        x = self.conv3(x, edge_index)\n",
    "        \n",
    "        # Global pooling\n",
    "        x = global_mean_pool(x, batch)\n",
    "        \n",
    "        # Projection\n",
    "        x = self.projection(x)\n",
    "        \n",
    "        return x\n",
    "\n",
    "@dataclass\n",
    "class GanClConfig:\n",
    "    \"\"\"Configuration for GAN-CL training\"\"\"\n",
    "    node_dim: int\n",
    "    edge_dim: int\n",
    "    hidden_dim: int = 128\n",
    "    output_dim: int = 128\n",
    "    queue_size: int = 65536\n",
    "    momentum: float = 0.999\n",
    "    temperature: float = 0.07\n",
    "    decay: float = 0.99999\n",
    "    dropout_ratio: float = 0.25\n",
    "\n",
    "class MolecularGANCL(nn.Module):\n",
    "    \"\"\"Combined GAN and Contrastive Learning framework\"\"\"\n",
    "    def __init__(self, config: GanClConfig):\n",
    "        super().__init__()\n",
    "        self.config = config\n",
    "        \n",
    "        # Initialize networks\n",
    "        self.generator = GraphGenerator(\n",
    "            config.node_dim, \n",
    "            config.edge_dim, \n",
    "            config.hidden_dim\n",
    "        )\n",
    "        \n",
    "        self.encoder = GraphDiscriminator(\n",
    "            config.node_dim,\n",
    "            config.edge_dim,\n",
    "            config.hidden_dim,\n",
    "            config.output_dim\n",
    "        )\n",
    "        \n",
    "        # Create momentum encoder\n",
    "        self.momentum_encoder = copy.deepcopy(self.encoder)\n",
    "        for param in self.momentum_encoder.parameters():\n",
    "            param.requires_grad = False\n",
    "            \n",
    "        # Initialize memory queue\n",
    "        self.memory_queue = MemoryQueue(\n",
    "            config.queue_size,\n",
    "            config.output_dim,\n",
    "            config.decay\n",
    "        )\n",
    "        \n",
    "    @torch.no_grad()\n",
    "    def _momentum_update(self):\n",
    "        \"\"\"Update momentum encoder\"\"\"\n",
    "        for param_q, param_k in zip(self.encoder.parameters(), \n",
    "                                  self.momentum_encoder.parameters()):\n",
    "            param_k.data = self.config.momentum * param_k.data + \\\n",
    "                          (1 - self.config.momentum) * param_q.data\n",
    "                          \n",
    "    def drop_graph_elements(self, data, node_scores: torch.Tensor, \n",
    "                          edge_scores: torch.Tensor) -> Data:\n",
    "        \"\"\"Apply dropout to graph based on importance scores\"\"\"\n",
    "        # Select elements to keep based on scores and dropout ratio\n",
    "#         node_mask = (node_scores < self.config.dropout_ratio).float()\n",
    "#         edge_mask = (edge_scores < self.config.dropout_ratio).float()\n",
    "\n",
    "        node_mask = (torch.rand_like(node_scores) > self.config.dropout_ratio).float()\n",
    "        edge_mask = (torch.rand_like(edge_scores) > self.config.dropout_ratio).float()\n",
    "        \n",
    "        # Apply masks\n",
    "        x_cat_new = data.x_cat * node_mask\n",
    "        x_phys_new = data.x_phys * node_mask\n",
    "        edge_attr_new = data.edge_attr * edge_mask\n",
    "        \n",
    "        # Create new graph data object\n",
    "        return Data(\n",
    "            x_cat=x_cat_new,\n",
    "            x_phys=x_phys_new,\n",
    "            edge_index=data.edge_index,\n",
    "            edge_attr=edge_attr_new,\n",
    "            batch=data.batch\n",
    "        )\n",
    "        \n",
    "    def forward(self, data) -> Tuple[torch.Tensor, torch.Tensor, torch.Tensor]:\n",
    "        \"\"\"\n",
    "        Forward pass returning losses for both GAN and CL\n",
    "        Returns:\n",
    "            contrastive_loss: Loss for contrastive learning\n",
    "            adversarial_loss: Loss for adversarial training\n",
    "            similarity_loss: Loss measuring embedding similarity\n",
    "        \"\"\"\n",
    "        # Generate importance scores\n",
    "        node_scores, edge_scores = self.generator(data)\n",
    "        \n",
    "        # Create perturbed graph\n",
    "        perturbed_data = self.drop_graph_elements(data, node_scores, edge_scores)\n",
    "        \n",
    "        # Get embeddings\n",
    "        query_emb = self.encoder(perturbed_data)\n",
    "        original_emb = self.encoder(data)\n",
    "        \n",
    "        with torch.no_grad():\n",
    "            self._momentum_update()\n",
    "            key_emb = self.momentum_encoder(data)\n",
    "            \n",
    "        # Compute losses\n",
    "        contrastive_loss = self.memory_queue.compute_contrastive_loss(\n",
    "            query_emb, key_emb, self.config.temperature\n",
    "        )\n",
    "        \n",
    "        adversarial_loss = -torch.mean(torch.abs(original_emb - query_emb))\n",
    "        similarity_loss = F.mse_loss(query_emb, original_emb)\n",
    "        \n",
    "        # Update memory queue\n",
    "        self.memory_queue.update_queue(key_emb.detach())\n",
    "        \n",
    "        return contrastive_loss, adversarial_loss, similarity_loss\n",
    "    \n",
    "    def get_embeddings(self, data) -> torch.Tensor:\n",
    "        \"\"\"Get embeddings for downstream tasks\"\"\"\n",
    "        with torch.no_grad():\n",
    "            return self.encoder(data)"
   ]
  },
  {
   "cell_type": "code",
   "execution_count": 4,
   "id": "8e90813e",
   "metadata": {},
   "outputs": [],
   "source": [
    "import torch\n",
    "import numpy as np\n",
    "from torch_geometric.data import DataLoader\n",
    "import os\n",
    "import json\n",
    "from tqdm import tqdm\n",
    "import pickle\n",
    "from datetime import datetime\n",
    "\n",
    "def save_embeddings(embeddings, labels, filepath):\n",
    "    \"\"\"Save embeddings and corresponding labels\"\"\"\n",
    "    with open(filepath, 'wb') as f:\n",
    "        pickle.dump({\n",
    "            'embeddings': embeddings,\n",
    "            'labels': labels\n",
    "        }, f)\n",
    "\n",
    "def save_encoder(encoder, save_path, info=None):\n",
    "    \"\"\"Save encoder model for downstream tasks\"\"\"\n",
    "    save_dict = {\n",
    "        'encoder_state_dict': encoder.state_dict(),\n",
    "        'model_info': info or {}\n",
    "    }\n",
    "    torch.save(save_dict, save_path)\n",
    "\n",
    "def load_encoder(model_path, device='cpu'):\n",
    "    \"\"\"Load saved encoder model\"\"\"\n",
    "    checkpoint = torch.load(model_path, map_location=device)\n",
    "    encoder = GraphDiscriminator(\n",
    "        node_dim=checkpoint['model_info'].get('node_dim'),\n",
    "        edge_dim=checkpoint['model_info'].get('edge_dim'),\n",
    "        hidden_dim=checkpoint['model_info'].get('hidden_dim', 128),\n",
    "        output_dim=checkpoint['model_info'].get('output_dim', 128)\n",
    "    )\n",
    "    encoder.load_state_dict(checkpoint['encoder_state_dict'])\n",
    "    return encoder        \n",
    "        \n",
    "def train_gan_cl(train_loader, config, device='cuda', \n",
    "                save_dir='./checkpoints', \n",
    "                embedding_dir='./embeddings'):\n",
    "    \"\"\"Main training function for GAN-CL with fixed gradient computation\"\"\"\n",
    "    \n",
    "    # Create directories\n",
    "    os.makedirs(save_dir, exist_ok=True)\n",
    "    os.makedirs(embedding_dir, exist_ok=True)\n",
    "    encoder_dir = os.path.join(save_dir, 'encoders')\n",
    "    os.makedirs(encoder_dir, exist_ok=True)    \n",
    "    \n",
    "    # Initialize model\n",
    "    model = MolecularGANCL(config).to(device)\n",
    "    \n",
    "    # Initialize optimizers\n",
    "    optimizer_encoder = torch.optim.Adam(model.encoder.parameters(), lr=3e-4)\n",
    "    optimizer_generator = torch.optim.Adam(model.generator.parameters(), lr=1e-4)\n",
    "    \n",
    "    # Save initial model info\n",
    "    model_info = {\n",
    "        'node_dim': config.node_dim,\n",
    "        'edge_dim': config.edge_dim,\n",
    "        'hidden_dim': config.hidden_dim,\n",
    "        'output_dim': config.output_dim,\n",
    "        'training_config': config.__dict__\n",
    "    }\n",
    "    \n",
    "    # Training phases as before...\n",
    "    best_loss = float('inf')\n",
    "    \n",
    "    # Training metrics\n",
    "    metrics = {\n",
    "        'contrastive_losses': [],\n",
    "        'adversarial_losses': [],\n",
    "        'similarity_losses': [],\n",
    "        'total_losses': []\n",
    "    }\n",
    "    \n",
    "    # Training phases\n",
    "    print(\"Phase 1: Pretraining Contrastive Learning...\")\n",
    "    pretrain_epochs = 10\n",
    "    for epoch in range(pretrain_epochs):\n",
    "        contrastive_epoch_loss = 0\n",
    "        \n",
    "        for batch in tqdm(train_loader, desc=f'Pretrain Epoch {epoch+1}/{pretrain_epochs}'):\n",
    "            batch = batch.to(device)\n",
    "            \n",
    "            # Forward pass (without generator)\n",
    "            query_emb = model.encoder(batch)\n",
    "            with torch.no_grad():\n",
    "                key_emb = model.momentum_encoder(batch)\n",
    "            \n",
    "            # Compute contrastive loss\n",
    "            contrastive_loss = model.memory_queue.compute_contrastive_loss(\n",
    "                query_emb, key_emb, model.config.temperature\n",
    "            )\n",
    "            \n",
    "            # Update encoder\n",
    "            optimizer_encoder.zero_grad()\n",
    "            contrastive_loss.backward()\n",
    "            optimizer_encoder.step()\n",
    "            \n",
    "            # Update momentum encoder\n",
    "            model._momentum_update()\n",
    "            \n",
    "            # Update memory queue\n",
    "            model.memory_queue.update_queue(key_emb.detach())\n",
    "            \n",
    "            contrastive_epoch_loss += contrastive_loss.item()\n",
    "            \n",
    "        avg_loss = contrastive_epoch_loss / len(train_loader)\n",
    "        metrics['contrastive_losses'].append(avg_loss)\n",
    "        print(f'Pretrain Epoch {epoch+1}, Avg Loss: {avg_loss:.4f}')\n",
    "        \n",
    "        # Save pretrained checkpoint\n",
    "        if (epoch + 1) % 5 == 0:\n",
    "            torch.save({\n",
    "                'epoch': epoch,\n",
    "                'model_state_dict': model.state_dict(),\n",
    "                'optimizer_encoder_state_dict': optimizer_encoder.state_dict(),\n",
    "                'loss': avg_loss,\n",
    "            }, os.path.join(save_dir, f'pretrain_checkpoint_{epoch+1}.pt'))\n",
    "    \n",
    "    print(\"\\nPhase 2: Training GAN-CL...\")\n",
    "    train_epochs = 50\n",
    "    for epoch in range(train_epochs):\n",
    "        epoch_losses = {\n",
    "            'contrastive': 0,\n",
    "            'adversarial': 0,\n",
    "            'similarity': 0,\n",
    "            'total': 0\n",
    "        }\n",
    "        \n",
    "        for batch in tqdm(train_loader, desc=f'Train Epoch {epoch+1}/{train_epochs}'):\n",
    "            batch = batch.to(device)\n",
    "            \n",
    "            # Step 1: Train Encoder\n",
    "            optimizer_encoder.zero_grad()\n",
    "            \n",
    "            # Get importance scores from generator\n",
    "            with torch.no_grad():\n",
    "                node_scores, edge_scores = model.generator(batch)\n",
    "            \n",
    "            # Create perturbed graph\n",
    "            perturbed_data = model.drop_graph_elements(batch, node_scores, edge_scores)\n",
    "            \n",
    "            # Get embeddings\n",
    "            query_emb = model.encoder(perturbed_data)\n",
    "            with torch.no_grad():\n",
    "                key_emb = model.momentum_encoder(batch)\n",
    "                original_emb = model.encoder(batch).detach()\n",
    "            \n",
    "            # Compute losses for encoder\n",
    "            contrastive_loss = model.memory_queue.compute_contrastive_loss(\n",
    "                query_emb, key_emb, model.config.temperature\n",
    "            )\n",
    "            similarity_loss = F.mse_loss(query_emb, original_emb)\n",
    "            \n",
    "            # Total loss for encoder\n",
    "            encoder_loss = contrastive_loss + 0.1 * similarity_loss\n",
    "            \n",
    "            # Update encoder\n",
    "            encoder_loss.backward()\n",
    "            optimizer_encoder.step()\n",
    "            \n",
    "            # Update momentum encoder\n",
    "            model._momentum_update()\n",
    "            \n",
    "            # Step 2: Train Generator\n",
    "            optimizer_generator.zero_grad()\n",
    "            \n",
    "            # Get new embeddings for adversarial loss\n",
    "            node_scores, edge_scores = model.generator(batch)\n",
    "            perturbed_data = model.drop_graph_elements(batch, node_scores, edge_scores)\n",
    "            \n",
    "            with torch.no_grad():\n",
    "                original_emb = model.encoder(batch)\n",
    "            perturbed_emb = model.encoder(perturbed_data)\n",
    "            \n",
    "            # Compute adversarial loss\n",
    "            adversarial_loss = -F.mse_loss(perturbed_emb, original_emb)\n",
    "            \n",
    "            # Update generator\n",
    "            adversarial_loss.backward()\n",
    "            optimizer_generator.step()\n",
    "            \n",
    "            # Update memory queue\n",
    "            model.memory_queue.update_queue(key_emb.detach())\n",
    "            \n",
    "            # Update metrics\n",
    "            epoch_losses['contrastive'] += contrastive_loss.item()\n",
    "            epoch_losses['adversarial'] += adversarial_loss.item()\n",
    "            epoch_losses['similarity'] += similarity_loss.item()\n",
    "            epoch_losses['total'] += encoder_loss.item()\n",
    "        \n",
    "        # Average losses\n",
    "        for k in epoch_losses:\n",
    "            epoch_losses[k] /= len(train_loader)\n",
    "            metrics[f'{k}_losses'].append(epoch_losses[k])\n",
    "        \n",
    "        print(f'Epoch {epoch+1}, Losses: {epoch_losses}')\n",
    "        \n",
    "        # Save checkpoint\n",
    "        if (epoch + 1) % 10 == 0:\n",
    "            torch.save({\n",
    "                'epoch': epoch,\n",
    "                'model_state_dict': model.state_dict(),\n",
    "                'optimizer_encoder_state_dict': optimizer_encoder.state_dict(),\n",
    "                'optimizer_generator_state_dict': optimizer_generator.state_dict(),\n",
    "                'losses': epoch_losses,\n",
    "            }, os.path.join(save_dir, f'gan_cl_checkpoint_{epoch+1}.pt'))\n",
    "            \n",
    "        # Extract and save embeddings periodically\n",
    "        if (epoch + 1) % 10 == 0:\n",
    "            model.eval()\n",
    "            all_embeddings = []\n",
    "            all_graphs = []\n",
    "            \n",
    "            with torch.no_grad():\n",
    "                for batch in train_loader:\n",
    "                    batch = batch.to(device)\n",
    "                    embeddings = model.get_embeddings(batch)\n",
    "                    all_embeddings.append(embeddings.cpu())\n",
    "                    all_graphs.extend([data for data in batch])\n",
    "            \n",
    "            all_embeddings = torch.cat(all_embeddings, dim=0)\n",
    "            \n",
    "            # Save embeddings\n",
    "            timestamp = datetime.now().strftime('%Y%m%d_%H%M%S')\n",
    "            save_embeddings(\n",
    "                all_embeddings.numpy(),\n",
    "                all_graphs,\n",
    "                os.path.join(embedding_dir, f'embeddings_epoch_{epoch+1}_{timestamp}.pkl')\n",
    "            )\n",
    "            \n",
    "            model.train()\n",
    "    \n",
    "    # Save final metrics\n",
    "    with open(os.path.join(save_dir, 'training_metrics.json'), 'w') as f:\n",
    "        json.dump(metrics, f)\n",
    "    \n",
    "            # Save encoder periodically\n",
    "        if (epoch + 1) % 10 == 0:\n",
    "            epoch_info = {\n",
    "                **model_info,\n",
    "                'epoch': epoch + 1,\n",
    "                'loss': epoch_losses['total']\n",
    "            }\n",
    "            save_encoder(\n",
    "                model.encoder,\n",
    "                os.path.join(encoder_dir, f'encoder_epoch_{epoch+1}.pt'),\n",
    "                epoch_info\n",
    "            )\n",
    "        \n",
    "        # Save best encoder based on total loss\n",
    "        if epoch_losses['total'] < best_loss:\n",
    "            best_loss = epoch_losses['total']\n",
    "            save_encoder(\n",
    "                model.encoder,\n",
    "                os.path.join(encoder_dir, 'best_encoder.pt'),\n",
    "                {**model_info, 'epoch': epoch + 1, 'loss': best_loss}\n",
    "            )\n",
    "    \n",
    "    # Save final encoder\n",
    "    save_encoder(\n",
    "        model.encoder,\n",
    "        os.path.join(encoder_dir, 'final_encoder.pt'),\n",
    "        {**model_info, 'epoch': train_epochs, 'loss': epoch_losses['total']}\n",
    "    )\n",
    "    \n",
    "    return model, metrics\n"
   ]
  },
  {
   "cell_type": "code",
   "execution_count": 5,
   "id": "4dbc0517",
   "metadata": {
    "scrolled": false
   },
   "outputs": [
    {
     "name": "stdout",
     "output_type": "stream",
     "text": [
      "Starting data loading...\n",
      "Failed to generate 3D conformer\n",
      "Failed to generate 3D conformer\n",
      "Failed to generate 3D conformer\n"
     ]
    },
    {
     "name": "stderr",
     "output_type": "stream",
     "text": [
      "[16:38:35] UFFTYPER: Unrecognized atom type: Se2+2 (17)\n"
     ]
    },
    {
     "name": "stdout",
     "output_type": "stream",
     "text": [
      "Failed to generate 3D conformer\n"
     ]
    },
    {
     "name": "stderr",
     "output_type": "stream",
     "text": [
      "[16:38:38] UFFTYPER: Unrecognized charge state for atom: 1\n"
     ]
    },
    {
     "name": "stdout",
     "output_type": "stream",
     "text": [
      "Failed to generate 3D conformer\n",
      "1. Loaded dataset with 397 graphs.\n",
      "2. Failed SMILES count: 5\n",
      "3. Created DataLoader with 397 graphs\n",
      "4. Using device: cpu\n",
      "5. Starting GAN-CL training...\n"
     ]
    },
    {
     "name": "stderr",
     "output_type": "stream",
     "text": [
      "C:\\Users\\Malli\\anaconda3\\envs\\baceenv\\lib\\site-packages\\torch_geometric\\deprecation.py:26: UserWarning: 'data.DataLoader' is deprecated, use 'loader.DataLoader' instead\n",
      "  warnings.warn(out)\n"
     ]
    },
    {
     "name": "stdout",
     "output_type": "stream",
     "text": [
      "Phase 1: Pretraining Contrastive Learning...\n"
     ]
    },
    {
     "name": "stderr",
     "output_type": "stream",
     "text": [
      "Pretrain Epoch 1/10: 100%|█████████████████████████████████████████████████████████████| 13/13 [00:01<00:00,  6.75it/s]\n"
     ]
    },
    {
     "name": "stdout",
     "output_type": "stream",
     "text": [
      "Pretrain Epoch 1, Avg Loss: 4.6552\n"
     ]
    },
    {
     "name": "stderr",
     "output_type": "stream",
     "text": [
      "Pretrain Epoch 2/10: 100%|█████████████████████████████████████████████████████████████| 13/13 [00:01<00:00,  6.84it/s]\n"
     ]
    },
    {
     "name": "stdout",
     "output_type": "stream",
     "text": [
      "Pretrain Epoch 2, Avg Loss: 6.1092\n"
     ]
    },
    {
     "name": "stderr",
     "output_type": "stream",
     "text": [
      "Pretrain Epoch 3/10: 100%|█████████████████████████████████████████████████████████████| 13/13 [00:02<00:00,  6.34it/s]\n"
     ]
    },
    {
     "name": "stdout",
     "output_type": "stream",
     "text": [
      "Pretrain Epoch 3, Avg Loss: 6.4764\n"
     ]
    },
    {
     "name": "stderr",
     "output_type": "stream",
     "text": [
      "Pretrain Epoch 4/10: 100%|█████████████████████████████████████████████████████████████| 13/13 [00:02<00:00,  6.15it/s]\n"
     ]
    },
    {
     "name": "stdout",
     "output_type": "stream",
     "text": [
      "Pretrain Epoch 4, Avg Loss: 6.7511\n"
     ]
    },
    {
     "name": "stderr",
     "output_type": "stream",
     "text": [
      "Pretrain Epoch 5/10: 100%|█████████████████████████████████████████████████████████████| 13/13 [00:01<00:00,  6.58it/s]\n"
     ]
    },
    {
     "name": "stdout",
     "output_type": "stream",
     "text": [
      "Pretrain Epoch 5, Avg Loss: 6.9143\n"
     ]
    },
    {
     "name": "stderr",
     "output_type": "stream",
     "text": [
      "Pretrain Epoch 6/10: 100%|█████████████████████████████████████████████████████████████| 13/13 [00:01<00:00,  6.84it/s]\n"
     ]
    },
    {
     "name": "stdout",
     "output_type": "stream",
     "text": [
      "Pretrain Epoch 6, Avg Loss: 7.0698\n"
     ]
    },
    {
     "name": "stderr",
     "output_type": "stream",
     "text": [
      "Pretrain Epoch 7/10: 100%|█████████████████████████████████████████████████████████████| 13/13 [00:01<00:00,  6.83it/s]\n"
     ]
    },
    {
     "name": "stdout",
     "output_type": "stream",
     "text": [
      "Pretrain Epoch 7, Avg Loss: 7.1939\n"
     ]
    },
    {
     "name": "stderr",
     "output_type": "stream",
     "text": [
      "Pretrain Epoch 8/10: 100%|█████████████████████████████████████████████████████████████| 13/13 [00:02<00:00,  6.44it/s]\n"
     ]
    },
    {
     "name": "stdout",
     "output_type": "stream",
     "text": [
      "Pretrain Epoch 8, Avg Loss: 7.2831\n"
     ]
    },
    {
     "name": "stderr",
     "output_type": "stream",
     "text": [
      "Pretrain Epoch 9/10: 100%|█████████████████████████████████████████████████████████████| 13/13 [00:02<00:00,  6.38it/s]\n"
     ]
    },
    {
     "name": "stdout",
     "output_type": "stream",
     "text": [
      "Pretrain Epoch 9, Avg Loss: 7.3691\n"
     ]
    },
    {
     "name": "stderr",
     "output_type": "stream",
     "text": [
      "Pretrain Epoch 10/10: 100%|████████████████████████████████████████████████████████████| 13/13 [00:01<00:00,  6.59it/s]\n"
     ]
    },
    {
     "name": "stdout",
     "output_type": "stream",
     "text": [
      "Pretrain Epoch 10, Avg Loss: 7.4304\n",
      "\n",
      "Phase 2: Training GAN-CL...\n"
     ]
    },
    {
     "name": "stderr",
     "output_type": "stream",
     "text": [
      "Train Epoch 1/50: 100%|████████████████████████████████████████████████████████████████| 13/13 [00:04<00:00,  3.15it/s]\n"
     ]
    },
    {
     "name": "stdout",
     "output_type": "stream",
     "text": [
      "Epoch 1, Losses: {'contrastive': 7.706097199366643, 'adversarial': -0.0006047741581614201, 'similarity': 0.0005707601309180832, 'total': 7.7061543464660645}\n"
     ]
    },
    {
     "name": "stderr",
     "output_type": "stream",
     "text": [
      "Train Epoch 2/50: 100%|████████████████████████████████████████████████████████████████| 13/13 [00:04<00:00,  3.04it/s]\n"
     ]
    },
    {
     "name": "stdout",
     "output_type": "stream",
     "text": [
      "Epoch 2, Losses: {'contrastive': 7.669712250049297, 'adversarial': -0.0005941907449876174, 'similarity': 0.0006228644230689567, 'total': 7.669774568997896}\n"
     ]
    },
    {
     "name": "stderr",
     "output_type": "stream",
     "text": [
      "Train Epoch 3/50: 100%|████████████████████████████████████████████████████████████████| 13/13 [00:04<00:00,  3.17it/s]\n"
     ]
    },
    {
     "name": "stdout",
     "output_type": "stream",
     "text": [
      "Epoch 3, Losses: {'contrastive': 7.708826578580416, 'adversarial': -0.0005725304609558617, 'similarity': 0.0006167498090340254, 'total': 7.708888273972732}\n"
     ]
    },
    {
     "name": "stderr",
     "output_type": "stream",
     "text": [
      "Train Epoch 4/50: 100%|████████████████████████████████████████████████████████████████| 13/13 [00:04<00:00,  3.05it/s]\n"
     ]
    },
    {
     "name": "stdout",
     "output_type": "stream",
     "text": [
      "Epoch 4, Losses: {'contrastive': 7.7228118456327, 'adversarial': -0.000633134560372967, 'similarity': 0.0006356180170909143, 'total': 7.722875338334304}\n"
     ]
    },
    {
     "name": "stderr",
     "output_type": "stream",
     "text": [
      "Train Epoch 5/50: 100%|████████████████████████████████████████████████████████████████| 13/13 [00:04<00:00,  3.07it/s]\n"
     ]
    },
    {
     "name": "stdout",
     "output_type": "stream",
     "text": [
      "Epoch 5, Losses: {'contrastive': 7.722977014688345, 'adversarial': -0.0006155915504608017, 'similarity': 0.0005506445147777692, 'total': 7.723032107720008}\n"
     ]
    },
    {
     "name": "stderr",
     "output_type": "stream",
     "text": [
      "Train Epoch 6/50: 100%|████████████████████████████████████████████████████████████████| 13/13 [00:04<00:00,  3.21it/s]\n"
     ]
    },
    {
     "name": "stdout",
     "output_type": "stream",
     "text": [
      "Epoch 6, Losses: {'contrastive': 7.73885022676908, 'adversarial': -0.0006341060910087365, 'similarity': 0.0005957282824405971, 'total': 7.738909794734075}\n"
     ]
    },
    {
     "name": "stderr",
     "output_type": "stream",
     "text": [
      "Train Epoch 7/50: 100%|████████████████████████████████████████████████████████████████| 13/13 [00:04<00:00,  3.06it/s]\n"
     ]
    },
    {
     "name": "stdout",
     "output_type": "stream",
     "text": [
      "Epoch 7, Losses: {'contrastive': 7.717137300051176, 'adversarial': -0.0006529632597588575, 'similarity': 0.0006308327831972677, 'total': 7.717200425954966}\n"
     ]
    },
    {
     "name": "stderr",
     "output_type": "stream",
     "text": [
      "Train Epoch 8/50: 100%|████████████████████████████████████████████████████████████████| 13/13 [00:04<00:00,  3.17it/s]\n"
     ]
    },
    {
     "name": "stdout",
     "output_type": "stream",
     "text": [
      "Epoch 8, Losses: {'contrastive': 7.726694914010855, 'adversarial': -0.0005400236628842182, 'similarity': 0.0005688592970657807, 'total': 7.726751804351807}\n"
     ]
    },
    {
     "name": "stderr",
     "output_type": "stream",
     "text": [
      "Train Epoch 9/50: 100%|████████████████████████████████████████████████████████████████| 13/13 [00:04<00:00,  3.06it/s]\n"
     ]
    },
    {
     "name": "stdout",
     "output_type": "stream",
     "text": [
      "Epoch 9, Losses: {'contrastive': 7.728627938490647, 'adversarial': -0.0005072676397573489, 'similarity': 0.0005199697938783524, 'total': 7.7286799137408915}\n"
     ]
    },
    {
     "name": "stderr",
     "output_type": "stream",
     "text": [
      "Train Epoch 10/50: 100%|███████████████████████████████████████████████████████████████| 13/13 [00:04<00:00,  3.10it/s]\n"
     ]
    },
    {
     "name": "stdout",
     "output_type": "stream",
     "text": [
      "Epoch 10, Losses: {'contrastive': 7.704584048344539, 'adversarial': -0.0005138122181121546, 'similarity': 0.0005341046467387619, 'total': 7.70463752746582}\n"
     ]
    },
    {
     "name": "stderr",
     "output_type": "stream",
     "text": [
      "Train Epoch 11/50: 100%|███████████████████████████████████████████████████████████████| 13/13 [00:04<00:00,  3.16it/s]\n"
     ]
    },
    {
     "name": "stdout",
     "output_type": "stream",
     "text": [
      "Epoch 11, Losses: {'contrastive': 7.6994566183823805, 'adversarial': -0.0005237226678918188, 'similarity': 0.0005702240898524626, 'total': 7.699513582082895}\n"
     ]
    },
    {
     "name": "stderr",
     "output_type": "stream",
     "text": [
      "Train Epoch 12/50: 100%|███████████████████████████████████████████████████████████████| 13/13 [00:04<00:00,  2.85it/s]\n"
     ]
    },
    {
     "name": "stdout",
     "output_type": "stream",
     "text": [
      "Epoch 12, Losses: {'contrastive': 7.6806116837721605, 'adversarial': -0.00044770564552611456, 'similarity': 0.00043091593901268567, 'total': 7.6806547458355245}\n"
     ]
    },
    {
     "name": "stderr",
     "output_type": "stream",
     "text": [
      "Train Epoch 13/50: 100%|███████████████████████████████████████████████████████████████| 13/13 [00:04<00:00,  3.14it/s]\n"
     ]
    },
    {
     "name": "stdout",
     "output_type": "stream",
     "text": [
      "Epoch 13, Losses: {'contrastive': 7.676091707669771, 'adversarial': -0.00042436516378074884, 'similarity': 0.0004577109827480924, 'total': 7.676137484036959}\n"
     ]
    },
    {
     "name": "stderr",
     "output_type": "stream",
     "text": [
      "Train Epoch 14/50: 100%|███████████████████████████████████████████████████████████████| 13/13 [00:04<00:00,  3.03it/s]\n"
     ]
    },
    {
     "name": "stdout",
     "output_type": "stream",
     "text": [
      "Epoch 14, Losses: {'contrastive': 7.664036787473238, 'adversarial': -0.0005220542348419818, 'similarity': 0.0005538632820109621, 'total': 7.6640921372633715}\n"
     ]
    },
    {
     "name": "stderr",
     "output_type": "stream",
     "text": [
      "Train Epoch 15/50: 100%|███████████████████████████████████████████████████████████████| 13/13 [00:04<00:00,  3.11it/s]\n"
     ]
    },
    {
     "name": "stdout",
     "output_type": "stream",
     "text": [
      "Epoch 15, Losses: {'contrastive': 7.635131689218374, 'adversarial': -0.0005276481477686992, 'similarity': 0.000513652827626524, 'total': 7.635183077592116}\n"
     ]
    },
    {
     "name": "stderr",
     "output_type": "stream",
     "text": [
      "Train Epoch 16/50: 100%|███████████████████████████████████████████████████████████████| 13/13 [00:04<00:00,  3.13it/s]\n"
     ]
    },
    {
     "name": "stdout",
     "output_type": "stream",
     "text": [
      "Epoch 16, Losses: {'contrastive': 7.614208661592924, 'adversarial': -0.0004610629738845791, 'similarity': 0.0004810637798912537, 'total': 7.61425674878634}\n"
     ]
    },
    {
     "name": "stderr",
     "output_type": "stream",
     "text": [
      "Train Epoch 17/50: 100%|███████████████████████████████████████████████████████████████| 13/13 [00:04<00:00,  3.11it/s]\n"
     ]
    },
    {
     "name": "stdout",
     "output_type": "stream",
     "text": [
      "Epoch 17, Losses: {'contrastive': 7.605614295372596, 'adversarial': -0.00046748431318869384, 'similarity': 0.0005194004625082016, 'total': 7.605666197263277}\n"
     ]
    },
    {
     "name": "stderr",
     "output_type": "stream",
     "text": [
      "Train Epoch 18/50: 100%|███████████████████████████████████████████████████████████████| 13/13 [00:04<00:00,  3.15it/s]\n"
     ]
    },
    {
     "name": "stdout",
     "output_type": "stream",
     "text": [
      "Epoch 18, Losses: {'contrastive': 7.584592782534086, 'adversarial': -0.0004899169725831598, 'similarity': 0.0005023234317867229, 'total': 7.584643033834604}\n"
     ]
    },
    {
     "name": "stderr",
     "output_type": "stream",
     "text": [
      "Train Epoch 19/50: 100%|███████████████████████████████████████████████████████████████| 13/13 [00:04<00:00,  2.97it/s]\n"
     ]
    },
    {
     "name": "stdout",
     "output_type": "stream",
     "text": [
      "Epoch 19, Losses: {'contrastive': 7.542650919694167, 'adversarial': -0.0004673386328459646, 'similarity': 0.00044696091656358197, 'total': 7.542695558988131}\n"
     ]
    },
    {
     "name": "stderr",
     "output_type": "stream",
     "text": [
      "Train Epoch 20/50: 100%|███████████████████████████████████████████████████████████████| 13/13 [00:04<00:00,  3.21it/s]\n"
     ]
    },
    {
     "name": "stdout",
     "output_type": "stream",
     "text": [
      "Epoch 20, Losses: {'contrastive': 7.512714055868296, 'adversarial': -0.00046433610035679664, 'similarity': 0.0005237194373666381, 'total': 7.512766434596135}\n"
     ]
    },
    {
     "name": "stderr",
     "output_type": "stream",
     "text": [
      "Train Epoch 21/50: 100%|███████████████████████████████████████████████████████████████| 13/13 [00:04<00:00,  3.05it/s]\n"
     ]
    },
    {
     "name": "stdout",
     "output_type": "stream",
     "text": [
      "Epoch 21, Losses: {'contrastive': 7.488494946406438, 'adversarial': -0.000496066332114144, 'similarity': 0.0005022055747059102, 'total': 7.488545197706956}\n"
     ]
    },
    {
     "name": "stderr",
     "output_type": "stream",
     "text": [
      "Train Epoch 22/50: 100%|███████████████████████████████████████████████████████████████| 13/13 [00:04<00:00,  3.12it/s]\n"
     ]
    },
    {
     "name": "stdout",
     "output_type": "stream",
     "text": [
      "Epoch 22, Losses: {'contrastive': 7.449380251077505, 'adversarial': -0.0004755713251562646, 'similarity': 0.0004981757665518671, 'total': 7.449430062220647}\n"
     ]
    },
    {
     "name": "stderr",
     "output_type": "stream",
     "text": [
      "Train Epoch 23/50: 100%|███████████████████████████████████████████████████████████████| 13/13 [00:04<00:00,  3.19it/s]\n"
     ]
    },
    {
     "name": "stdout",
     "output_type": "stream",
     "text": [
      "Epoch 23, Losses: {'contrastive': 7.442277614886944, 'adversarial': -0.0004891140896898622, 'similarity': 0.0005128935422712507, 'total': 7.442328893221342}\n"
     ]
    },
    {
     "name": "stderr",
     "output_type": "stream",
     "text": [
      "Train Epoch 24/50: 100%|███████████████████████████████████████████████████████████████| 13/13 [00:04<00:00,  3.08it/s]\n"
     ]
    },
    {
     "name": "stdout",
     "output_type": "stream",
     "text": [
      "Epoch 24, Losses: {'contrastive': 7.395681784703181, 'adversarial': -0.0004503590283163178, 'similarity': 0.00046446014983722795, 'total': 7.395728257986216}\n"
     ]
    },
    {
     "name": "stderr",
     "output_type": "stream",
     "text": [
      "Train Epoch 25/50: 100%|███████████████████████████████████████████████████████████████| 13/13 [00:04<00:00,  3.18it/s]\n"
     ]
    },
    {
     "name": "stdout",
     "output_type": "stream",
     "text": [
      "Epoch 25, Losses: {'contrastive': 7.333456442906306, 'adversarial': -0.00045742820321510616, 'similarity': 0.0004798666005416845, 'total': 7.333504456740159}\n"
     ]
    },
    {
     "name": "stderr",
     "output_type": "stream",
     "text": [
      "Train Epoch 26/50: 100%|███████████████████████████████████████████████████████████████| 13/13 [00:04<00:00,  3.06it/s]\n"
     ]
    },
    {
     "name": "stdout",
     "output_type": "stream",
     "text": [
      "Epoch 26, Losses: {'contrastive': 7.327721118927002, 'adversarial': -0.0005170731903770223, 'similarity': 0.0005093262924884374, 'total': 7.327772067143367}\n"
     ]
    },
    {
     "name": "stderr",
     "output_type": "stream",
     "text": [
      "Train Epoch 27/50: 100%|███████████████████████████████████████████████████████████████| 13/13 [00:04<00:00,  3.13it/s]\n"
     ]
    },
    {
     "name": "stdout",
     "output_type": "stream",
     "text": [
      "Epoch 27, Losses: {'contrastive': 7.28427714567918, 'adversarial': -0.0005567484544231915, 'similarity': 0.0005061267852747383, 'total': 7.284327763777513}\n"
     ]
    },
    {
     "name": "stderr",
     "output_type": "stream",
     "text": [
      "Train Epoch 28/50: 100%|███████████████████████████████████████████████████████████████| 13/13 [00:04<00:00,  3.14it/s]\n"
     ]
    },
    {
     "name": "stdout",
     "output_type": "stream",
     "text": [
      "Epoch 28, Losses: {'contrastive': 7.268845411447378, 'adversarial': -0.00047777983351037477, 'similarity': 0.0005082897774767703, 'total': 7.268896212944617}\n"
     ]
    },
    {
     "name": "stderr",
     "output_type": "stream",
     "text": [
      "Train Epoch 29/50: 100%|███████████████████████████████████████████████████████████████| 13/13 [00:04<00:00,  3.04it/s]\n"
     ]
    },
    {
     "name": "stdout",
     "output_type": "stream",
     "text": [
      "Epoch 29, Losses: {'contrastive': 7.243943727933443, 'adversarial': -0.0004906712856609374, 'similarity': 0.0004894758637349766, 'total': 7.24399262208205}\n"
     ]
    },
    {
     "name": "stderr",
     "output_type": "stream",
     "text": [
      "Train Epoch 30/50: 100%|███████████████████████████████████████████████████████████████| 13/13 [00:04<00:00,  3.23it/s]\n"
     ]
    },
    {
     "name": "stdout",
     "output_type": "stream",
     "text": [
      "Epoch 30, Losses: {'contrastive': 7.179747141324556, 'adversarial': -0.0005208368887766623, 'similarity': 0.00043367041731611465, 'total': 7.179790533505953}\n"
     ]
    },
    {
     "name": "stderr",
     "output_type": "stream",
     "text": [
      "Train Epoch 31/50: 100%|███████████████████████████████████████████████████████████████| 13/13 [00:04<00:00,  3.06it/s]\n"
     ]
    },
    {
     "name": "stdout",
     "output_type": "stream",
     "text": [
      "Epoch 31, Losses: {'contrastive': 7.1403242624723, 'adversarial': -0.0005822869626661906, 'similarity': 0.0005131078763112712, 'total': 7.140375577486479}\n"
     ]
    },
    {
     "name": "stderr",
     "output_type": "stream",
     "text": [
      "Train Epoch 32/50: 100%|███████████████████████████████████████████████████████████████| 13/13 [00:04<00:00,  3.11it/s]\n"
     ]
    },
    {
     "name": "stdout",
     "output_type": "stream",
     "text": [
      "Epoch 32, Losses: {'contrastive': 7.12304427073552, 'adversarial': -0.0005459086006829658, 'similarity': 0.0005307310829476381, 'total': 7.1230973830589885}\n"
     ]
    },
    {
     "name": "stderr",
     "output_type": "stream",
     "text": [
      "Train Epoch 33/50: 100%|███████████████████████████████████████████████████████████████| 13/13 [00:04<00:00,  3.12it/s]\n"
     ]
    },
    {
     "name": "stdout",
     "output_type": "stream",
     "text": [
      "Epoch 33, Losses: {'contrastive': 7.087850057161772, 'adversarial': -0.0005509648494458256, 'similarity': 0.0005530352668406871, 'total': 7.087905370272123}\n"
     ]
    },
    {
     "name": "stderr",
     "output_type": "stream",
     "text": [
      "Train Epoch 34/50: 100%|███████████████████████████████████████████████████████████████| 13/13 [00:04<00:00,  2.99it/s]\n"
     ]
    },
    {
     "name": "stdout",
     "output_type": "stream",
     "text": [
      "Epoch 34, Losses: {'contrastive': 7.028794948871319, 'adversarial': -0.0005617415836940592, 'similarity': 0.0005307901726784901, 'total': 7.028847987835224}\n"
     ]
    },
    {
     "name": "stderr",
     "output_type": "stream",
     "text": [
      "Train Epoch 35/50: 100%|███████████████████████████████████████████████████████████████| 13/13 [00:04<00:00,  3.14it/s]\n"
     ]
    },
    {
     "name": "stdout",
     "output_type": "stream",
     "text": [
      "Epoch 35, Losses: {'contrastive': 7.018270089076116, 'adversarial': -0.0005209805542388215, 'similarity': 0.0005638674819447959, 'total': 7.018326502579909}\n"
     ]
    },
    {
     "name": "stderr",
     "output_type": "stream",
     "text": [
      "Train Epoch 36/50: 100%|███████████████████████████████████████████████████████████████| 13/13 [00:04<00:00,  3.09it/s]\n"
     ]
    },
    {
     "name": "stdout",
     "output_type": "stream",
     "text": [
      "Epoch 36, Losses: {'contrastive': 6.990226672245906, 'adversarial': -0.0005851619554540286, 'similarity': 0.0005700545779501016, 'total': 6.9902837093059835}\n"
     ]
    },
    {
     "name": "stderr",
     "output_type": "stream",
     "text": [
      "Train Epoch 37/50: 100%|███████████████████████████████████████████████████████████████| 13/13 [00:04<00:00,  3.24it/s]\n"
     ]
    },
    {
     "name": "stdout",
     "output_type": "stream",
     "text": [
      "Epoch 37, Losses: {'contrastive': 6.949682969313401, 'adversarial': -0.0005281559737900702, 'similarity': 0.0005227932482599639, 'total': 6.94973531136146}\n"
     ]
    },
    {
     "name": "stderr",
     "output_type": "stream",
     "text": [
      "Train Epoch 38/50: 100%|███████████████████████████████████████████████████████████████| 13/13 [00:04<00:00,  3.07it/s]\n"
     ]
    },
    {
     "name": "stdout",
     "output_type": "stream",
     "text": [
      "Epoch 38, Losses: {'contrastive': 6.9080071816077595, 'adversarial': -0.0005638800592770657, 'similarity': 0.0005188588044033027, 'total': 6.90805904681866}\n"
     ]
    },
    {
     "name": "stderr",
     "output_type": "stream",
     "text": [
      "Train Epoch 39/50: 100%|███████████████████████████████████████████████████████████████| 13/13 [00:04<00:00,  3.12it/s]\n"
     ]
    },
    {
     "name": "stdout",
     "output_type": "stream",
     "text": [
      "Epoch 39, Losses: {'contrastive': 6.909762712625357, 'adversarial': -0.0005682685407989013, 'similarity': 0.0005398884957405523, 'total': 6.9098166685837965}\n"
     ]
    },
    {
     "name": "stderr",
     "output_type": "stream",
     "text": [
      "Train Epoch 40/50: 100%|███████████████████████████████████████████████████████████████| 13/13 [00:04<00:00,  3.10it/s]\n"
     ]
    },
    {
     "name": "stdout",
     "output_type": "stream",
     "text": [
      "Epoch 40, Losses: {'contrastive': 6.903601756462684, 'adversarial': -0.0005732920052161297, 'similarity': 0.0006206382263021973, 'total': 6.903663818652813}\n"
     ]
    },
    {
     "name": "stderr",
     "output_type": "stream",
     "text": [
      "Train Epoch 41/50: 100%|███████████████████████████████████████████████████████████████| 13/13 [00:04<00:00,  3.01it/s]\n"
     ]
    },
    {
     "name": "stdout",
     "output_type": "stream",
     "text": [
      "Epoch 41, Losses: {'contrastive': 6.844861617455115, 'adversarial': -0.0006918677513917478, 'similarity': 0.0006565779868441706, 'total': 6.8449272742638225}\n"
     ]
    },
    {
     "name": "stderr",
     "output_type": "stream",
     "text": [
      "Train Epoch 42/50: 100%|███████████████████████████████████████████████████████████████| 13/13 [00:05<00:00,  2.45it/s]\n"
     ]
    },
    {
     "name": "stdout",
     "output_type": "stream",
     "text": [
      "Epoch 42, Losses: {'contrastive': 6.804459755237286, 'adversarial': -0.0005525188753381371, 'similarity': 0.0005759478618319218, 'total': 6.804517379173865}\n"
     ]
    },
    {
     "name": "stderr",
     "output_type": "stream",
     "text": [
      "Train Epoch 43/50: 100%|███████████████████████████████████████████████████████████████| 13/13 [00:04<00:00,  2.81it/s]\n"
     ]
    },
    {
     "name": "stdout",
     "output_type": "stream",
     "text": [
      "Epoch 43, Losses: {'contrastive': 6.794143493358906, 'adversarial': -0.0006987940645418488, 'similarity': 0.0005975442092256764, 'total': 6.794203208043025}\n"
     ]
    },
    {
     "name": "stderr",
     "output_type": "stream",
     "text": [
      "Train Epoch 44/50: 100%|███████████████████████████████████████████████████████████████| 13/13 [00:04<00:00,  3.22it/s]\n"
     ]
    },
    {
     "name": "stdout",
     "output_type": "stream",
     "text": [
      "Epoch 44, Losses: {'contrastive': 6.776719570159912, 'adversarial': -0.0006407162290997803, 'similarity': 0.0006057270063767926, 'total': 6.776780201838567}\n"
     ]
    },
    {
     "name": "stderr",
     "output_type": "stream",
     "text": [
      "Train Epoch 45/50: 100%|███████████████████████████████████████████████████████████████| 13/13 [00:04<00:00,  2.88it/s]\n"
     ]
    },
    {
     "name": "stdout",
     "output_type": "stream",
     "text": [
      "Epoch 45, Losses: {'contrastive': 6.712311011094314, 'adversarial': -0.0006414836075586769, 'similarity': 0.000623107471395857, 'total': 6.7123733300429125}\n"
     ]
    },
    {
     "name": "stderr",
     "output_type": "stream",
     "text": [
      "Train Epoch 46/50: 100%|███████████████████████████████████████████████████████████████| 13/13 [00:04<00:00,  3.09it/s]\n"
     ]
    },
    {
     "name": "stdout",
     "output_type": "stream",
     "text": [
      "Epoch 46, Losses: {'contrastive': 6.677046445699839, 'adversarial': -0.0006836728649572111, 'similarity': 0.0007262945784112582, 'total': 6.677119108346792}\n"
     ]
    },
    {
     "name": "stderr",
     "output_type": "stream",
     "text": [
      "Train Epoch 47/50: 100%|███████████████████████████████████████████████████████████████| 13/13 [00:04<00:00,  2.75it/s]\n"
     ]
    },
    {
     "name": "stdout",
     "output_type": "stream",
     "text": [
      "Epoch 47, Losses: {'contrastive': 6.685994258293738, 'adversarial': -0.0006714242738850701, 'similarity': 0.0007265576233084386, 'total': 6.686066884260911}\n"
     ]
    },
    {
     "name": "stderr",
     "output_type": "stream",
     "text": [
      "Train Epoch 48/50: 100%|███████████████████████████████████████████████████████████████| 13/13 [00:04<00:00,  3.20it/s]\n"
     ]
    },
    {
     "name": "stdout",
     "output_type": "stream",
     "text": [
      "Epoch 48, Losses: {'contrastive': 6.627720502706675, 'adversarial': -0.0007385410628138253, 'similarity': 0.0006017488843868845, 'total': 6.627780657548171}\n"
     ]
    },
    {
     "name": "stderr",
     "output_type": "stream",
     "text": [
      "Train Epoch 49/50: 100%|███████████████████████████████████████████████████████████████| 13/13 [00:04<00:00,  3.00it/s]\n"
     ]
    },
    {
     "name": "stdout",
     "output_type": "stream",
     "text": [
      "Epoch 49, Losses: {'contrastive': 6.609088017390325, 'adversarial': -0.0007057215082638252, 'similarity': 0.0006788085223748707, 'total': 6.609155985025259}\n"
     ]
    },
    {
     "name": "stderr",
     "output_type": "stream",
     "text": [
      "Train Epoch 50/50: 100%|███████████████████████████████████████████████████████████████| 13/13 [00:05<00:00,  2.44it/s]\n"
     ]
    },
    {
     "name": "stdout",
     "output_type": "stream",
     "text": [
      "Epoch 50, Losses: {'contrastive': 6.580638115222637, 'adversarial': -0.0007157067325002012, 'similarity': 0.0006788143520959868, 'total': 6.580705972818228}\n",
      "6. Training completed!\n",
      "7. Extracting final embeddings for XAI...\n"
     ]
    },
    {
     "name": "stderr",
     "output_type": "stream",
     "text": [
      "Extracting embeddings: 100%|███████████████████████████████████████████████████████████| 13/13 [00:00<00:00, 98.27it/s]"
     ]
    },
    {
     "name": "stdout",
     "output_type": "stream",
     "text": [
      "8. Final embeddings saved to ./embeddings/final_embeddings.pkl\n",
      "9. Encoders saved in ./checkpoints/encoders/:\n",
      "   - Best encoder: best_encoder.pt\n",
      "   - Final encoder: final_encoder.pt\n",
      "   - Periodic encoders: encoder_epoch_*.pt\n"
     ]
    },
    {
     "name": "stderr",
     "output_type": "stream",
     "text": [
      "\n"
     ]
    }
   ],
   "source": [
    "def main():\n",
    "     # Enable anomaly detection during development\n",
    "    torch.autograd.set_detect_anomaly(True)\n",
    "    # Your existing data loading code here\n",
    "    torch.manual_seed(42)\n",
    "    np.random.seed(42)\n",
    "    \n",
    "    print(\"Starting data loading...\")\n",
    "    extractor = MolecularFeatureExtractor()\n",
    "#     smiles_file = \"D:\\\\PhD\\\\Chapter3\\\\Unsupervised_GAN_Code\\\\pubchem-41-clean.txt\"\n",
    "    smiles_file = \"D:\\\\PhD\\\\Chapter3\\\\Unsupervised_GAN_Code\\\\pubchem-10m-clean_test.txt\"\n",
    "    \n",
    "    dataset = []\n",
    "    failed_smiles = []\n",
    "    \n",
    "    with open(smiles_file, 'r') as f:\n",
    "        for line in f:\n",
    "            smiles = line.strip()\n",
    "            data = extractor.process_molecule(smiles)\n",
    "            if data is not None:\n",
    "                dataset.append(data)\n",
    "            else:\n",
    "                failed_smiles.append(smiles)\n",
    "    \n",
    "    print(f\"1. Loaded dataset with {len(dataset)} graphs.\")\n",
    "    print(f\"2. Failed SMILES count: {len(failed_smiles)}\")\n",
    "    \n",
    "    if not dataset:\n",
    "        print(\"No valid graphs generated.\")\n",
    "        return None\n",
    "        \n",
    "    # Setup training\n",
    "    batch_size = 32\n",
    "    train_loader = DataLoader(dataset, batch_size=batch_size, shuffle=True)\n",
    "    print(f\"3. Created DataLoader with {len(train_loader.dataset)} graphs\")\n",
    "    \n",
    "    # Set device\n",
    "    device = torch.device('cuda' if torch.cuda.is_available() else 'cpu')\n",
    "    print(f\"4. Using device: {device}\")\n",
    "    \n",
    "    # Get configuration based on dataset\n",
    "    config = get_model_config(dataset)\n",
    "    \n",
    "#     # Configure GAN-CL\n",
    "#     config = GanClConfig(\n",
    "#         node_dim=dataset[0].x_cat.shape[1] + dataset[0].x_phys.shape[1],\n",
    "#         edge_dim=dataset[0].edge_attr.shape[1],\n",
    "#         hidden_dim=128,\n",
    "#         output_dim=128,\n",
    "#         queue_size=65536,\n",
    "#         momentum=0.999,\n",
    "#         temperature=0.07,\n",
    "#         decay=0.99999,\n",
    "#         dropout_ratio=0.25\n",
    "#     )\n",
    "    \n",
    "    # Train model\n",
    "    print(\"5. Starting GAN-CL training...\")\n",
    "    model, metrics = train_gan_cl(\n",
    "        train_loader, \n",
    "        config,\n",
    "        device=device,\n",
    "        save_dir='./checkpoints',\n",
    "        embedding_dir='./embeddings'\n",
    "    )\n",
    "    \n",
    "    print(\"6. Training completed!\")\n",
    "    \n",
    "    # Extract embeddings for XAI\n",
    "    print(\"7. Extracting final embeddings for XAI...\")\n",
    "    model.eval()\n",
    "    with torch.no_grad():\n",
    "        all_embeddings = []\n",
    "        all_graphs = []\n",
    "        \n",
    "        for batch in tqdm(train_loader, desc=\"Extracting embeddings\"):\n",
    "            batch = batch.to(device)\n",
    "            embeddings = model.get_embeddings(batch)\n",
    "            all_embeddings.append(embeddings.cpu())\n",
    "            all_graphs.extend([data for data in batch])\n",
    "            \n",
    "    all_embeddings = torch.cat(all_embeddings, dim=0).numpy()\n",
    "    \n",
    "    # Save final embeddings and graphs\n",
    "    final_embedding_path = './embeddings/final_embeddings.pkl'\n",
    "    save_embeddings(all_embeddings, all_graphs, final_embedding_path)\n",
    "    print(f\"8. Final embeddings saved to {final_embedding_path}\")\n",
    "    \n",
    "    # Print encoder locations\n",
    "    print(f\"9. Encoders saved in ./checkpoints/encoders/:\")\n",
    "    print(f\"   - Best encoder: best_encoder.pt\")\n",
    "    print(f\"   - Final encoder: final_encoder.pt\")\n",
    "    print(f\"   - Periodic encoders: encoder_epoch_*.pt\")\n",
    "    \n",
    "    return model, metrics, all_embeddings, all_graphs\n",
    "\n",
    "if __name__ == \"__main__\":\n",
    "    model, metrics, embeddings, graphs = main()"
   ]
  },
  {
   "cell_type": "code",
   "execution_count": null,
   "id": "27d928ef",
   "metadata": {},
   "outputs": [],
   "source": []
  }
 ],
 "metadata": {
  "kernelspec": {
   "display_name": "Python 3 (ipykernel)",
   "language": "python",
   "name": "python3"
  },
  "language_info": {
   "codemirror_mode": {
    "name": "ipython",
    "version": 3
   },
   "file_extension": ".py",
   "mimetype": "text/x-python",
   "name": "python",
   "nbconvert_exporter": "python",
   "pygments_lexer": "ipython3",
   "version": "3.9.21"
  }
 },
 "nbformat": 4,
 "nbformat_minor": 5
}
